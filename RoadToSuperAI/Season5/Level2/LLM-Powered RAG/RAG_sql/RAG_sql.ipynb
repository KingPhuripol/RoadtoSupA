{
  "nbformat": 4,
  "nbformat_minor": 0,
  "metadata": {
    "colab": {
      "provenance": []
    },
    "kernelspec": {
      "name": "python3",
      "display_name": "Python 3"
    },
    "language_info": {
      "name": "python"
    }
  },
  "cells": [
    {
      "cell_type": "markdown",
      "source": [
        "# Build a Question/Answering system over SQL data\n",
        "\n",
        "![RAG with Structured Data](https://python.langchain.com/v0.2/assets/images/sql_usecase-d432701261f05ab69b38576093718cf3.png)"
      ],
      "metadata": {
        "id": "iKBgylQqwpqy"
      }
    },
    {
      "cell_type": "markdown",
      "source": [
        "## Setup"
      ],
      "metadata": {
        "id": "VAS5gT4mxMNb"
      }
    },
    {
      "cell_type": "code",
      "execution_count": 1,
      "metadata": {
        "colab": {
          "base_uri": "https://localhost:8080/"
        },
        "id": "1duLIwQth-UL",
        "outputId": "802064cf-e8c0-4a03-8ce5-767eaa6fd056"
      },
      "outputs": [
        {
          "output_type": "stream",
          "name": "stdout",
          "text": [
            "\u001b[?25l   \u001b[90m━━━━━━━━━━━━━━━━━━━━━━━━━━━━━━━━━━━━━━━━\u001b[0m \u001b[32m0.0/302.3 kB\u001b[0m \u001b[31m?\u001b[0m eta \u001b[36m-:--:--\u001b[0m\r\u001b[2K   \u001b[91m━━━━━━━━━━━━━━━━━━━━━━━━━━━━━━━━━━━━━━━\u001b[0m\u001b[90m╺\u001b[0m \u001b[32m297.0/302.3 kB\u001b[0m \u001b[31m13.9 MB/s\u001b[0m eta \u001b[36m0:00:01\u001b[0m\r\u001b[2K   \u001b[90m━━━━━━━━━━━━━━━━━━━━━━━━━━━━━━━━━━━━━━━━\u001b[0m \u001b[32m302.3/302.3 kB\u001b[0m \u001b[31m7.2 MB/s\u001b[0m eta \u001b[36m0:00:00\u001b[0m\n",
            "\u001b[?25h\u001b[?25l   \u001b[90m━━━━━━━━━━━━━━━━━━━━━━━━━━━━━━━━━━━━━━━━\u001b[0m \u001b[32m0.0/2.5 MB\u001b[0m \u001b[31m?\u001b[0m eta \u001b[36m-:--:--\u001b[0m\r\u001b[2K   \u001b[91m━━━━━━━━━━━━━━━━━━━━━━━━\u001b[0m\u001b[90m╺\u001b[0m\u001b[90m━━━━━━━━━━━━━━━\u001b[0m \u001b[32m1.5/2.5 MB\u001b[0m \u001b[31m42.8 MB/s\u001b[0m eta \u001b[36m0:00:01\u001b[0m\r\u001b[2K   \u001b[91m━━━━━━━━━━━━━━━━━━━━━━━━━━━━━━━━━━━━━━━\u001b[0m\u001b[91m╸\u001b[0m \u001b[32m2.5/2.5 MB\u001b[0m \u001b[31m33.8 MB/s\u001b[0m eta \u001b[36m0:00:01\u001b[0m\r\u001b[2K   \u001b[90m━━━━━━━━━━━━━━━━━━━━━━━━━━━━━━━━━━━━━━━━\u001b[0m \u001b[32m2.5/2.5 MB\u001b[0m \u001b[31m22.4 MB/s\u001b[0m eta \u001b[36m0:00:00\u001b[0m\n",
            "\u001b[2K   \u001b[90m━━━━━━━━━━━━━━━━━━━━━━━━━━━━━━━━━━━━━━━━\u001b[0m \u001b[32m746.6/746.6 kB\u001b[0m \u001b[31m20.9 MB/s\u001b[0m eta \u001b[36m0:00:00\u001b[0m\n",
            "\u001b[2K   \u001b[90m━━━━━━━━━━━━━━━━━━━━━━━━━━━━━━━━━━━━━━━━\u001b[0m \u001b[32m30.7/30.7 MB\u001b[0m \u001b[31m34.9 MB/s\u001b[0m eta \u001b[36m0:00:00\u001b[0m\n",
            "\u001b[2K   \u001b[90m━━━━━━━━━━━━━━━━━━━━━━━━━━━━━━━━━━━━━━━━\u001b[0m \u001b[32m1.2/1.2 MB\u001b[0m \u001b[31m31.8 MB/s\u001b[0m eta \u001b[36m0:00:00\u001b[0m\n",
            "\u001b[2K   \u001b[90m━━━━━━━━━━━━━━━━━━━━━━━━━━━━━━━━━━━━━━━━\u001b[0m \u001b[32m44.4/44.4 kB\u001b[0m \u001b[31m1.9 MB/s\u001b[0m eta \u001b[36m0:00:00\u001b[0m\n",
            "\u001b[2K   \u001b[90m━━━━━━━━━━━━━━━━━━━━━━━━━━━━━━━━━━━━━━━━\u001b[0m \u001b[32m363.4/363.4 MB\u001b[0m \u001b[31m1.5 MB/s\u001b[0m eta \u001b[36m0:00:00\u001b[0m\n",
            "\u001b[2K   \u001b[90m━━━━━━━━━━━━━━━━━━━━━━━━━━━━━━━━━━━━━━━━\u001b[0m \u001b[32m13.8/13.8 MB\u001b[0m \u001b[31m96.8 MB/s\u001b[0m eta \u001b[36m0:00:00\u001b[0m\n",
            "\u001b[2K   \u001b[90m━━━━━━━━━━━━━━━━━━━━━━━━━━━━━━━━━━━━━━━━\u001b[0m \u001b[32m24.6/24.6 MB\u001b[0m \u001b[31m79.6 MB/s\u001b[0m eta \u001b[36m0:00:00\u001b[0m\n",
            "\u001b[2K   \u001b[90m━━━━━━━━━━━━━━━━━━━━━━━━━━━━━━━━━━━━━━━━\u001b[0m \u001b[32m883.7/883.7 kB\u001b[0m \u001b[31m40.3 MB/s\u001b[0m eta \u001b[36m0:00:00\u001b[0m\n",
            "\u001b[2K   \u001b[90m━━━━━━━━━━━━━━━━━━━━━━━━━━━━━━━━━━━━━━━━\u001b[0m \u001b[32m664.8/664.8 MB\u001b[0m \u001b[31m3.0 MB/s\u001b[0m eta \u001b[36m0:00:00\u001b[0m\n",
            "\u001b[2K   \u001b[90m━━━━━━━━━━━━━━━━━━━━━━━━━━━━━━━━━━━━━━━━\u001b[0m \u001b[32m211.5/211.5 MB\u001b[0m \u001b[31m5.9 MB/s\u001b[0m eta \u001b[36m0:00:00\u001b[0m\n",
            "\u001b[2K   \u001b[90m━━━━━━━━━━━━━━━━━━━━━━━━━━━━━━━━━━━━━━━━\u001b[0m \u001b[32m56.3/56.3 MB\u001b[0m \u001b[31m12.7 MB/s\u001b[0m eta \u001b[36m0:00:00\u001b[0m\n",
            "\u001b[2K   \u001b[90m━━━━━━━━━━━━━━━━━━━━━━━━━━━━━━━━━━━━━━━━\u001b[0m \u001b[32m127.9/127.9 MB\u001b[0m \u001b[31m7.4 MB/s\u001b[0m eta \u001b[36m0:00:00\u001b[0m\n",
            "\u001b[2K   \u001b[90m━━━━━━━━━━━━━━━━━━━━━━━━━━━━━━━━━━━━━━━━\u001b[0m \u001b[32m207.5/207.5 MB\u001b[0m \u001b[31m5.5 MB/s\u001b[0m eta \u001b[36m0:00:00\u001b[0m\n",
            "\u001b[2K   \u001b[90m━━━━━━━━━━━━━━━━━━━━━━━━━━━━━━━━━━━━━━━━\u001b[0m \u001b[32m21.1/21.1 MB\u001b[0m \u001b[31m87.9 MB/s\u001b[0m eta \u001b[36m0:00:00\u001b[0m\n",
            "\u001b[2K   \u001b[90m━━━━━━━━━━━━━━━━━━━━━━━━━━━━━━━━━━━━━━━━\u001b[0m \u001b[32m50.9/50.9 kB\u001b[0m \u001b[31m3.5 MB/s\u001b[0m eta \u001b[36m0:00:00\u001b[0m\n",
            "\u001b[2K   \u001b[90m━━━━━━━━━━━━━━━━━━━━━━━━━━━━━━━━━━━━━━━━\u001b[0m \u001b[32m126.7/126.7 kB\u001b[0m \u001b[31m3.1 MB/s\u001b[0m eta \u001b[36m0:00:00\u001b[0m\n",
            "\u001b[?25h"
          ]
        }
      ],
      "source": [
        "## install Library\n",
        "!pip -q install pypdf sentence-transformers langchain langchain_community jq faiss-cpu tiktoken\n",
        "!pip -q install groq"
      ]
    },
    {
      "cell_type": "code",
      "source": [
        "# prompt: download folder with gdown\n",
        "\n",
        "!gdown --folder 1MGp7wWcJcduMm4nNmjzvN4egxxqKVq1N"
      ],
      "metadata": {
        "colab": {
          "base_uri": "https://localhost:8080/"
        },
        "id": "A5Gjv8AZiEVS",
        "outputId": "606a8140-267d-435d-847b-e07919b38f6b"
      },
      "execution_count": 2,
      "outputs": [
        {
          "output_type": "stream",
          "name": "stdout",
          "text": [
            "Retrieving folder contents\n",
            "Retrieving folder 1zcr11B0BXL1R2J2Ae9Rojg8cwGzIJIIO CSV\n",
            "Processing file 1li4MJ8pOGvkVVAburUFU_vOcZrcaYIRx customer_support_tickets.csv\n",
            "Processing file 1QcwBij2NEY-_C7g9mNZIWTwE2Q65UI6W Financial Statements.csv\n",
            "Processing file 1aZoSyDV-Fh0924cV8TIkGIjpzDGLTdPd spotify-2023.csv\n",
            "Processing file 17gevLHf1xTp4-qJRhy5qU9KNHqbBJEaM TBL3-Online-Shopping-Dataset.csv\n",
            "Retrieving folder 1z4hWnVJj_zCwhA1NLS8EJfk2XYNpJwFF QA\n",
            "Processing file 1Q7UB67kYhO7zjyj87sY-SyPHuUov90ku question_sample.json\n",
            "Processing file 1hnxmGkrguP51exD_Po5Rj-8Eu3Ldz-SN question_sample2.json\n",
            "Processing file 12lnJjDaBq5-wjxoPgNNhtP1tT8QoYP_Z question_sample3.json\n",
            "Processing file 1z5YBBmoHeG2oXwETUUtwumI--CldpKeR question_sample4.json\n",
            "Retrieving folder contents completed\n",
            "Building directory structure\n",
            "Building directory structure completed\n",
            "Downloading...\n",
            "From: https://drive.google.com/uc?id=1li4MJ8pOGvkVVAburUFU_vOcZrcaYIRx\n",
            "To: /content/dataset/CSV/customer_support_tickets.csv\n",
            "100% 3.95M/3.95M [00:00<00:00, 97.5MB/s]\n",
            "Downloading...\n",
            "From: https://drive.google.com/uc?id=1QcwBij2NEY-_C7g9mNZIWTwE2Q65UI6W\n",
            "To: /content/dataset/CSV/Financial Statements.csv\n",
            "100% 24.5k/24.5k [00:00<00:00, 46.8MB/s]\n",
            "Downloading...\n",
            "From: https://drive.google.com/uc?id=1aZoSyDV-Fh0924cV8TIkGIjpzDGLTdPd\n",
            "To: /content/dataset/CSV/spotify-2023.csv\n",
            "100% 106k/106k [00:00<00:00, 80.1MB/s]\n",
            "Downloading...\n",
            "From: https://drive.google.com/uc?id=17gevLHf1xTp4-qJRhy5qU9KNHqbBJEaM\n",
            "To: /content/dataset/CSV/TBL3-Online-Shopping-Dataset.csv\n",
            "100% 6.61M/6.61M [00:00<00:00, 249MB/s]\n",
            "Downloading...\n",
            "From: https://drive.google.com/uc?id=1Q7UB67kYhO7zjyj87sY-SyPHuUov90ku\n",
            "To: /content/dataset/QA/question_sample.json\n",
            "100% 405/405 [00:00<00:00, 938kB/s]\n",
            "Downloading...\n",
            "From: https://drive.google.com/uc?id=1hnxmGkrguP51exD_Po5Rj-8Eu3Ldz-SN\n",
            "To: /content/dataset/QA/question_sample2.json\n",
            "100% 1.04k/1.04k [00:00<00:00, 5.42MB/s]\n",
            "Downloading...\n",
            "From: https://drive.google.com/uc?id=12lnJjDaBq5-wjxoPgNNhtP1tT8QoYP_Z\n",
            "To: /content/dataset/QA/question_sample3.json\n",
            "100% 1.47k/1.47k [00:00<00:00, 6.97MB/s]\n",
            "Downloading...\n",
            "From: https://drive.google.com/uc?id=1z5YBBmoHeG2oXwETUUtwumI--CldpKeR\n",
            "To: /content/dataset/QA/question_sample4.json\n",
            "100% 1.03k/1.03k [00:00<00:00, 5.67MB/s]\n",
            "Download completed\n"
          ]
        }
      ]
    },
    {
      "cell_type": "markdown",
      "source": [
        "### install postgresql"
      ],
      "metadata": {
        "id": "soq-5943wJ6r"
      }
    },
    {
      "cell_type": "code",
      "source": [
        "!apt-get -y install postgresql postgresql-contrib"
      ],
      "metadata": {
        "colab": {
          "base_uri": "https://localhost:8080/"
        },
        "id": "8e-JSX7-jdhZ",
        "outputId": "1baead39-e717-474c-90ae-0a97bbbfa33d"
      },
      "execution_count": 3,
      "outputs": [
        {
          "output_type": "stream",
          "name": "stdout",
          "text": [
            "Reading package lists... Done\n",
            "Building dependency tree... Done\n",
            "Reading state information... Done\n",
            "The following additional packages will be installed:\n",
            "  libcommon-sense-perl libjson-perl libjson-xs-perl libtypes-serialiser-perl\n",
            "  logrotate netbase postgresql-14 postgresql-client-14\n",
            "  postgresql-client-common postgresql-common ssl-cert sysstat\n",
            "Suggested packages:\n",
            "  bsd-mailx | mailx postgresql-doc postgresql-doc-14 isag\n",
            "The following NEW packages will be installed:\n",
            "  libcommon-sense-perl libjson-perl libjson-xs-perl libtypes-serialiser-perl\n",
            "  logrotate netbase postgresql postgresql-14 postgresql-client-14\n",
            "  postgresql-client-common postgresql-common postgresql-contrib ssl-cert\n",
            "  sysstat\n",
            "0 upgraded, 14 newly installed, 0 to remove and 34 not upgraded.\n",
            "Need to get 18.4 MB of archives.\n",
            "After this operation, 52.0 MB of additional disk space will be used.\n",
            "Get:1 http://archive.ubuntu.com/ubuntu jammy-updates/main amd64 logrotate amd64 3.19.0-1ubuntu1.1 [54.3 kB]\n",
            "Get:2 http://archive.ubuntu.com/ubuntu jammy/main amd64 netbase all 6.3 [12.9 kB]\n",
            "Get:3 http://archive.ubuntu.com/ubuntu jammy/main amd64 libcommon-sense-perl amd64 3.75-2build1 [21.1 kB]\n",
            "Get:4 http://archive.ubuntu.com/ubuntu jammy/main amd64 libjson-perl all 4.04000-1 [81.8 kB]\n",
            "Get:5 http://archive.ubuntu.com/ubuntu jammy/main amd64 libtypes-serialiser-perl all 1.01-1 [11.6 kB]\n",
            "Get:6 http://archive.ubuntu.com/ubuntu jammy/main amd64 libjson-xs-perl amd64 4.030-1build3 [87.2 kB]\n",
            "Get:7 http://archive.ubuntu.com/ubuntu jammy/main amd64 postgresql-client-common all 238 [29.6 kB]\n",
            "Get:8 http://archive.ubuntu.com/ubuntu jammy-updates/main amd64 postgresql-client-14 amd64 14.17-0ubuntu0.22.04.1 [1,246 kB]\n",
            "Get:9 http://archive.ubuntu.com/ubuntu jammy/main amd64 ssl-cert all 1.1.2 [17.4 kB]\n",
            "Get:10 http://archive.ubuntu.com/ubuntu jammy/main amd64 postgresql-common all 238 [169 kB]\n",
            "Get:11 http://archive.ubuntu.com/ubuntu jammy-updates/main amd64 postgresql-14 amd64 14.17-0ubuntu0.22.04.1 [16.2 MB]\n",
            "Get:12 http://archive.ubuntu.com/ubuntu jammy/main amd64 postgresql all 14+238 [3,288 B]\n",
            "Get:13 http://archive.ubuntu.com/ubuntu jammy/main amd64 postgresql-contrib all 14+238 [3,292 B]\n",
            "Get:14 http://archive.ubuntu.com/ubuntu jammy-updates/main amd64 sysstat amd64 12.5.2-2ubuntu0.2 [487 kB]\n",
            "Fetched 18.4 MB in 1s (28.0 MB/s)\n",
            "Preconfiguring packages ...\n",
            "Selecting previously unselected package logrotate.\n",
            "(Reading database ... 126332 files and directories currently installed.)\n",
            "Preparing to unpack .../00-logrotate_3.19.0-1ubuntu1.1_amd64.deb ...\n",
            "Unpacking logrotate (3.19.0-1ubuntu1.1) ...\n",
            "Selecting previously unselected package netbase.\n",
            "Preparing to unpack .../01-netbase_6.3_all.deb ...\n",
            "Unpacking netbase (6.3) ...\n",
            "Selecting previously unselected package libcommon-sense-perl:amd64.\n",
            "Preparing to unpack .../02-libcommon-sense-perl_3.75-2build1_amd64.deb ...\n",
            "Unpacking libcommon-sense-perl:amd64 (3.75-2build1) ...\n",
            "Selecting previously unselected package libjson-perl.\n",
            "Preparing to unpack .../03-libjson-perl_4.04000-1_all.deb ...\n",
            "Unpacking libjson-perl (4.04000-1) ...\n",
            "Selecting previously unselected package libtypes-serialiser-perl.\n",
            "Preparing to unpack .../04-libtypes-serialiser-perl_1.01-1_all.deb ...\n",
            "Unpacking libtypes-serialiser-perl (1.01-1) ...\n",
            "Selecting previously unselected package libjson-xs-perl.\n",
            "Preparing to unpack .../05-libjson-xs-perl_4.030-1build3_amd64.deb ...\n",
            "Unpacking libjson-xs-perl (4.030-1build3) ...\n",
            "Selecting previously unselected package postgresql-client-common.\n",
            "Preparing to unpack .../06-postgresql-client-common_238_all.deb ...\n",
            "Unpacking postgresql-client-common (238) ...\n",
            "Selecting previously unselected package postgresql-client-14.\n",
            "Preparing to unpack .../07-postgresql-client-14_14.17-0ubuntu0.22.04.1_amd64.deb ...\n",
            "Unpacking postgresql-client-14 (14.17-0ubuntu0.22.04.1) ...\n",
            "Selecting previously unselected package ssl-cert.\n",
            "Preparing to unpack .../08-ssl-cert_1.1.2_all.deb ...\n",
            "Unpacking ssl-cert (1.1.2) ...\n",
            "Selecting previously unselected package postgresql-common.\n",
            "Preparing to unpack .../09-postgresql-common_238_all.deb ...\n",
            "Adding 'diversion of /usr/bin/pg_config to /usr/bin/pg_config.libpq-dev by postgresql-common'\n",
            "Unpacking postgresql-common (238) ...\n",
            "Selecting previously unselected package postgresql-14.\n",
            "Preparing to unpack .../10-postgresql-14_14.17-0ubuntu0.22.04.1_amd64.deb ...\n",
            "Unpacking postgresql-14 (14.17-0ubuntu0.22.04.1) ...\n",
            "Selecting previously unselected package postgresql.\n",
            "Preparing to unpack .../11-postgresql_14+238_all.deb ...\n",
            "Unpacking postgresql (14+238) ...\n",
            "Selecting previously unselected package postgresql-contrib.\n",
            "Preparing to unpack .../12-postgresql-contrib_14+238_all.deb ...\n",
            "Unpacking postgresql-contrib (14+238) ...\n",
            "Selecting previously unselected package sysstat.\n",
            "Preparing to unpack .../13-sysstat_12.5.2-2ubuntu0.2_amd64.deb ...\n",
            "Unpacking sysstat (12.5.2-2ubuntu0.2) ...\n",
            "Setting up logrotate (3.19.0-1ubuntu1.1) ...\n",
            "Created symlink /etc/systemd/system/timers.target.wants/logrotate.timer → /lib/systemd/system/logrotate.timer.\n",
            "Setting up libcommon-sense-perl:amd64 (3.75-2build1) ...\n",
            "Setting up ssl-cert (1.1.2) ...\n",
            "Setting up libtypes-serialiser-perl (1.01-1) ...\n",
            "Setting up libjson-perl (4.04000-1) ...\n",
            "Setting up netbase (6.3) ...\n",
            "Setting up sysstat (12.5.2-2ubuntu0.2) ...\n",
            "\n",
            "Creating config file /etc/default/sysstat with new version\n",
            "update-alternatives: using /usr/bin/sar.sysstat to provide /usr/bin/sar (sar) in auto mode\n",
            "Created symlink /etc/systemd/system/sysstat.service.wants/sysstat-collect.timer → /lib/systemd/system/sysstat-collect.timer.\n",
            "Created symlink /etc/systemd/system/sysstat.service.wants/sysstat-summary.timer → /lib/systemd/system/sysstat-summary.timer.\n",
            "Created symlink /etc/systemd/system/multi-user.target.wants/sysstat.service → /lib/systemd/system/sysstat.service.\n",
            "Setting up postgresql-client-common (238) ...\n",
            "Setting up libjson-xs-perl (4.030-1build3) ...\n",
            "Setting up postgresql-client-14 (14.17-0ubuntu0.22.04.1) ...\n",
            "update-alternatives: using /usr/share/postgresql/14/man/man1/psql.1.gz to provide /usr/share/man/man1/psql.1.gz (psql.1.gz) in auto mode\n",
            "Setting up postgresql-common (238) ...\n",
            "Adding user postgres to group ssl-cert\n",
            "\n",
            "Creating config file /etc/postgresql-common/createcluster.conf with new version\n",
            "Building PostgreSQL dictionaries from installed myspell/hunspell packages...\n",
            "Removing obsolete dictionary files:\n",
            "Created symlink /etc/systemd/system/multi-user.target.wants/postgresql.service → /lib/systemd/system/postgresql.service.\n",
            "Setting up postgresql-14 (14.17-0ubuntu0.22.04.1) ...\n",
            "Creating new PostgreSQL cluster 14/main ...\n",
            "/usr/lib/postgresql/14/bin/initdb -D /var/lib/postgresql/14/main --auth-local peer --auth-host scram-sha-256 --no-instructions\n",
            "The files belonging to this database system will be owned by user \"postgres\".\n",
            "This user must also own the server process.\n",
            "\n",
            "The database cluster will be initialized with locale \"en_US.UTF-8\".\n",
            "The default database encoding has accordingly been set to \"UTF8\".\n",
            "The default text search configuration will be set to \"english\".\n",
            "\n",
            "Data page checksums are disabled.\n",
            "\n",
            "fixing permissions on existing directory /var/lib/postgresql/14/main ... ok\n",
            "creating subdirectories ... ok\n",
            "selecting dynamic shared memory implementation ... posix\n",
            "selecting default max_connections ... 100\n",
            "selecting default shared_buffers ... 128MB\n",
            "selecting default time zone ... Etc/UTC\n",
            "creating configuration files ... ok\n",
            "running bootstrap script ... ok\n",
            "performing post-bootstrap initialization ... ok\n",
            "syncing data to disk ... ok\n",
            "update-alternatives: using /usr/share/postgresql/14/man/man1/postmaster.1.gz to provide /usr/share/man/man1/postmaster.1.gz (postmaster.1.gz) in auto mode\n",
            "invoke-rc.d: could not determine current runlevel\n",
            "invoke-rc.d: policy-rc.d denied execution of start.\n",
            "Setting up postgresql-contrib (14+238) ...\n",
            "Setting up postgresql (14+238) ...\n",
            "Processing triggers for man-db (2.10.2-1) ...\n"
          ]
        }
      ]
    },
    {
      "cell_type": "markdown",
      "source": [
        "### Start PostgreSQL service & create uset & database"
      ],
      "metadata": {
        "id": "I8yTJlMywNUd"
      }
    },
    {
      "cell_type": "markdown",
      "source": [
        "### register postgresql cloud free for 5 GB\n",
        "\n",
        "\n",
        "https://console.aiven.io"
      ],
      "metadata": {
        "id": "4-k2RFi-DkTz"
      }
    },
    {
      "cell_type": "code",
      "source": [
        "# Start PostgreSQL service\n",
        "!service postgresql start\n",
        "\n",
        "# Set password for the 'postgres' user\n",
        "!sudo -u postgres psql -c \"ALTER USER postgres PASSWORD '1234';\"\n",
        "\n",
        "# Create a new database\n",
        "!sudo -u postgres createdb mydatabase\n"
      ],
      "metadata": {
        "colab": {
          "base_uri": "https://localhost:8080/"
        },
        "id": "EOeetH3Ik_Ws",
        "outputId": "e8d75d05-8b71-42e0-f6fd-84c40dbc438e"
      },
      "execution_count": 4,
      "outputs": [
        {
          "output_type": "stream",
          "name": "stdout",
          "text": [
            " * Starting PostgreSQL 14 database server\n",
            "   ...done.\n",
            "ALTER ROLE\n"
          ]
        }
      ]
    },
    {
      "cell_type": "code",
      "source": [
        "!pip -q install psycopg2-binary sqlalchemy\n"
      ],
      "metadata": {
        "colab": {
          "base_uri": "https://localhost:8080/"
        },
        "id": "mN_Qq7O0jQfa",
        "outputId": "26d7640a-672f-4299-f4e5-6a614e120c75"
      },
      "execution_count": 5,
      "outputs": [
        {
          "output_type": "stream",
          "name": "stdout",
          "text": [
            "\u001b[2K   \u001b[90m━━━━━━━━━━━━━━━━━━━━━━━━━━━━━━━━━━━━━━━━\u001b[0m \u001b[32m3.0/3.0 MB\u001b[0m \u001b[31m25.0 MB/s\u001b[0m eta \u001b[36m0:00:00\u001b[0m\n",
            "\u001b[?25h"
          ]
        }
      ]
    },
    {
      "cell_type": "markdown",
      "source": [
        "### Transform csv to DB"
      ],
      "metadata": {
        "id": "gfIEPUU5xYeQ"
      }
    },
    {
      "cell_type": "code",
      "source": [
        "import pandas as pd\n",
        "from sqlalchemy import create_engine\n",
        "from google.colab import userdata\n",
        "\n",
        "# Load CSV files into pandas DataFrames\n",
        "financial_statements_df = pd.read_csv('/content/dataset/CSV/Financial Statements.csv')\n",
        "online_shopping_df = pd.read_csv('/content/dataset/CSV/TBL3-Online-Shopping-Dataset.csv')\n",
        "customer_support_tickets_df = pd.read_csv('/content/dataset/CSV/customer_support_tickets.csv')\n",
        "spotify_data_df = pd.read_csv('/content/dataset/CSV/spotify-2023.csv', encoding='ISO-8859-1')\n",
        "\n",
        "# Database connection parameters for local PostgreSQL\n",
        "db_name = 'mydatabase'           # Your database name\n",
        "db_user = 'postgres'             # PostgreSQL default superuser\n",
        "db_password = '1234'             # The password you set above\n",
        "db_host = 'localhost'            # Localhost for local connection\n",
        "db_port = '5432'                 # Default PostgreSQL port\n",
        "\n",
        "# Create a connection string\n",
        "connection_string = f'postgresql://{db_user}:{db_password}@{db_host}:{db_port}/{db_name}'\n",
        "# connection_string =  userdata.get('AIVEN_URL')\n",
        "# Create a SQLAlchemy engine\n",
        "engine = create_engine(connection_string)\n",
        "\n",
        "# Insert DataFrames into PostgreSQL tables\n",
        "financial_statements_df.to_sql('financial_statements', engine, if_exists='replace', index=False)\n",
        "online_shopping_df.to_sql('online_shopping', engine, if_exists='replace', index=False)\n",
        "customer_support_tickets_df.to_sql('customer_support_tickets', engine, if_exists='replace', index=False)\n",
        "spotify_data_df.to_sql('spotify_data', engine, if_exists='replace', index=False)\n"
      ],
      "metadata": {
        "colab": {
          "base_uri": "https://localhost:8080/"
        },
        "id": "LBTsnmsFiRi9",
        "outputId": "cd609c4e-0c5b-4e3a-d6e2-60082afa2068"
      },
      "execution_count": 6,
      "outputs": [
        {
          "output_type": "execute_result",
          "data": {
            "text/plain": [
              "953"
            ]
          },
          "metadata": {},
          "execution_count": 6
        }
      ]
    },
    {
      "cell_type": "code",
      "source": [
        "## list Table in DB\n",
        "pd.read_sql(\"\"\"\n",
        "            SELECT schemaname, tablename, tableowner\n",
        "            FROM pg_catalog.pg_tables\n",
        "            WHERE schemaname != 'pg_catalog' AND schemaname!='tiger' AND\n",
        "            schemaname != 'information_schema';\n",
        "            \"\"\",\n",
        "            engine\n",
        "            )"
      ],
      "metadata": {
        "colab": {
          "base_uri": "https://localhost:8080/",
          "height": 175
        },
        "id": "8SsNsEfoliOZ",
        "outputId": "1b284e22-80a8-454c-d4f8-2fe3b9ec7ff2"
      },
      "execution_count": 7,
      "outputs": [
        {
          "output_type": "execute_result",
          "data": {
            "text/plain": [
              "  schemaname                 tablename tableowner\n",
              "0     public      financial_statements   postgres\n",
              "1     public           online_shopping   postgres\n",
              "2     public  customer_support_tickets   postgres\n",
              "3     public              spotify_data   postgres"
            ],
            "text/html": [
              "\n",
              "  <div id=\"df-65c0eee1-90c5-48c7-a289-d47a2eea50d1\" class=\"colab-df-container\">\n",
              "    <div>\n",
              "<style scoped>\n",
              "    .dataframe tbody tr th:only-of-type {\n",
              "        vertical-align: middle;\n",
              "    }\n",
              "\n",
              "    .dataframe tbody tr th {\n",
              "        vertical-align: top;\n",
              "    }\n",
              "\n",
              "    .dataframe thead th {\n",
              "        text-align: right;\n",
              "    }\n",
              "</style>\n",
              "<table border=\"1\" class=\"dataframe\">\n",
              "  <thead>\n",
              "    <tr style=\"text-align: right;\">\n",
              "      <th></th>\n",
              "      <th>schemaname</th>\n",
              "      <th>tablename</th>\n",
              "      <th>tableowner</th>\n",
              "    </tr>\n",
              "  </thead>\n",
              "  <tbody>\n",
              "    <tr>\n",
              "      <th>0</th>\n",
              "      <td>public</td>\n",
              "      <td>financial_statements</td>\n",
              "      <td>postgres</td>\n",
              "    </tr>\n",
              "    <tr>\n",
              "      <th>1</th>\n",
              "      <td>public</td>\n",
              "      <td>online_shopping</td>\n",
              "      <td>postgres</td>\n",
              "    </tr>\n",
              "    <tr>\n",
              "      <th>2</th>\n",
              "      <td>public</td>\n",
              "      <td>customer_support_tickets</td>\n",
              "      <td>postgres</td>\n",
              "    </tr>\n",
              "    <tr>\n",
              "      <th>3</th>\n",
              "      <td>public</td>\n",
              "      <td>spotify_data</td>\n",
              "      <td>postgres</td>\n",
              "    </tr>\n",
              "  </tbody>\n",
              "</table>\n",
              "</div>\n",
              "    <div class=\"colab-df-buttons\">\n",
              "\n",
              "  <div class=\"colab-df-container\">\n",
              "    <button class=\"colab-df-convert\" onclick=\"convertToInteractive('df-65c0eee1-90c5-48c7-a289-d47a2eea50d1')\"\n",
              "            title=\"Convert this dataframe to an interactive table.\"\n",
              "            style=\"display:none;\">\n",
              "\n",
              "  <svg xmlns=\"http://www.w3.org/2000/svg\" height=\"24px\" viewBox=\"0 -960 960 960\">\n",
              "    <path d=\"M120-120v-720h720v720H120Zm60-500h600v-160H180v160Zm220 220h160v-160H400v160Zm0 220h160v-160H400v160ZM180-400h160v-160H180v160Zm440 0h160v-160H620v160ZM180-180h160v-160H180v160Zm440 0h160v-160H620v160Z\"/>\n",
              "  </svg>\n",
              "    </button>\n",
              "\n",
              "  <style>\n",
              "    .colab-df-container {\n",
              "      display:flex;\n",
              "      gap: 12px;\n",
              "    }\n",
              "\n",
              "    .colab-df-convert {\n",
              "      background-color: #E8F0FE;\n",
              "      border: none;\n",
              "      border-radius: 50%;\n",
              "      cursor: pointer;\n",
              "      display: none;\n",
              "      fill: #1967D2;\n",
              "      height: 32px;\n",
              "      padding: 0 0 0 0;\n",
              "      width: 32px;\n",
              "    }\n",
              "\n",
              "    .colab-df-convert:hover {\n",
              "      background-color: #E2EBFA;\n",
              "      box-shadow: 0px 1px 2px rgba(60, 64, 67, 0.3), 0px 1px 3px 1px rgba(60, 64, 67, 0.15);\n",
              "      fill: #174EA6;\n",
              "    }\n",
              "\n",
              "    .colab-df-buttons div {\n",
              "      margin-bottom: 4px;\n",
              "    }\n",
              "\n",
              "    [theme=dark] .colab-df-convert {\n",
              "      background-color: #3B4455;\n",
              "      fill: #D2E3FC;\n",
              "    }\n",
              "\n",
              "    [theme=dark] .colab-df-convert:hover {\n",
              "      background-color: #434B5C;\n",
              "      box-shadow: 0px 1px 3px 1px rgba(0, 0, 0, 0.15);\n",
              "      filter: drop-shadow(0px 1px 2px rgba(0, 0, 0, 0.3));\n",
              "      fill: #FFFFFF;\n",
              "    }\n",
              "  </style>\n",
              "\n",
              "    <script>\n",
              "      const buttonEl =\n",
              "        document.querySelector('#df-65c0eee1-90c5-48c7-a289-d47a2eea50d1 button.colab-df-convert');\n",
              "      buttonEl.style.display =\n",
              "        google.colab.kernel.accessAllowed ? 'block' : 'none';\n",
              "\n",
              "      async function convertToInteractive(key) {\n",
              "        const element = document.querySelector('#df-65c0eee1-90c5-48c7-a289-d47a2eea50d1');\n",
              "        const dataTable =\n",
              "          await google.colab.kernel.invokeFunction('convertToInteractive',\n",
              "                                                    [key], {});\n",
              "        if (!dataTable) return;\n",
              "\n",
              "        const docLinkHtml = 'Like what you see? Visit the ' +\n",
              "          '<a target=\"_blank\" href=https://colab.research.google.com/notebooks/data_table.ipynb>data table notebook</a>'\n",
              "          + ' to learn more about interactive tables.';\n",
              "        element.innerHTML = '';\n",
              "        dataTable['output_type'] = 'display_data';\n",
              "        await google.colab.output.renderOutput(dataTable, element);\n",
              "        const docLink = document.createElement('div');\n",
              "        docLink.innerHTML = docLinkHtml;\n",
              "        element.appendChild(docLink);\n",
              "      }\n",
              "    </script>\n",
              "  </div>\n",
              "\n",
              "\n",
              "<div id=\"df-7a3dfb76-9046-4d8d-a50a-f6123d952325\">\n",
              "  <button class=\"colab-df-quickchart\" onclick=\"quickchart('df-7a3dfb76-9046-4d8d-a50a-f6123d952325')\"\n",
              "            title=\"Suggest charts\"\n",
              "            style=\"display:none;\">\n",
              "\n",
              "<svg xmlns=\"http://www.w3.org/2000/svg\" height=\"24px\"viewBox=\"0 0 24 24\"\n",
              "     width=\"24px\">\n",
              "    <g>\n",
              "        <path d=\"M19 3H5c-1.1 0-2 .9-2 2v14c0 1.1.9 2 2 2h14c1.1 0 2-.9 2-2V5c0-1.1-.9-2-2-2zM9 17H7v-7h2v7zm4 0h-2V7h2v10zm4 0h-2v-4h2v4z\"/>\n",
              "    </g>\n",
              "</svg>\n",
              "  </button>\n",
              "\n",
              "<style>\n",
              "  .colab-df-quickchart {\n",
              "      --bg-color: #E8F0FE;\n",
              "      --fill-color: #1967D2;\n",
              "      --hover-bg-color: #E2EBFA;\n",
              "      --hover-fill-color: #174EA6;\n",
              "      --disabled-fill-color: #AAA;\n",
              "      --disabled-bg-color: #DDD;\n",
              "  }\n",
              "\n",
              "  [theme=dark] .colab-df-quickchart {\n",
              "      --bg-color: #3B4455;\n",
              "      --fill-color: #D2E3FC;\n",
              "      --hover-bg-color: #434B5C;\n",
              "      --hover-fill-color: #FFFFFF;\n",
              "      --disabled-bg-color: #3B4455;\n",
              "      --disabled-fill-color: #666;\n",
              "  }\n",
              "\n",
              "  .colab-df-quickchart {\n",
              "    background-color: var(--bg-color);\n",
              "    border: none;\n",
              "    border-radius: 50%;\n",
              "    cursor: pointer;\n",
              "    display: none;\n",
              "    fill: var(--fill-color);\n",
              "    height: 32px;\n",
              "    padding: 0;\n",
              "    width: 32px;\n",
              "  }\n",
              "\n",
              "  .colab-df-quickchart:hover {\n",
              "    background-color: var(--hover-bg-color);\n",
              "    box-shadow: 0 1px 2px rgba(60, 64, 67, 0.3), 0 1px 3px 1px rgba(60, 64, 67, 0.15);\n",
              "    fill: var(--button-hover-fill-color);\n",
              "  }\n",
              "\n",
              "  .colab-df-quickchart-complete:disabled,\n",
              "  .colab-df-quickchart-complete:disabled:hover {\n",
              "    background-color: var(--disabled-bg-color);\n",
              "    fill: var(--disabled-fill-color);\n",
              "    box-shadow: none;\n",
              "  }\n",
              "\n",
              "  .colab-df-spinner {\n",
              "    border: 2px solid var(--fill-color);\n",
              "    border-color: transparent;\n",
              "    border-bottom-color: var(--fill-color);\n",
              "    animation:\n",
              "      spin 1s steps(1) infinite;\n",
              "  }\n",
              "\n",
              "  @keyframes spin {\n",
              "    0% {\n",
              "      border-color: transparent;\n",
              "      border-bottom-color: var(--fill-color);\n",
              "      border-left-color: var(--fill-color);\n",
              "    }\n",
              "    20% {\n",
              "      border-color: transparent;\n",
              "      border-left-color: var(--fill-color);\n",
              "      border-top-color: var(--fill-color);\n",
              "    }\n",
              "    30% {\n",
              "      border-color: transparent;\n",
              "      border-left-color: var(--fill-color);\n",
              "      border-top-color: var(--fill-color);\n",
              "      border-right-color: var(--fill-color);\n",
              "    }\n",
              "    40% {\n",
              "      border-color: transparent;\n",
              "      border-right-color: var(--fill-color);\n",
              "      border-top-color: var(--fill-color);\n",
              "    }\n",
              "    60% {\n",
              "      border-color: transparent;\n",
              "      border-right-color: var(--fill-color);\n",
              "    }\n",
              "    80% {\n",
              "      border-color: transparent;\n",
              "      border-right-color: var(--fill-color);\n",
              "      border-bottom-color: var(--fill-color);\n",
              "    }\n",
              "    90% {\n",
              "      border-color: transparent;\n",
              "      border-bottom-color: var(--fill-color);\n",
              "    }\n",
              "  }\n",
              "</style>\n",
              "\n",
              "  <script>\n",
              "    async function quickchart(key) {\n",
              "      const quickchartButtonEl =\n",
              "        document.querySelector('#' + key + ' button');\n",
              "      quickchartButtonEl.disabled = true;  // To prevent multiple clicks.\n",
              "      quickchartButtonEl.classList.add('colab-df-spinner');\n",
              "      try {\n",
              "        const charts = await google.colab.kernel.invokeFunction(\n",
              "            'suggestCharts', [key], {});\n",
              "      } catch (error) {\n",
              "        console.error('Error during call to suggestCharts:', error);\n",
              "      }\n",
              "      quickchartButtonEl.classList.remove('colab-df-spinner');\n",
              "      quickchartButtonEl.classList.add('colab-df-quickchart-complete');\n",
              "    }\n",
              "    (() => {\n",
              "      let quickchartButtonEl =\n",
              "        document.querySelector('#df-7a3dfb76-9046-4d8d-a50a-f6123d952325 button');\n",
              "      quickchartButtonEl.style.display =\n",
              "        google.colab.kernel.accessAllowed ? 'block' : 'none';\n",
              "    })();\n",
              "  </script>\n",
              "</div>\n",
              "\n",
              "    </div>\n",
              "  </div>\n"
            ],
            "application/vnd.google.colaboratory.intrinsic+json": {
              "type": "dataframe",
              "summary": "{\n  \"name\": \"            )\",\n  \"rows\": 4,\n  \"fields\": [\n    {\n      \"column\": \"schemaname\",\n      \"properties\": {\n        \"dtype\": \"category\",\n        \"num_unique_values\": 1,\n        \"samples\": [\n          \"public\"\n        ],\n        \"semantic_type\": \"\",\n        \"description\": \"\"\n      }\n    },\n    {\n      \"column\": \"tablename\",\n      \"properties\": {\n        \"dtype\": \"string\",\n        \"num_unique_values\": 4,\n        \"samples\": [\n          \"online_shopping\"\n        ],\n        \"semantic_type\": \"\",\n        \"description\": \"\"\n      }\n    },\n    {\n      \"column\": \"tableowner\",\n      \"properties\": {\n        \"dtype\": \"category\",\n        \"num_unique_values\": 1,\n        \"samples\": [\n          \"postgres\"\n        ],\n        \"semantic_type\": \"\",\n        \"description\": \"\"\n      }\n    }\n  ]\n}"
            }
          },
          "metadata": {},
          "execution_count": 7
        }
      ]
    },
    {
      "cell_type": "markdown",
      "source": [
        "## langchain"
      ],
      "metadata": {
        "id": "ox1y1QLo3RJh"
      }
    },
    {
      "cell_type": "markdown",
      "source": [
        "### Download Database with SQLDatabase (langchain)"
      ],
      "metadata": {
        "id": "YRJ1AqudxzpR"
      }
    },
    {
      "cell_type": "code",
      "source": [
        "from langchain_community.utilities import SQLDatabase\n",
        "\n",
        "db = SQLDatabase.from_uri(connection_string)\n",
        "print(db.dialect)\n",
        "print(db.get_usable_table_names())\n"
      ],
      "metadata": {
        "colab": {
          "base_uri": "https://localhost:8080/"
        },
        "id": "qxjhgoC0l6uV",
        "outputId": "e8662ca9-e8f1-4c83-9e0c-79556c4cdf2b"
      },
      "execution_count": 8,
      "outputs": [
        {
          "output_type": "stream",
          "name": "stdout",
          "text": [
            "postgresql\n",
            "['customer_support_tickets', 'financial_statements', 'online_shopping', 'spotify_data']\n"
          ]
        }
      ]
    },
    {
      "cell_type": "code",
      "source": [
        "print(db.get_table_info())"
      ],
      "metadata": {
        "colab": {
          "base_uri": "https://localhost:8080/"
        },
        "id": "Ebgg3ZLLB8ih",
        "outputId": "e7c67853-8d30-40b0-c254-82370c40a665"
      },
      "execution_count": 9,
      "outputs": [
        {
          "output_type": "stream",
          "name": "stdout",
          "text": [
            "\n",
            "CREATE TABLE customer_support_tickets (\n",
            "\t\"Ticket_ID\" BIGINT, \n",
            "\t\"Customer_Name\" TEXT, \n",
            "\t\"Customer_Email\" TEXT, \n",
            "\t\"Customer_Age\" BIGINT, \n",
            "\t\"Customer_Gender\" TEXT, \n",
            "\t\"Product_Purchased\" TEXT, \n",
            "\t\"Date_of_Purchase\" TEXT, \n",
            "\t\"Ticket_Type\" TEXT, \n",
            "\t\"Ticket_Subject\" TEXT, \n",
            "\t\"Ticket_Description\" TEXT, \n",
            "\t\"Ticket_Status\" TEXT, \n",
            "\t\"Resolution\" TEXT, \n",
            "\t\"Ticket_Priority\" TEXT, \n",
            "\t\"Ticket_Channel\" TEXT, \n",
            "\t\"First_Response_Time\" TEXT, \n",
            "\t\"Time_to_Resolution\" TEXT, \n",
            "\t\"Customer_Satisfaction_Rating\" DOUBLE PRECISION\n",
            ")\n",
            "\n",
            "/*\n",
            "3 rows from customer_support_tickets table:\n",
            "Ticket_ID\tCustomer_Name\tCustomer_Email\tCustomer_Age\tCustomer_Gender\tProduct_Purchased\tDate_of_Purchase\tTicket_Type\tTicket_Subject\tTicket_Description\tTicket_Status\tResolution\tTicket_Priority\tTicket_Channel\tFirst_Response_Time\tTime_to_Resolution\tCustomer_Satisfaction_Rating\n",
            "1\tMarisa Obrien\tcarrollallison@example.com\t32\tOther\tGoPro Hero\t2021-03-22\tTechnical issue\tProduct setup\tI'm having an issue with the {product_purchased}. Please assist.\n",
            "\n",
            "Your billing zip code is: 71701.\n",
            "\n",
            "\tPending Customer Response\tNone\tCritical\tSocial media\t2023-06-01 12:15:36\tNone\tNone\n",
            "2\tJessica Rios\tclarkeashley@example.com\t42\tFemale\tLG Smart TV\t2021-05-22\tTechnical issue\tPeripheral compatibility\tI'm having an issue with the {product_purchased}. Please assist.\n",
            "\n",
            "If you need to change an existing \tPending Customer Response\tNone\tCritical\tChat\t2023-06-01 16:45:38\tNone\tNone\n",
            "3\tChristopher Robbins\tgonzalestracy@example.com\t48\tOther\tDell XPS\t2020-07-14\tTechnical issue\tNetwork problem\tI'm facing a problem with my {product_purchased}. The {product_purchased} is not turning on. It was \tClosed\tCase maybe show recently my computer follow.\tLow\tSocial media\t2023-06-01 11:14:38\t2023-06-01 18:05:38\t3.0\n",
            "*/\n",
            "\n",
            "\n",
            "CREATE TABLE financial_statements (\n",
            "\t\"Year\" BIGINT, \n",
            "\t\"Company\" TEXT, \n",
            "\t\"Category\" TEXT, \n",
            "\t\"Market Cap(in B USD)\" DOUBLE PRECISION, \n",
            "\t\"Revenue\" DOUBLE PRECISION, \n",
            "\t\"Gross Profit\" DOUBLE PRECISION, \n",
            "\t\"Net Income\" DOUBLE PRECISION, \n",
            "\t\"Earning Per Share\" DOUBLE PRECISION, \n",
            "\t\"EBITDA\" DOUBLE PRECISION, \n",
            "\t\"Share Holder Equity\" DOUBLE PRECISION, \n",
            "\t\"Cash Flow from Operating\" DOUBLE PRECISION, \n",
            "\t\"Cash Flow from Investing\" DOUBLE PRECISION, \n",
            "\t\"Cash Flow from Financial Activities\" DOUBLE PRECISION, \n",
            "\t\"Current Ratio\" DOUBLE PRECISION, \n",
            "\t\"Debt/Equity Ratio\" DOUBLE PRECISION, \n",
            "\t\"ROE\" DOUBLE PRECISION, \n",
            "\t\"ROA\" DOUBLE PRECISION, \n",
            "\t\"ROI\" DOUBLE PRECISION, \n",
            "\t\"Net Profit Margin\" DOUBLE PRECISION, \n",
            "\t\"Free Cash Flow per Share\" DOUBLE PRECISION, \n",
            "\t\"Return on Tangible Equity\" DOUBLE PRECISION, \n",
            "\t\"Number of Employees\" BIGINT, \n",
            "\t\"Inflation Rate(in US)\" DOUBLE PRECISION\n",
            ")\n",
            "\n",
            "/*\n",
            "3 rows from financial_statements table:\n",
            "Year\tCompany\tCategory\tMarket Cap(in B USD)\tRevenue\tGross Profit\tNet Income\tEarning Per Share\tEBITDA\tShare Holder Equity\tCash Flow from Operating\tCash Flow from Investing\tCash Flow from Financial Activities\tCurrent Ratio\tDebt/Equity Ratio\tROE\tROA\tROI\tNet Profit Margin\tFree Cash Flow per Share\tReturn on Tangible Equity\tNumber of Employees\tInflation Rate(in US)\n",
            "2022\tAAPL\tIT\t2066.94\t394328.0\t170782.0\t99803.0\t6.11\t130541.0\t50672.0\t122151.0\t-22354.0\t-110749.0\t0.8794\t2.3695\t196.9589\t28.2924\t66.6994\t25.3096\t1.3146\t196.9589\t164000\t8.0028\n",
            "2021\tAAPL\tIT\t2913.28\t365817.0\t152836.0\t94680.0\t5.61\t120233.0\t63090.0\t104038.0\t-14545.0\t-93353.0\t1.0746\t1.9768\t150.0713\t26.9742\t54.9839\t25.8818\t1.3261\t150.0713\t154000\t4.6979\n",
            "2020\tAAPL\tIT\t2255.97\t274515.0\t104956.0\t57411.0\t3.28\t77344.0\t65339.0\t80674.0\t-4289.0\t-86820.0\t1.3636\t1.7208\t87.8664\t17.7256\t35.0054\t20.9136\t1.0183\t87.8664\t147000\t1.2336\n",
            "*/\n",
            "\n",
            "\n",
            "CREATE TABLE online_shopping (\n",
            "\t\"CustomerID\" BIGINT, \n",
            "\t\"Gender\" TEXT, \n",
            "\t\"Location\" TEXT, \n",
            "\t\"Tenure_Months\" BIGINT, \n",
            "\t\"Transaction_ID\" BIGINT, \n",
            "\t\"Transaction_Date\" TEXT, \n",
            "\t\"Product_SKU\" TEXT, \n",
            "\t\"Product_Description\" TEXT, \n",
            "\t\"Product_Category\" TEXT, \n",
            "\t\"Quantity\" BIGINT, \n",
            "\t\"Avg_Price\" DOUBLE PRECISION, \n",
            "\t\"Total_Price\" DOUBLE PRECISION, \n",
            "\t\"Delivery_Charges\" DOUBLE PRECISION, \n",
            "\t\"Date\" TEXT, \n",
            "\t\"Month\" BIGINT\n",
            ")\n",
            "\n",
            "/*\n",
            "3 rows from online_shopping table:\n",
            "CustomerID\tGender\tLocation\tTenure_Months\tTransaction_ID\tTransaction_Date\tProduct_SKU\tProduct_Description\tProduct_Category\tQuantity\tAvg_Price\tTotal_Price\tDelivery_Charges\tDate\tMonth\n",
            "17850\tM\tChicago\t12\t16679\t2019-01-01\tGGOENEBJ079499\tNest Learning Thermostat 3rd Gen-USA - Stainless Steel\tNest-USA\t1\t153.71\t153.71\t6.5\t1/1/2019\t1\n",
            "17850\tM\tChicago\t12\t16680\t2019-01-01\tGGOENEBJ079499\tNest Learning Thermostat 3rd Gen-USA - Stainless Steel\tNest-USA\t1\t153.71\t153.71\t6.5\t1/1/2019\t1\n",
            "17850\tM\tChicago\t12\t16696\t2019-01-01\tGGOENEBQ078999\tNest Cam Outdoor Security Camera - USA\tNest-USA\t2\t122.77\t245.54\t6.5\t1/1/2019\t1\n",
            "*/\n",
            "\n",
            "\n",
            "CREATE TABLE spotify_data (\n",
            "\ttrack_name TEXT, \n",
            "\t\"artist(s)_name\" TEXT, \n",
            "\tartist_count BIGINT, \n",
            "\treleased_year BIGINT, \n",
            "\treleased_month BIGINT, \n",
            "\treleased_day BIGINT, \n",
            "\tin_spotify_playlists BIGINT, \n",
            "\tin_spotify_charts BIGINT, \n",
            "\tstreams TEXT, \n",
            "\tin_apple_playlists BIGINT, \n",
            "\tin_apple_charts BIGINT, \n",
            "\tin_deezer_playlists TEXT, \n",
            "\tin_deezer_charts BIGINT, \n",
            "\tin_shazam_charts TEXT, \n",
            "\tbpm BIGINT, \n",
            "\tkey TEXT, \n",
            "\tmode TEXT, \n",
            "\t\"danceability_%%\" BIGINT, \n",
            "\t\"valence_%%\" BIGINT, \n",
            "\t\"energy_%%\" BIGINT, \n",
            "\t\"acousticness_%%\" BIGINT, \n",
            "\t\"instrumentalness_%%\" BIGINT, \n",
            "\t\"liveness_%%\" BIGINT, \n",
            "\t\"speechiness_%%\" BIGINT\n",
            ")\n",
            "\n",
            "/*\n",
            "3 rows from spotify_data table:\n",
            "track_name\tartist(s)_name\tartist_count\treleased_year\treleased_month\treleased_day\tin_spotify_playlists\tin_spotify_charts\tstreams\tin_apple_playlists\tin_apple_charts\tin_deezer_playlists\tin_deezer_charts\tin_shazam_charts\tbpm\tkey\tmode\tdanceability_%\tvalence_%\tenergy_%\tacousticness_%\tinstrumentalness_%\tliveness_%\tspeechiness_%\n",
            "Seven (feat. Latto) (Explicit Ver.)\tLatto, Jung Kook\t2\t2023\t7\t14\t553\t147\t141381703\t43\t263\t45\t10\t826\t125\tB\tMajor\t80\t89\t83\t31\t0\t8\t4\n",
            "LALA\tMyke Towers\t1\t2023\t3\t23\t1474\t48\t133716286\t48\t126\t58\t14\t382\t92\tC#\tMajor\t71\t61\t74\t7\t0\t10\t4\n",
            "vampire\tOlivia Rodrigo\t1\t2023\t6\t30\t1397\t113\t140003974\t94\t207\t91\t14\t949\t138\tF\tMajor\t51\t32\t53\t17\t0\t31\t6\n",
            "*/\n"
          ]
        }
      ]
    },
    {
      "cell_type": "code",
      "source": [
        "print(db.get_table_info(['online_shopping']))"
      ],
      "metadata": {
        "colab": {
          "base_uri": "https://localhost:8080/"
        },
        "id": "FsNQp1mRCg0b",
        "outputId": "fb276648-9bff-4496-ad0a-aca55b7119f3"
      },
      "execution_count": 10,
      "outputs": [
        {
          "output_type": "stream",
          "name": "stdout",
          "text": [
            "\n",
            "CREATE TABLE online_shopping (\n",
            "\t\"CustomerID\" BIGINT, \n",
            "\t\"Gender\" TEXT, \n",
            "\t\"Location\" TEXT, \n",
            "\t\"Tenure_Months\" BIGINT, \n",
            "\t\"Transaction_ID\" BIGINT, \n",
            "\t\"Transaction_Date\" TEXT, \n",
            "\t\"Product_SKU\" TEXT, \n",
            "\t\"Product_Description\" TEXT, \n",
            "\t\"Product_Category\" TEXT, \n",
            "\t\"Quantity\" BIGINT, \n",
            "\t\"Avg_Price\" DOUBLE PRECISION, \n",
            "\t\"Total_Price\" DOUBLE PRECISION, \n",
            "\t\"Delivery_Charges\" DOUBLE PRECISION, \n",
            "\t\"Date\" TEXT, \n",
            "\t\"Month\" BIGINT\n",
            ")\n",
            "\n",
            "/*\n",
            "3 rows from online_shopping table:\n",
            "CustomerID\tGender\tLocation\tTenure_Months\tTransaction_ID\tTransaction_Date\tProduct_SKU\tProduct_Description\tProduct_Category\tQuantity\tAvg_Price\tTotal_Price\tDelivery_Charges\tDate\tMonth\n",
            "17850\tM\tChicago\t12\t16679\t2019-01-01\tGGOENEBJ079499\tNest Learning Thermostat 3rd Gen-USA - Stainless Steel\tNest-USA\t1\t153.71\t153.71\t6.5\t1/1/2019\t1\n",
            "17850\tM\tChicago\t12\t16680\t2019-01-01\tGGOENEBJ079499\tNest Learning Thermostat 3rd Gen-USA - Stainless Steel\tNest-USA\t1\t153.71\t153.71\t6.5\t1/1/2019\t1\n",
            "17850\tM\tChicago\t12\t16696\t2019-01-01\tGGOENEBQ078999\tNest Cam Outdoor Security Camera - USA\tNest-USA\t2\t122.77\t245.54\t6.5\t1/1/2019\t1\n",
            "*/\n"
          ]
        }
      ]
    },
    {
      "cell_type": "code",
      "source": [
        "online_shopping_df"
      ],
      "metadata": {
        "colab": {
          "base_uri": "https://localhost:8080/",
          "height": 652
        },
        "id": "sVR6ANwfpNVF",
        "outputId": "93cec0b9-9918-4954-8083-9006f8ee9356"
      },
      "execution_count": 11,
      "outputs": [
        {
          "output_type": "execute_result",
          "data": {
            "text/plain": [
              "       CustomerID Gender    Location  Tenure_Months  Transaction_ID  \\\n",
              "0           17850      M     Chicago             12           16679   \n",
              "1           17850      M     Chicago             12           16680   \n",
              "2           17850      M     Chicago             12           16696   \n",
              "3           17850      M     Chicago             12           16699   \n",
              "4           17850      M     Chicago             12           16700   \n",
              "...           ...    ...         ...            ...             ...   \n",
              "52919       13155      F  California              8           22504   \n",
              "52920       18077      M     Chicago             34           24250   \n",
              "52921       16085      M  California             15           39991   \n",
              "52922       16085      M  California             15           39991   \n",
              "52923       13659      F     Chicago              8           39998   \n",
              "\n",
              "      Transaction_Date     Product_SKU  \\\n",
              "0           2019-01-01  GGOENEBJ079499   \n",
              "1           2019-01-01  GGOENEBJ079499   \n",
              "2           2019-01-01  GGOENEBQ078999   \n",
              "3           2019-01-01  GGOENEBQ079099   \n",
              "4           2019-01-01  GGOENEBJ079499   \n",
              "...                ...             ...   \n",
              "52919       2019-03-10  GGOEGGCX056399   \n",
              "52920       2019-03-28  GGOEGGCX056299   \n",
              "52921       2019-10-06  GGOEGOCD078399   \n",
              "52922       2019-10-06  GGOEGOCR078499   \n",
              "52923       2019-10-06  GGOEGOCC077999   \n",
              "\n",
              "                                     Product_Description  \\\n",
              "0      Nest Learning Thermostat 3rd Gen-USA - Stainle...   \n",
              "1      Nest Learning Thermostat 3rd Gen-USA - Stainle...   \n",
              "2                 Nest Cam Outdoor Security Camera - USA   \n",
              "3        Nest Protect Smoke + CO White Battery Alarm-USA   \n",
              "4      Nest Learning Thermostat 3rd Gen-USA - Stainle...   \n",
              "...                                                  ...   \n",
              "52919                                Gift Card - $250.00   \n",
              "52920                                 Gift Card - $25.00   \n",
              "52921                  Google Leather Perforated Journal   \n",
              "52922                      Google Spiral Leather Journal   \n",
              "52923                     Google Spiral Journal with Pen   \n",
              "\n",
              "           Product_Category  Quantity  Avg_Price  Total_Price  \\\n",
              "0                  Nest-USA         1     153.71       153.71   \n",
              "1                  Nest-USA         1     153.71       153.71   \n",
              "2                  Nest-USA         2     122.77       245.54   \n",
              "3                  Nest-USA         1      81.50        81.50   \n",
              "4                  Nest-USA         1     153.71       153.71   \n",
              "...                     ...       ...        ...          ...   \n",
              "52919            Gift Cards         1     250.00       250.00   \n",
              "52920            Gift Cards         1      25.00        25.00   \n",
              "52921  Notebooks & Journals         1      10.80        10.80   \n",
              "52922  Notebooks & Journals         1       9.60         9.60   \n",
              "52923  Notebooks & Journals         1       5.59         5.59   \n",
              "\n",
              "       Delivery_Charges       Date  Month  \n",
              "0                   6.5   1/1/2019      1  \n",
              "1                   6.5   1/1/2019      1  \n",
              "2                   6.5   1/1/2019      1  \n",
              "3                   6.5   1/1/2019      1  \n",
              "4                   6.5   1/1/2019      1  \n",
              "...                 ...        ...    ...  \n",
              "52919               0.0  3/10/2019      3  \n",
              "52920               0.0  3/28/2019      3  \n",
              "52921               6.0  10/6/2019     10  \n",
              "52922               6.0  10/6/2019     10  \n",
              "52923               6.5  10/6/2019     10  \n",
              "\n",
              "[52924 rows x 15 columns]"
            ],
            "text/html": [
              "\n",
              "  <div id=\"df-09c814b9-c837-4957-ac7f-9a3e9ae6b19b\" class=\"colab-df-container\">\n",
              "    <div>\n",
              "<style scoped>\n",
              "    .dataframe tbody tr th:only-of-type {\n",
              "        vertical-align: middle;\n",
              "    }\n",
              "\n",
              "    .dataframe tbody tr th {\n",
              "        vertical-align: top;\n",
              "    }\n",
              "\n",
              "    .dataframe thead th {\n",
              "        text-align: right;\n",
              "    }\n",
              "</style>\n",
              "<table border=\"1\" class=\"dataframe\">\n",
              "  <thead>\n",
              "    <tr style=\"text-align: right;\">\n",
              "      <th></th>\n",
              "      <th>CustomerID</th>\n",
              "      <th>Gender</th>\n",
              "      <th>Location</th>\n",
              "      <th>Tenure_Months</th>\n",
              "      <th>Transaction_ID</th>\n",
              "      <th>Transaction_Date</th>\n",
              "      <th>Product_SKU</th>\n",
              "      <th>Product_Description</th>\n",
              "      <th>Product_Category</th>\n",
              "      <th>Quantity</th>\n",
              "      <th>Avg_Price</th>\n",
              "      <th>Total_Price</th>\n",
              "      <th>Delivery_Charges</th>\n",
              "      <th>Date</th>\n",
              "      <th>Month</th>\n",
              "    </tr>\n",
              "  </thead>\n",
              "  <tbody>\n",
              "    <tr>\n",
              "      <th>0</th>\n",
              "      <td>17850</td>\n",
              "      <td>M</td>\n",
              "      <td>Chicago</td>\n",
              "      <td>12</td>\n",
              "      <td>16679</td>\n",
              "      <td>2019-01-01</td>\n",
              "      <td>GGOENEBJ079499</td>\n",
              "      <td>Nest Learning Thermostat 3rd Gen-USA - Stainle...</td>\n",
              "      <td>Nest-USA</td>\n",
              "      <td>1</td>\n",
              "      <td>153.71</td>\n",
              "      <td>153.71</td>\n",
              "      <td>6.5</td>\n",
              "      <td>1/1/2019</td>\n",
              "      <td>1</td>\n",
              "    </tr>\n",
              "    <tr>\n",
              "      <th>1</th>\n",
              "      <td>17850</td>\n",
              "      <td>M</td>\n",
              "      <td>Chicago</td>\n",
              "      <td>12</td>\n",
              "      <td>16680</td>\n",
              "      <td>2019-01-01</td>\n",
              "      <td>GGOENEBJ079499</td>\n",
              "      <td>Nest Learning Thermostat 3rd Gen-USA - Stainle...</td>\n",
              "      <td>Nest-USA</td>\n",
              "      <td>1</td>\n",
              "      <td>153.71</td>\n",
              "      <td>153.71</td>\n",
              "      <td>6.5</td>\n",
              "      <td>1/1/2019</td>\n",
              "      <td>1</td>\n",
              "    </tr>\n",
              "    <tr>\n",
              "      <th>2</th>\n",
              "      <td>17850</td>\n",
              "      <td>M</td>\n",
              "      <td>Chicago</td>\n",
              "      <td>12</td>\n",
              "      <td>16696</td>\n",
              "      <td>2019-01-01</td>\n",
              "      <td>GGOENEBQ078999</td>\n",
              "      <td>Nest Cam Outdoor Security Camera - USA</td>\n",
              "      <td>Nest-USA</td>\n",
              "      <td>2</td>\n",
              "      <td>122.77</td>\n",
              "      <td>245.54</td>\n",
              "      <td>6.5</td>\n",
              "      <td>1/1/2019</td>\n",
              "      <td>1</td>\n",
              "    </tr>\n",
              "    <tr>\n",
              "      <th>3</th>\n",
              "      <td>17850</td>\n",
              "      <td>M</td>\n",
              "      <td>Chicago</td>\n",
              "      <td>12</td>\n",
              "      <td>16699</td>\n",
              "      <td>2019-01-01</td>\n",
              "      <td>GGOENEBQ079099</td>\n",
              "      <td>Nest Protect Smoke + CO White Battery Alarm-USA</td>\n",
              "      <td>Nest-USA</td>\n",
              "      <td>1</td>\n",
              "      <td>81.50</td>\n",
              "      <td>81.50</td>\n",
              "      <td>6.5</td>\n",
              "      <td>1/1/2019</td>\n",
              "      <td>1</td>\n",
              "    </tr>\n",
              "    <tr>\n",
              "      <th>4</th>\n",
              "      <td>17850</td>\n",
              "      <td>M</td>\n",
              "      <td>Chicago</td>\n",
              "      <td>12</td>\n",
              "      <td>16700</td>\n",
              "      <td>2019-01-01</td>\n",
              "      <td>GGOENEBJ079499</td>\n",
              "      <td>Nest Learning Thermostat 3rd Gen-USA - Stainle...</td>\n",
              "      <td>Nest-USA</td>\n",
              "      <td>1</td>\n",
              "      <td>153.71</td>\n",
              "      <td>153.71</td>\n",
              "      <td>6.5</td>\n",
              "      <td>1/1/2019</td>\n",
              "      <td>1</td>\n",
              "    </tr>\n",
              "    <tr>\n",
              "      <th>...</th>\n",
              "      <td>...</td>\n",
              "      <td>...</td>\n",
              "      <td>...</td>\n",
              "      <td>...</td>\n",
              "      <td>...</td>\n",
              "      <td>...</td>\n",
              "      <td>...</td>\n",
              "      <td>...</td>\n",
              "      <td>...</td>\n",
              "      <td>...</td>\n",
              "      <td>...</td>\n",
              "      <td>...</td>\n",
              "      <td>...</td>\n",
              "      <td>...</td>\n",
              "      <td>...</td>\n",
              "    </tr>\n",
              "    <tr>\n",
              "      <th>52919</th>\n",
              "      <td>13155</td>\n",
              "      <td>F</td>\n",
              "      <td>California</td>\n",
              "      <td>8</td>\n",
              "      <td>22504</td>\n",
              "      <td>2019-03-10</td>\n",
              "      <td>GGOEGGCX056399</td>\n",
              "      <td>Gift Card - $250.00</td>\n",
              "      <td>Gift Cards</td>\n",
              "      <td>1</td>\n",
              "      <td>250.00</td>\n",
              "      <td>250.00</td>\n",
              "      <td>0.0</td>\n",
              "      <td>3/10/2019</td>\n",
              "      <td>3</td>\n",
              "    </tr>\n",
              "    <tr>\n",
              "      <th>52920</th>\n",
              "      <td>18077</td>\n",
              "      <td>M</td>\n",
              "      <td>Chicago</td>\n",
              "      <td>34</td>\n",
              "      <td>24250</td>\n",
              "      <td>2019-03-28</td>\n",
              "      <td>GGOEGGCX056299</td>\n",
              "      <td>Gift Card - $25.00</td>\n",
              "      <td>Gift Cards</td>\n",
              "      <td>1</td>\n",
              "      <td>25.00</td>\n",
              "      <td>25.00</td>\n",
              "      <td>0.0</td>\n",
              "      <td>3/28/2019</td>\n",
              "      <td>3</td>\n",
              "    </tr>\n",
              "    <tr>\n",
              "      <th>52921</th>\n",
              "      <td>16085</td>\n",
              "      <td>M</td>\n",
              "      <td>California</td>\n",
              "      <td>15</td>\n",
              "      <td>39991</td>\n",
              "      <td>2019-10-06</td>\n",
              "      <td>GGOEGOCD078399</td>\n",
              "      <td>Google Leather Perforated Journal</td>\n",
              "      <td>Notebooks &amp; Journals</td>\n",
              "      <td>1</td>\n",
              "      <td>10.80</td>\n",
              "      <td>10.80</td>\n",
              "      <td>6.0</td>\n",
              "      <td>10/6/2019</td>\n",
              "      <td>10</td>\n",
              "    </tr>\n",
              "    <tr>\n",
              "      <th>52922</th>\n",
              "      <td>16085</td>\n",
              "      <td>M</td>\n",
              "      <td>California</td>\n",
              "      <td>15</td>\n",
              "      <td>39991</td>\n",
              "      <td>2019-10-06</td>\n",
              "      <td>GGOEGOCR078499</td>\n",
              "      <td>Google Spiral Leather Journal</td>\n",
              "      <td>Notebooks &amp; Journals</td>\n",
              "      <td>1</td>\n",
              "      <td>9.60</td>\n",
              "      <td>9.60</td>\n",
              "      <td>6.0</td>\n",
              "      <td>10/6/2019</td>\n",
              "      <td>10</td>\n",
              "    </tr>\n",
              "    <tr>\n",
              "      <th>52923</th>\n",
              "      <td>13659</td>\n",
              "      <td>F</td>\n",
              "      <td>Chicago</td>\n",
              "      <td>8</td>\n",
              "      <td>39998</td>\n",
              "      <td>2019-10-06</td>\n",
              "      <td>GGOEGOCC077999</td>\n",
              "      <td>Google Spiral Journal with Pen</td>\n",
              "      <td>Notebooks &amp; Journals</td>\n",
              "      <td>1</td>\n",
              "      <td>5.59</td>\n",
              "      <td>5.59</td>\n",
              "      <td>6.5</td>\n",
              "      <td>10/6/2019</td>\n",
              "      <td>10</td>\n",
              "    </tr>\n",
              "  </tbody>\n",
              "</table>\n",
              "<p>52924 rows × 15 columns</p>\n",
              "</div>\n",
              "    <div class=\"colab-df-buttons\">\n",
              "\n",
              "  <div class=\"colab-df-container\">\n",
              "    <button class=\"colab-df-convert\" onclick=\"convertToInteractive('df-09c814b9-c837-4957-ac7f-9a3e9ae6b19b')\"\n",
              "            title=\"Convert this dataframe to an interactive table.\"\n",
              "            style=\"display:none;\">\n",
              "\n",
              "  <svg xmlns=\"http://www.w3.org/2000/svg\" height=\"24px\" viewBox=\"0 -960 960 960\">\n",
              "    <path d=\"M120-120v-720h720v720H120Zm60-500h600v-160H180v160Zm220 220h160v-160H400v160Zm0 220h160v-160H400v160ZM180-400h160v-160H180v160Zm440 0h160v-160H620v160ZM180-180h160v-160H180v160Zm440 0h160v-160H620v160Z\"/>\n",
              "  </svg>\n",
              "    </button>\n",
              "\n",
              "  <style>\n",
              "    .colab-df-container {\n",
              "      display:flex;\n",
              "      gap: 12px;\n",
              "    }\n",
              "\n",
              "    .colab-df-convert {\n",
              "      background-color: #E8F0FE;\n",
              "      border: none;\n",
              "      border-radius: 50%;\n",
              "      cursor: pointer;\n",
              "      display: none;\n",
              "      fill: #1967D2;\n",
              "      height: 32px;\n",
              "      padding: 0 0 0 0;\n",
              "      width: 32px;\n",
              "    }\n",
              "\n",
              "    .colab-df-convert:hover {\n",
              "      background-color: #E2EBFA;\n",
              "      box-shadow: 0px 1px 2px rgba(60, 64, 67, 0.3), 0px 1px 3px 1px rgba(60, 64, 67, 0.15);\n",
              "      fill: #174EA6;\n",
              "    }\n",
              "\n",
              "    .colab-df-buttons div {\n",
              "      margin-bottom: 4px;\n",
              "    }\n",
              "\n",
              "    [theme=dark] .colab-df-convert {\n",
              "      background-color: #3B4455;\n",
              "      fill: #D2E3FC;\n",
              "    }\n",
              "\n",
              "    [theme=dark] .colab-df-convert:hover {\n",
              "      background-color: #434B5C;\n",
              "      box-shadow: 0px 1px 3px 1px rgba(0, 0, 0, 0.15);\n",
              "      filter: drop-shadow(0px 1px 2px rgba(0, 0, 0, 0.3));\n",
              "      fill: #FFFFFF;\n",
              "    }\n",
              "  </style>\n",
              "\n",
              "    <script>\n",
              "      const buttonEl =\n",
              "        document.querySelector('#df-09c814b9-c837-4957-ac7f-9a3e9ae6b19b button.colab-df-convert');\n",
              "      buttonEl.style.display =\n",
              "        google.colab.kernel.accessAllowed ? 'block' : 'none';\n",
              "\n",
              "      async function convertToInteractive(key) {\n",
              "        const element = document.querySelector('#df-09c814b9-c837-4957-ac7f-9a3e9ae6b19b');\n",
              "        const dataTable =\n",
              "          await google.colab.kernel.invokeFunction('convertToInteractive',\n",
              "                                                    [key], {});\n",
              "        if (!dataTable) return;\n",
              "\n",
              "        const docLinkHtml = 'Like what you see? Visit the ' +\n",
              "          '<a target=\"_blank\" href=https://colab.research.google.com/notebooks/data_table.ipynb>data table notebook</a>'\n",
              "          + ' to learn more about interactive tables.';\n",
              "        element.innerHTML = '';\n",
              "        dataTable['output_type'] = 'display_data';\n",
              "        await google.colab.output.renderOutput(dataTable, element);\n",
              "        const docLink = document.createElement('div');\n",
              "        docLink.innerHTML = docLinkHtml;\n",
              "        element.appendChild(docLink);\n",
              "      }\n",
              "    </script>\n",
              "  </div>\n",
              "\n",
              "\n",
              "<div id=\"df-7c47512f-8e41-4125-a2fc-b2e7b8e1e359\">\n",
              "  <button class=\"colab-df-quickchart\" onclick=\"quickchart('df-7c47512f-8e41-4125-a2fc-b2e7b8e1e359')\"\n",
              "            title=\"Suggest charts\"\n",
              "            style=\"display:none;\">\n",
              "\n",
              "<svg xmlns=\"http://www.w3.org/2000/svg\" height=\"24px\"viewBox=\"0 0 24 24\"\n",
              "     width=\"24px\">\n",
              "    <g>\n",
              "        <path d=\"M19 3H5c-1.1 0-2 .9-2 2v14c0 1.1.9 2 2 2h14c1.1 0 2-.9 2-2V5c0-1.1-.9-2-2-2zM9 17H7v-7h2v7zm4 0h-2V7h2v10zm4 0h-2v-4h2v4z\"/>\n",
              "    </g>\n",
              "</svg>\n",
              "  </button>\n",
              "\n",
              "<style>\n",
              "  .colab-df-quickchart {\n",
              "      --bg-color: #E8F0FE;\n",
              "      --fill-color: #1967D2;\n",
              "      --hover-bg-color: #E2EBFA;\n",
              "      --hover-fill-color: #174EA6;\n",
              "      --disabled-fill-color: #AAA;\n",
              "      --disabled-bg-color: #DDD;\n",
              "  }\n",
              "\n",
              "  [theme=dark] .colab-df-quickchart {\n",
              "      --bg-color: #3B4455;\n",
              "      --fill-color: #D2E3FC;\n",
              "      --hover-bg-color: #434B5C;\n",
              "      --hover-fill-color: #FFFFFF;\n",
              "      --disabled-bg-color: #3B4455;\n",
              "      --disabled-fill-color: #666;\n",
              "  }\n",
              "\n",
              "  .colab-df-quickchart {\n",
              "    background-color: var(--bg-color);\n",
              "    border: none;\n",
              "    border-radius: 50%;\n",
              "    cursor: pointer;\n",
              "    display: none;\n",
              "    fill: var(--fill-color);\n",
              "    height: 32px;\n",
              "    padding: 0;\n",
              "    width: 32px;\n",
              "  }\n",
              "\n",
              "  .colab-df-quickchart:hover {\n",
              "    background-color: var(--hover-bg-color);\n",
              "    box-shadow: 0 1px 2px rgba(60, 64, 67, 0.3), 0 1px 3px 1px rgba(60, 64, 67, 0.15);\n",
              "    fill: var(--button-hover-fill-color);\n",
              "  }\n",
              "\n",
              "  .colab-df-quickchart-complete:disabled,\n",
              "  .colab-df-quickchart-complete:disabled:hover {\n",
              "    background-color: var(--disabled-bg-color);\n",
              "    fill: var(--disabled-fill-color);\n",
              "    box-shadow: none;\n",
              "  }\n",
              "\n",
              "  .colab-df-spinner {\n",
              "    border: 2px solid var(--fill-color);\n",
              "    border-color: transparent;\n",
              "    border-bottom-color: var(--fill-color);\n",
              "    animation:\n",
              "      spin 1s steps(1) infinite;\n",
              "  }\n",
              "\n",
              "  @keyframes spin {\n",
              "    0% {\n",
              "      border-color: transparent;\n",
              "      border-bottom-color: var(--fill-color);\n",
              "      border-left-color: var(--fill-color);\n",
              "    }\n",
              "    20% {\n",
              "      border-color: transparent;\n",
              "      border-left-color: var(--fill-color);\n",
              "      border-top-color: var(--fill-color);\n",
              "    }\n",
              "    30% {\n",
              "      border-color: transparent;\n",
              "      border-left-color: var(--fill-color);\n",
              "      border-top-color: var(--fill-color);\n",
              "      border-right-color: var(--fill-color);\n",
              "    }\n",
              "    40% {\n",
              "      border-color: transparent;\n",
              "      border-right-color: var(--fill-color);\n",
              "      border-top-color: var(--fill-color);\n",
              "    }\n",
              "    60% {\n",
              "      border-color: transparent;\n",
              "      border-right-color: var(--fill-color);\n",
              "    }\n",
              "    80% {\n",
              "      border-color: transparent;\n",
              "      border-right-color: var(--fill-color);\n",
              "      border-bottom-color: var(--fill-color);\n",
              "    }\n",
              "    90% {\n",
              "      border-color: transparent;\n",
              "      border-bottom-color: var(--fill-color);\n",
              "    }\n",
              "  }\n",
              "</style>\n",
              "\n",
              "  <script>\n",
              "    async function quickchart(key) {\n",
              "      const quickchartButtonEl =\n",
              "        document.querySelector('#' + key + ' button');\n",
              "      quickchartButtonEl.disabled = true;  // To prevent multiple clicks.\n",
              "      quickchartButtonEl.classList.add('colab-df-spinner');\n",
              "      try {\n",
              "        const charts = await google.colab.kernel.invokeFunction(\n",
              "            'suggestCharts', [key], {});\n",
              "      } catch (error) {\n",
              "        console.error('Error during call to suggestCharts:', error);\n",
              "      }\n",
              "      quickchartButtonEl.classList.remove('colab-df-spinner');\n",
              "      quickchartButtonEl.classList.add('colab-df-quickchart-complete');\n",
              "    }\n",
              "    (() => {\n",
              "      let quickchartButtonEl =\n",
              "        document.querySelector('#df-7c47512f-8e41-4125-a2fc-b2e7b8e1e359 button');\n",
              "      quickchartButtonEl.style.display =\n",
              "        google.colab.kernel.accessAllowed ? 'block' : 'none';\n",
              "    })();\n",
              "  </script>\n",
              "</div>\n",
              "\n",
              "  <div id=\"id_6034cfdc-47ee-4cbb-8ba5-78c43d646983\">\n",
              "    <style>\n",
              "      .colab-df-generate {\n",
              "        background-color: #E8F0FE;\n",
              "        border: none;\n",
              "        border-radius: 50%;\n",
              "        cursor: pointer;\n",
              "        display: none;\n",
              "        fill: #1967D2;\n",
              "        height: 32px;\n",
              "        padding: 0 0 0 0;\n",
              "        width: 32px;\n",
              "      }\n",
              "\n",
              "      .colab-df-generate:hover {\n",
              "        background-color: #E2EBFA;\n",
              "        box-shadow: 0px 1px 2px rgba(60, 64, 67, 0.3), 0px 1px 3px 1px rgba(60, 64, 67, 0.15);\n",
              "        fill: #174EA6;\n",
              "      }\n",
              "\n",
              "      [theme=dark] .colab-df-generate {\n",
              "        background-color: #3B4455;\n",
              "        fill: #D2E3FC;\n",
              "      }\n",
              "\n",
              "      [theme=dark] .colab-df-generate:hover {\n",
              "        background-color: #434B5C;\n",
              "        box-shadow: 0px 1px 3px 1px rgba(0, 0, 0, 0.15);\n",
              "        filter: drop-shadow(0px 1px 2px rgba(0, 0, 0, 0.3));\n",
              "        fill: #FFFFFF;\n",
              "      }\n",
              "    </style>\n",
              "    <button class=\"colab-df-generate\" onclick=\"generateWithVariable('online_shopping_df')\"\n",
              "            title=\"Generate code using this dataframe.\"\n",
              "            style=\"display:none;\">\n",
              "\n",
              "  <svg xmlns=\"http://www.w3.org/2000/svg\" height=\"24px\"viewBox=\"0 0 24 24\"\n",
              "       width=\"24px\">\n",
              "    <path d=\"M7,19H8.4L18.45,9,17,7.55,7,17.6ZM5,21V16.75L18.45,3.32a2,2,0,0,1,2.83,0l1.4,1.43a1.91,1.91,0,0,1,.58,1.4,1.91,1.91,0,0,1-.58,1.4L9.25,21ZM18.45,9,17,7.55Zm-12,3A5.31,5.31,0,0,0,4.9,8.1,5.31,5.31,0,0,0,1,6.5,5.31,5.31,0,0,0,4.9,4.9,5.31,5.31,0,0,0,6.5,1,5.31,5.31,0,0,0,8.1,4.9,5.31,5.31,0,0,0,12,6.5,5.46,5.46,0,0,0,6.5,12Z\"/>\n",
              "  </svg>\n",
              "    </button>\n",
              "    <script>\n",
              "      (() => {\n",
              "      const buttonEl =\n",
              "        document.querySelector('#id_6034cfdc-47ee-4cbb-8ba5-78c43d646983 button.colab-df-generate');\n",
              "      buttonEl.style.display =\n",
              "        google.colab.kernel.accessAllowed ? 'block' : 'none';\n",
              "\n",
              "      buttonEl.onclick = () => {\n",
              "        google.colab.notebook.generateWithVariable('online_shopping_df');\n",
              "      }\n",
              "      })();\n",
              "    </script>\n",
              "  </div>\n",
              "\n",
              "    </div>\n",
              "  </div>\n"
            ],
            "application/vnd.google.colaboratory.intrinsic+json": {
              "type": "dataframe",
              "variable_name": "online_shopping_df",
              "summary": "{\n  \"name\": \"online_shopping_df\",\n  \"rows\": 52924,\n  \"fields\": [\n    {\n      \"column\": \"CustomerID\",\n      \"properties\": {\n        \"dtype\": \"number\",\n        \"std\": 1766,\n        \"min\": 12346,\n        \"max\": 18283,\n        \"num_unique_values\": 1468,\n        \"samples\": [\n          16252,\n          12471,\n          17676\n        ],\n        \"semantic_type\": \"\",\n        \"description\": \"\"\n      }\n    },\n    {\n      \"column\": \"Gender\",\n      \"properties\": {\n        \"dtype\": \"category\",\n        \"num_unique_values\": 2,\n        \"samples\": [\n          \"F\",\n          \"M\"\n        ],\n        \"semantic_type\": \"\",\n        \"description\": \"\"\n      }\n    },\n    {\n      \"column\": \"Location\",\n      \"properties\": {\n        \"dtype\": \"category\",\n        \"num_unique_values\": 5,\n        \"samples\": [\n          \"California\",\n          \"Washington DC\"\n        ],\n        \"semantic_type\": \"\",\n        \"description\": \"\"\n      }\n    },\n    {\n      \"column\": \"Tenure_Months\",\n      \"properties\": {\n        \"dtype\": \"number\",\n        \"std\": 13,\n        \"min\": 2,\n        \"max\": 50,\n        \"num_unique_values\": 49,\n        \"samples\": [\n          41,\n          47\n        ],\n        \"semantic_type\": \"\",\n        \"description\": \"\"\n      }\n    },\n    {\n      \"column\": \"Transaction_ID\",\n      \"properties\": {\n        \"dtype\": \"number\",\n        \"std\": 8648,\n        \"min\": 16679,\n        \"max\": 48497,\n        \"num_unique_values\": 25061,\n        \"samples\": [\n          48136,\n          36279\n        ],\n        \"semantic_type\": \"\",\n        \"description\": \"\"\n      }\n    },\n    {\n      \"column\": \"Transaction_Date\",\n      \"properties\": {\n        \"dtype\": \"object\",\n        \"num_unique_values\": 365,\n        \"samples\": [\n          \"2019-11-06\",\n          \"2019-12-08\"\n        ],\n        \"semantic_type\": \"\",\n        \"description\": \"\"\n      }\n    },\n    {\n      \"column\": \"Product_SKU\",\n      \"properties\": {\n        \"dtype\": \"category\",\n        \"num_unique_values\": 1145,\n        \"samples\": [\n          \"GGOEYAAB031815\",\n          \"GGOEGALJ060115\"\n        ],\n        \"semantic_type\": \"\",\n        \"description\": \"\"\n      }\n    },\n    {\n      \"column\": \"Product_Description\",\n      \"properties\": {\n        \"dtype\": \"category\",\n        \"num_unique_values\": 404,\n        \"samples\": [\n          \"Google Women's Short Sleeve Badge Tee Navy\",\n          \"Google 40 oz Insulated Monster Bottle\"\n        ],\n        \"semantic_type\": \"\",\n        \"description\": \"\"\n      }\n    },\n    {\n      \"column\": \"Product_Category\",\n      \"properties\": {\n        \"dtype\": \"category\",\n        \"num_unique_values\": 20,\n        \"samples\": [\n          \"Nest-USA\",\n          \"Android\"\n        ],\n        \"semantic_type\": \"\",\n        \"description\": \"\"\n      }\n    },\n    {\n      \"column\": \"Quantity\",\n      \"properties\": {\n        \"dtype\": \"number\",\n        \"std\": 20,\n        \"min\": 1,\n        \"max\": 900,\n        \"num_unique_values\": 151,\n        \"samples\": [\n          130,\n          36\n        ],\n        \"semantic_type\": \"\",\n        \"description\": \"\"\n      }\n    },\n    {\n      \"column\": \"Avg_Price\",\n      \"properties\": {\n        \"dtype\": \"number\",\n        \"std\": 64.00688159847277,\n        \"min\": 0.39,\n        \"max\": 355.74,\n        \"num_unique_values\": 546,\n        \"samples\": [\n          28.0,\n          1.5\n        ],\n        \"semantic_type\": \"\",\n        \"description\": \"\"\n      }\n    },\n    {\n      \"column\": \"Total_Price\",\n      \"properties\": {\n        \"dtype\": \"number\",\n        \"std\": 163.9931781305806,\n        \"min\": 0.4,\n        \"max\": 10512.39,\n        \"num_unique_values\": 2652,\n        \"samples\": [\n          309.14,\n          23.52\n        ],\n        \"semantic_type\": \"\",\n        \"description\": \"\"\n      }\n    },\n    {\n      \"column\": \"Delivery_Charges\",\n      \"properties\": {\n        \"dtype\": \"number\",\n        \"std\": 19.47561323182179,\n        \"min\": 0.0,\n        \"max\": 521.36,\n        \"num_unique_values\": 267,\n        \"samples\": [\n          14.41,\n          16.65\n        ],\n        \"semantic_type\": \"\",\n        \"description\": \"\"\n      }\n    },\n    {\n      \"column\": \"Date\",\n      \"properties\": {\n        \"dtype\": \"object\",\n        \"num_unique_values\": 365,\n        \"samples\": [\n          \"11/6/2019\",\n          \"12/8/2019\"\n        ],\n        \"semantic_type\": \"\",\n        \"description\": \"\"\n      }\n    },\n    {\n      \"column\": \"Month\",\n      \"properties\": {\n        \"dtype\": \"number\",\n        \"std\": 3,\n        \"min\": 1,\n        \"max\": 12,\n        \"num_unique_values\": 12,\n        \"samples\": [\n          7,\n          5\n        ],\n        \"semantic_type\": \"\",\n        \"description\": \"\"\n      }\n    }\n  ]\n}"
            }
          },
          "metadata": {},
          "execution_count": 11
        }
      ]
    },
    {
      "cell_type": "markdown",
      "source": [
        "test sql query"
      ],
      "metadata": {
        "id": "U3sofwjayBPl"
      }
    },
    {
      "cell_type": "code",
      "source": [
        "db.run(\"SELECT * FROM online_shopping LIMIT 5;\")"
      ],
      "metadata": {
        "colab": {
          "base_uri": "https://localhost:8080/",
          "height": 126
        },
        "id": "8yF_sVu_ndIL",
        "outputId": "d569e35b-67ea-41a6-f511-a317e917713f"
      },
      "execution_count": 17,
      "outputs": [
        {
          "output_type": "execute_result",
          "data": {
            "text/plain": [
              "\"[(17850, 'M', 'Chicago', 12, 16679, '2019-01-01', 'GGOENEBJ079499', 'Nest Learning Thermostat 3rd Gen-USA - Stainless Steel', 'Nest-USA', 1, 153.71, 153.71, 6.5, '1/1/2019', 1), (17850, 'M', 'Chicago', 12, 16680, '2019-01-01', 'GGOENEBJ079499', 'Nest Learning Thermostat 3rd Gen-USA - Stainless Steel', 'Nest-USA', 1, 153.71, 153.71, 6.5, '1/1/2019', 1), (17850, 'M', 'Chicago', 12, 16696, '2019-01-01', 'GGOENEBQ078999', 'Nest Cam Outdoor Security Camera - USA', 'Nest-USA', 2, 122.77, 245.54, 6.5, '1/1/2019', 1), (17850, 'M', 'Chicago', 12, 16699, '2019-01-01', 'GGOENEBQ079099', 'Nest Protect Smoke + CO White Battery Alarm-USA', 'Nest-USA', 1, 81.5, 81.5, 6.5, '1/1/2019', 1), (17850, 'M', 'Chicago', 12, 16700, '2019-01-01', 'GGOENEBJ079499', 'Nest Learning Thermostat 3rd Gen-USA - Stainless Steel', 'Nest-USA', 1, 153.71, 153.71, 6.5, '1/1/2019', 1)]\""
            ],
            "application/vnd.google.colaboratory.intrinsic+json": {
              "type": "string"
            }
          },
          "metadata": {},
          "execution_count": 17
        }
      ]
    },
    {
      "cell_type": "markdown",
      "source": [
        "### Using groq via Langchain"
      ],
      "metadata": {
        "id": "wJr66mW2yOEp"
      }
    },
    {
      "cell_type": "markdown",
      "source": [
        "**login**\n",
        "https://console.groq.com/home\n",
        "\n",
        "**model**\n",
        "https://console.groq.com/docs/models"
      ],
      "metadata": {
        "id": "AxWWy2k-czTQ"
      }
    },
    {
      "cell_type": "code",
      "source": [
        "!pip -q install -U langchain-groq"
      ],
      "metadata": {
        "id": "z8QDt3g7nqKt"
      },
      "execution_count": 19,
      "outputs": []
    },
    {
      "cell_type": "code",
      "source": [
        "from langchain_groq import ChatGroq\n",
        "from google.colab import userdata\n",
        "\n",
        "llm = ChatGroq(\n",
        "    api_key = userdata.get('GROQ_API'),\n",
        "    model= \"meta-llama/llama-4-scout-17b-16e-instruct\",  # meta-llama/llama-4-maverick-17b-128e-instruct    #\"llama-3.1-70b-versatile\"\n",
        "    temperature=0,\n",
        "    # other params...\n",
        ")\n",
        "\n"
      ],
      "metadata": {
        "id": "cHpvLCQSof02"
      },
      "execution_count": 20,
      "outputs": []
    },
    {
      "cell_type": "markdown",
      "source": [
        "call llm Example"
      ],
      "metadata": {
        "id": "-cWDxET5yelZ"
      }
    },
    {
      "cell_type": "code",
      "source": [
        "## Example\n",
        "messages = [\n",
        "    (\"system\", \"You are a helpful translator. Translate the usersentence to Thai.\"),\n",
        "    (\"human\", \"I love programming.\"),\n",
        "]\n",
        "llm.invoke(messages)"
      ],
      "metadata": {
        "colab": {
          "base_uri": "https://localhost:8080/"
        },
        "id": "q89K3xMF1_F1",
        "outputId": "423cf51f-5fd2-4e87-d006-db8229996680"
      },
      "execution_count": 21,
      "outputs": [
        {
          "output_type": "execute_result",
          "data": {
            "text/plain": [
              "AIMessage(content='ฉันชอบเขียนโปรแกรม', additional_kwargs={}, response_metadata={'token_usage': {'completion_tokens': 5, 'prompt_tokens': 32, 'total_tokens': 37, 'completion_time': 0.010058458, 'prompt_time': 0.003042664, 'queue_time': 0.215024852, 'total_time': 0.013101122}, 'model_name': 'meta-llama/llama-4-scout-17b-16e-instruct', 'system_fingerprint': 'fp_42ae451038', 'finish_reason': 'stop', 'logprobs': None}, id='run-410f5b91-bd96-4af6-9003-5405b680a321-0', usage_metadata={'input_tokens': 32, 'output_tokens': 5, 'total_tokens': 37})"
            ]
          },
          "metadata": {},
          "execution_count": 21
        }
      ]
    },
    {
      "cell_type": "markdown",
      "source": [
        "### Creat sql Chain"
      ],
      "metadata": {
        "id": "kVNHwIZEyqU2"
      }
    },
    {
      "cell_type": "code",
      "source": [
        "from langchain.chains import create_sql_query_chain\n",
        "\n",
        "chain = create_sql_query_chain(llm, db)\n",
        "print(chain.get_prompts()[0].pretty_print())\n"
      ],
      "metadata": {
        "colab": {
          "base_uri": "https://localhost:8080/"
        },
        "id": "vvhq3zJ3oz-t",
        "outputId": "75aa1844-0ba4-42cf-ced6-856b62e91ff2"
      },
      "execution_count": 22,
      "outputs": [
        {
          "output_type": "stream",
          "name": "stdout",
          "text": [
            "You are a PostgreSQL expert. Given an input question, first create a syntactically correct PostgreSQL query to run, then look at the results of the query and return the answer to the input question.\n",
            "Unless the user specifies in the question a specific number of examples to obtain, query for at most 5 results using the LIMIT clause as per PostgreSQL. You can order the results to return the most informative data in the database.\n",
            "Never query for all columns from a table. You must query only the columns that are needed to answer the question. Wrap each column name in double quotes (\") to denote them as delimited identifiers.\n",
            "Pay attention to use only the column names you can see in the tables below. Be careful to not query for columns that do not exist. Also, pay attention to which column is in which table.\n",
            "Pay attention to use CURRENT_DATE function to get the current date, if the question involves \"today\".\n",
            "\n",
            "Use the following format:\n",
            "\n",
            "Question: Question here\n",
            "SQLQuery: SQL Query to run\n",
            "SQLResult: Result of the SQLQuery\n",
            "Answer: Final answer here\n",
            "\n",
            "Only use the following tables:\n",
            "\u001b[33;1m\u001b[1;3m{table_info}\u001b[0m\n",
            "\n",
            "Question: \u001b[33;1m\u001b[1;3m{input}\u001b[0m\n",
            "None\n"
          ]
        }
      ]
    },
    {
      "cell_type": "markdown",
      "source": [
        "#### Step 1 SQLQuery from LLM"
      ],
      "metadata": {
        "id": "m0M4yQkxzH5l"
      }
    },
    {
      "cell_type": "code",
      "source": [
        "Quesion = \"มี Ticket_ID จำนวนเท่าไหร่ ที่ Date_of_Purchase ตั้งแต่ 2020-02-01 ถึง 2020-02-28\"\n",
        "response = chain.invoke({\"question\": Quesion})\n",
        "response"
      ],
      "metadata": {
        "colab": {
          "base_uri": "https://localhost:8080/",
          "height": 54
        },
        "id": "SSUgE8dbuwdu",
        "outputId": "6b7d9833-9592-44e6-de30-51308cc08650"
      },
      "execution_count": 23,
      "outputs": [
        {
          "output_type": "execute_result",
          "data": {
            "text/plain": [
              "'Question: มี Ticket_ID จำนวนเท่าไหร่ ที่ Date_of_Purchase ตั้งแต่2020-02-01 ถึง2020-02-28\\n\\nSQLQuery:\\n```sql\\nSELECT COUNT(\"Ticket_ID\") \\nFROM customer_support_tickets \\nWHERE \"Date_of_Purchase\" BETWEEN \\'2020-02-01\\' AND \\'2020-02-28\\';\\n```'"
            ],
            "application/vnd.google.colaboratory.intrinsic+json": {
              "type": "string"
            }
          },
          "metadata": {},
          "execution_count": 23
        }
      ]
    },
    {
      "cell_type": "code",
      "source": [
        "print(response.split('SQLQuery:')[-1][7:-3])"
      ],
      "metadata": {
        "colab": {
          "base_uri": "https://localhost:8080/"
        },
        "id": "mxTW8oqhpa6w",
        "outputId": "c7373fe3-a766-414d-9b38-7dc9e309d008"
      },
      "execution_count": 26,
      "outputs": [
        {
          "output_type": "stream",
          "name": "stdout",
          "text": [
            "\n",
            "SELECT COUNT(\"Ticket_ID\") \n",
            "FROM customer_support_tickets \n",
            "WHERE \"Date_of_Purchase\" BETWEEN '2020-02-01' AND '2020-02-28';\n",
            "\n"
          ]
        }
      ]
    },
    {
      "cell_type": "markdown",
      "source": [
        "#### Step 2 SQLResult from sqlquery"
      ],
      "metadata": {
        "id": "npTWXm8RzR9c"
      }
    },
    {
      "cell_type": "code",
      "source": [
        "SQL_Result=db.run(response.split('SQLQuery:')[-1][7:-3])\n",
        "SQL_Result"
      ],
      "metadata": {
        "colab": {
          "base_uri": "https://localhost:8080/",
          "height": 36
        },
        "id": "t4QNQzFRpfQ5",
        "outputId": "545a8ba3-bcd9-4c34-fd81-c8302d7ed563"
      },
      "execution_count": 28,
      "outputs": [
        {
          "output_type": "execute_result",
          "data": {
            "text/plain": [
              "'[(361,)]'"
            ],
            "application/vnd.google.colaboratory.intrinsic+json": {
              "type": "string"
            }
          },
          "metadata": {},
          "execution_count": 28
        }
      ]
    },
    {
      "cell_type": "markdown",
      "source": [
        "#### Step 3 get Answer from LLM"
      ],
      "metadata": {
        "id": "C8QdQdCRzhoq"
      }
    },
    {
      "cell_type": "code",
      "source": [
        "answer_prompt =f\"\"\"\n",
        "given the following user question, corresponding SQL query, and SQL result, answer the user question.\n",
        "\n",
        "Question: {Quesion}\n",
        "SQL Query: {response.split('SQLQuery:')[-1]}\n",
        "SQL Result: {SQL_Result}\n",
        "Answer:\n",
        "\"\"\"\n",
        "messages = [\n",
        "    (\"system\", answer_prompt),\n",
        "]\n",
        "answer = llm.invoke(messages)\n",
        "answer"
      ],
      "metadata": {
        "colab": {
          "base_uri": "https://localhost:8080/"
        },
        "id": "V7MrwDVh2PJg",
        "outputId": "1995b6de-fb6f-475d-cc72-6b44e128efc0"
      },
      "execution_count": 29,
      "outputs": [
        {
          "output_type": "execute_result",
          "data": {
            "text/plain": [
              "AIMessage(content='มี Ticket_ID จำนวน 361 รายการ ที่ Date_of_Purchase ตั้งแต่2020-02-01 ถึง2020-02-28', additional_kwargs={}, response_metadata={'token_usage': {'completion_tokens': 29, 'prompt_tokens': 116, 'total_tokens': 145, 'completion_time': 0.057380285, 'prompt_time': 0.005519435, 'queue_time': 0.262383368, 'total_time': 0.06289972}, 'model_name': 'meta-llama/llama-4-scout-17b-16e-instruct', 'system_fingerprint': 'fp_37da608fc1', 'finish_reason': 'stop', 'logprobs': None}, id='run-b08100c3-c6aa-4a44-be53-e41395a5935a-0', usage_metadata={'input_tokens': 116, 'output_tokens': 29, 'total_tokens': 145})"
            ]
          },
          "metadata": {},
          "execution_count": 29
        }
      ]
    },
    {
      "cell_type": "code",
      "source": [
        "answer.content"
      ],
      "metadata": {
        "colab": {
          "base_uri": "https://localhost:8080/",
          "height": 36
        },
        "id": "Dw23UD0j3HWS",
        "outputId": "41f44220-66b2-47fa-bced-714654cf5870"
      },
      "execution_count": 30,
      "outputs": [
        {
          "output_type": "execute_result",
          "data": {
            "text/plain": [
              "'มี Ticket_ID จำนวน 361 รายการ ที่ Date_of_Purchase ตั้งแต่2020-02-01 ถึง2020-02-28'"
            ],
            "application/vnd.google.colaboratory.intrinsic+json": {
              "type": "string"
            }
          },
          "metadata": {},
          "execution_count": 30
        }
      ]
    },
    {
      "cell_type": "markdown",
      "source": [
        "### Combine chain in one process"
      ],
      "metadata": {
        "id": "imlqy-nEzxJk"
      }
    },
    {
      "cell_type": "code",
      "source": [
        "from langchain_community.tools.sql_database.tool import QuerySQLDataBaseTool\n",
        "\n",
        "execute_query = QuerySQLDataBaseTool(db=db)\n",
        "write_query = create_sql_query_chain(llm, db)\n",
        "chain = write_query | execute_query\n",
        "chain.invoke({\"question\": Quesion})"
      ],
      "metadata": {
        "colab": {
          "base_uri": "https://localhost:8080/",
          "height": 128
        },
        "id": "A7p7vgpmq7wU",
        "outputId": "1dc58697-a2db-4d52-92ad-a086ce276706"
      },
      "execution_count": 31,
      "outputs": [
        {
          "output_type": "stream",
          "name": "stderr",
          "text": [
            "<ipython-input-31-cf898f7f3b82>:3: LangChainDeprecationWarning: The class `QuerySQLDataBaseTool` was deprecated in LangChain 0.3.12 and will be removed in 1.0. An updated version of the class exists in the :class:`~langchain-community package and should be used instead. To use it run `pip install -U :class:`~langchain-community` and import as `from :class:`~langchain_community.tools import QuerySQLDatabaseTool``.\n",
            "  execute_query = QuerySQLDataBaseTool(db=db)\n"
          ]
        },
        {
          "output_type": "execute_result",
          "data": {
            "text/plain": [
              "'Error: (psycopg2.errors.SyntaxError) syntax error at or near \"Question\"\\nLINE 1: Question: มี Ticket_ID จำนวนเท่าไหร่ ที่ Date_of_Purchase ตั...\\n        ^\\n\\n[SQL: Question: มี Ticket_ID จำนวนเท่าไหร่ ที่ Date_of_Purchase ตั้งแต่2020-02-01 ถึง2020-02-28\\n\\nSQLQuery:\\n```sql\\nSELECT COUNT(\"Ticket_ID\") \\nFROM customer_support_tickets \\nWHERE \"Date_of_Purchase\" BETWEEN \\'2020-02-01\\' AND \\'2020-02-28\\';\\n```]\\n(Background on this error at: https://sqlalche.me/e/20/f405)'"
            ],
            "application/vnd.google.colaboratory.intrinsic+json": {
              "type": "string"
            }
          },
          "metadata": {},
          "execution_count": 31
        }
      ]
    },
    {
      "cell_type": "markdown",
      "source": [
        "#### Change prompt template for Llama4"
      ],
      "metadata": {
        "id": "--kh8Mzaz-_a"
      }
    },
    {
      "cell_type": "code",
      "source": [
        "from langchain_core.prompts import PromptTemplate\n",
        "\n",
        "template = '''You are a PostgreSQL expert. Given an input question, first create a syntactically correct PostgreSQL query to run, then look at the results of the query and return the answer to the input question.\n",
        "Unless the user specifies in the question a specific number of examples to obtain, query for at most 5 results using the LIMIT clause as per PostgreSQL. You can order the results to return the most informative data in the database.\n",
        "Never query for all columns from a table. You must query only the columns that are needed to answer the question. Wrap each column name in double quotes (\") to denote them as delimited identifiers.\n",
        "Pay attention to use only the column names you can see in the tables below. Be careful to not query for columns that do not exist. Also, pay attention to which column is in which table.\n",
        "Pay attention to use CURRENT_DATE function to get the current date, if the question involves \"today\".\n",
        "\n",
        "Use the following format:\n",
        "\n",
        "Question: Question here\n",
        "SQLQuery: SQL Query to run\n",
        "\n",
        "Answer only SQLQuery\n",
        "Example :\n",
        "    - SELECT COUNT(*) FROM head WHERE age > 56\n",
        "    - SELECT MAX(budget_in_billions), MIN(budget_in_billions) FROM department\n",
        "    - SELECT AVG(num_employees) FROM department WHERE ranking BETWEEN 10 AND 15\n",
        "\n",
        "Only use the following tables:\n",
        "{table_info}\n",
        "\n",
        "Question: {input}'''\n",
        "prompt = PromptTemplate.from_template(template, partial_variables={\n",
        "    \"table_info\": db.get_table_info(),\n",
        "    \"top_k\": 5,  # Default value for top_k\n",
        "})"
      ],
      "metadata": {
        "id": "WMAlkUDX3hda"
      },
      "execution_count": 32,
      "outputs": []
    },
    {
      "cell_type": "code",
      "source": [
        "chain = create_sql_query_chain(llm, db,prompt=prompt)\n",
        "print(chain.get_prompts()[0].pretty_print())"
      ],
      "metadata": {
        "colab": {
          "base_uri": "https://localhost:8080/"
        },
        "id": "s3QtkB9w4Lyf",
        "outputId": "f0fb7a00-f2b2-46c0-a39b-6fed50a270c0"
      },
      "execution_count": 33,
      "outputs": [
        {
          "output_type": "stream",
          "name": "stdout",
          "text": [
            "You are a PostgreSQL expert. Given an input question, first create a syntactically correct PostgreSQL query to run, then look at the results of the query and return the answer to the input question.\n",
            "Unless the user specifies in the question a specific number of examples to obtain, query for at most 5 results using the LIMIT clause as per PostgreSQL. You can order the results to return the most informative data in the database.\n",
            "Never query for all columns from a table. You must query only the columns that are needed to answer the question. Wrap each column name in double quotes (\") to denote them as delimited identifiers.\n",
            "Pay attention to use only the column names you can see in the tables below. Be careful to not query for columns that do not exist. Also, pay attention to which column is in which table.\n",
            "Pay attention to use CURRENT_DATE function to get the current date, if the question involves \"today\".\n",
            "\n",
            "Use the following format:\n",
            "\n",
            "Question: Question here\n",
            "SQLQuery: SQL Query to run\n",
            "\n",
            "Answer only SQLQuery\n",
            "Example :\n",
            "    - SELECT COUNT(*) FROM head WHERE age > 56\n",
            "    - SELECT MAX(budget_in_billions), MIN(budget_in_billions) FROM department\n",
            "    - SELECT AVG(num_employees) FROM department WHERE ranking BETWEEN 10 AND 15\n",
            "\n",
            "Only use the following tables:\n",
            "\n",
            "CREATE TABLE customer_support_tickets (\n",
            "\t\"Ticket_ID\" BIGINT, \n",
            "\t\"Customer_Name\" TEXT, \n",
            "\t\"Customer_Email\" TEXT, \n",
            "\t\"Customer_Age\" BIGINT, \n",
            "\t\"Customer_Gender\" TEXT, \n",
            "\t\"Product_Purchased\" TEXT, \n",
            "\t\"Date_of_Purchase\" TEXT, \n",
            "\t\"Ticket_Type\" TEXT, \n",
            "\t\"Ticket_Subject\" TEXT, \n",
            "\t\"Ticket_Description\" TEXT, \n",
            "\t\"Ticket_Status\" TEXT, \n",
            "\t\"Resolution\" TEXT, \n",
            "\t\"Ticket_Priority\" TEXT, \n",
            "\t\"Ticket_Channel\" TEXT, \n",
            "\t\"First_Response_Time\" TEXT, \n",
            "\t\"Time_to_Resolution\" TEXT, \n",
            "\t\"Customer_Satisfaction_Rating\" DOUBLE PRECISION\n",
            ")\n",
            "\n",
            "/*\n",
            "3 rows from customer_support_tickets table:\n",
            "Ticket_ID\tCustomer_Name\tCustomer_Email\tCustomer_Age\tCustomer_Gender\tProduct_Purchased\tDate_of_Purchase\tTicket_Type\tTicket_Subject\tTicket_Description\tTicket_Status\tResolution\tTicket_Priority\tTicket_Channel\tFirst_Response_Time\tTime_to_Resolution\tCustomer_Satisfaction_Rating\n",
            "1\tMarisa Obrien\tcarrollallison@example.com\t32\tOther\tGoPro Hero\t2021-03-22\tTechnical issue\tProduct setup\tI'm having an issue with the {product_purchased}. Please assist.\n",
            "\n",
            "Your billing zip code is: 71701.\n",
            "\n",
            "\tPending Customer Response\tNone\tCritical\tSocial media\t2023-06-01 12:15:36\tNone\tNone\n",
            "2\tJessica Rios\tclarkeashley@example.com\t42\tFemale\tLG Smart TV\t2021-05-22\tTechnical issue\tPeripheral compatibility\tI'm having an issue with the {product_purchased}. Please assist.\n",
            "\n",
            "If you need to change an existing \tPending Customer Response\tNone\tCritical\tChat\t2023-06-01 16:45:38\tNone\tNone\n",
            "3\tChristopher Robbins\tgonzalestracy@example.com\t48\tOther\tDell XPS\t2020-07-14\tTechnical issue\tNetwork problem\tI'm facing a problem with my {product_purchased}. The {product_purchased} is not turning on. It was \tClosed\tCase maybe show recently my computer follow.\tLow\tSocial media\t2023-06-01 11:14:38\t2023-06-01 18:05:38\t3.0\n",
            "*/\n",
            "\n",
            "\n",
            "CREATE TABLE financial_statements (\n",
            "\t\"Year\" BIGINT, \n",
            "\t\"Company\" TEXT, \n",
            "\t\"Category\" TEXT, \n",
            "\t\"Market Cap(in B USD)\" DOUBLE PRECISION, \n",
            "\t\"Revenue\" DOUBLE PRECISION, \n",
            "\t\"Gross Profit\" DOUBLE PRECISION, \n",
            "\t\"Net Income\" DOUBLE PRECISION, \n",
            "\t\"Earning Per Share\" DOUBLE PRECISION, \n",
            "\t\"EBITDA\" DOUBLE PRECISION, \n",
            "\t\"Share Holder Equity\" DOUBLE PRECISION, \n",
            "\t\"Cash Flow from Operating\" DOUBLE PRECISION, \n",
            "\t\"Cash Flow from Investing\" DOUBLE PRECISION, \n",
            "\t\"Cash Flow from Financial Activities\" DOUBLE PRECISION, \n",
            "\t\"Current Ratio\" DOUBLE PRECISION, \n",
            "\t\"Debt/Equity Ratio\" DOUBLE PRECISION, \n",
            "\t\"ROE\" DOUBLE PRECISION, \n",
            "\t\"ROA\" DOUBLE PRECISION, \n",
            "\t\"ROI\" DOUBLE PRECISION, \n",
            "\t\"Net Profit Margin\" DOUBLE PRECISION, \n",
            "\t\"Free Cash Flow per Share\" DOUBLE PRECISION, \n",
            "\t\"Return on Tangible Equity\" DOUBLE PRECISION, \n",
            "\t\"Number of Employees\" BIGINT, \n",
            "\t\"Inflation Rate(in US)\" DOUBLE PRECISION\n",
            ")\n",
            "\n",
            "/*\n",
            "3 rows from financial_statements table:\n",
            "Year\tCompany\tCategory\tMarket Cap(in B USD)\tRevenue\tGross Profit\tNet Income\tEarning Per Share\tEBITDA\tShare Holder Equity\tCash Flow from Operating\tCash Flow from Investing\tCash Flow from Financial Activities\tCurrent Ratio\tDebt/Equity Ratio\tROE\tROA\tROI\tNet Profit Margin\tFree Cash Flow per Share\tReturn on Tangible Equity\tNumber of Employees\tInflation Rate(in US)\n",
            "2022\tAAPL\tIT\t2066.94\t394328.0\t170782.0\t99803.0\t6.11\t130541.0\t50672.0\t122151.0\t-22354.0\t-110749.0\t0.8794\t2.3695\t196.9589\t28.2924\t66.6994\t25.3096\t1.3146\t196.9589\t164000\t8.0028\n",
            "2021\tAAPL\tIT\t2913.28\t365817.0\t152836.0\t94680.0\t5.61\t120233.0\t63090.0\t104038.0\t-14545.0\t-93353.0\t1.0746\t1.9768\t150.0713\t26.9742\t54.9839\t25.8818\t1.3261\t150.0713\t154000\t4.6979\n",
            "2020\tAAPL\tIT\t2255.97\t274515.0\t104956.0\t57411.0\t3.28\t77344.0\t65339.0\t80674.0\t-4289.0\t-86820.0\t1.3636\t1.7208\t87.8664\t17.7256\t35.0054\t20.9136\t1.0183\t87.8664\t147000\t1.2336\n",
            "*/\n",
            "\n",
            "\n",
            "CREATE TABLE online_shopping (\n",
            "\t\"CustomerID\" BIGINT, \n",
            "\t\"Gender\" TEXT, \n",
            "\t\"Location\" TEXT, \n",
            "\t\"Tenure_Months\" BIGINT, \n",
            "\t\"Transaction_ID\" BIGINT, \n",
            "\t\"Transaction_Date\" TEXT, \n",
            "\t\"Product_SKU\" TEXT, \n",
            "\t\"Product_Description\" TEXT, \n",
            "\t\"Product_Category\" TEXT, \n",
            "\t\"Quantity\" BIGINT, \n",
            "\t\"Avg_Price\" DOUBLE PRECISION, \n",
            "\t\"Total_Price\" DOUBLE PRECISION, \n",
            "\t\"Delivery_Charges\" DOUBLE PRECISION, \n",
            "\t\"Date\" TEXT, \n",
            "\t\"Month\" BIGINT\n",
            ")\n",
            "\n",
            "/*\n",
            "3 rows from online_shopping table:\n",
            "CustomerID\tGender\tLocation\tTenure_Months\tTransaction_ID\tTransaction_Date\tProduct_SKU\tProduct_Description\tProduct_Category\tQuantity\tAvg_Price\tTotal_Price\tDelivery_Charges\tDate\tMonth\n",
            "17850\tM\tChicago\t12\t16679\t2019-01-01\tGGOENEBJ079499\tNest Learning Thermostat 3rd Gen-USA - Stainless Steel\tNest-USA\t1\t153.71\t153.71\t6.5\t1/1/2019\t1\n",
            "17850\tM\tChicago\t12\t16680\t2019-01-01\tGGOENEBJ079499\tNest Learning Thermostat 3rd Gen-USA - Stainless Steel\tNest-USA\t1\t153.71\t153.71\t6.5\t1/1/2019\t1\n",
            "17850\tM\tChicago\t12\t16696\t2019-01-01\tGGOENEBQ078999\tNest Cam Outdoor Security Camera - USA\tNest-USA\t2\t122.77\t245.54\t6.5\t1/1/2019\t1\n",
            "*/\n",
            "\n",
            "\n",
            "CREATE TABLE spotify_data (\n",
            "\ttrack_name TEXT, \n",
            "\t\"artist(s)_name\" TEXT, \n",
            "\tartist_count BIGINT, \n",
            "\treleased_year BIGINT, \n",
            "\treleased_month BIGINT, \n",
            "\treleased_day BIGINT, \n",
            "\tin_spotify_playlists BIGINT, \n",
            "\tin_spotify_charts BIGINT, \n",
            "\tstreams TEXT, \n",
            "\tin_apple_playlists BIGINT, \n",
            "\tin_apple_charts BIGINT, \n",
            "\tin_deezer_playlists TEXT, \n",
            "\tin_deezer_charts BIGINT, \n",
            "\tin_shazam_charts TEXT, \n",
            "\tbpm BIGINT, \n",
            "\tkey TEXT, \n",
            "\tmode TEXT, \n",
            "\t\"danceability_%%\" BIGINT, \n",
            "\t\"valence_%%\" BIGINT, \n",
            "\t\"energy_%%\" BIGINT, \n",
            "\t\"acousticness_%%\" BIGINT, \n",
            "\t\"instrumentalness_%%\" BIGINT, \n",
            "\t\"liveness_%%\" BIGINT, \n",
            "\t\"speechiness_%%\" BIGINT\n",
            ")\n",
            "\n",
            "/*\n",
            "3 rows from spotify_data table:\n",
            "track_name\tartist(s)_name\tartist_count\treleased_year\treleased_month\treleased_day\tin_spotify_playlists\tin_spotify_charts\tstreams\tin_apple_playlists\tin_apple_charts\tin_deezer_playlists\tin_deezer_charts\tin_shazam_charts\tbpm\tkey\tmode\tdanceability_%\tvalence_%\tenergy_%\tacousticness_%\tinstrumentalness_%\tliveness_%\tspeechiness_%\n",
            "Seven (feat. Latto) (Explicit Ver.)\tLatto, Jung Kook\t2\t2023\t7\t14\t553\t147\t141381703\t43\t263\t45\t10\t826\t125\tB\tMajor\t80\t89\t83\t31\t0\t8\t4\n",
            "LALA\tMyke Towers\t1\t2023\t3\t23\t1474\t48\t133716286\t48\t126\t58\t14\t382\t92\tC#\tMajor\t71\t61\t74\t7\t0\t10\t4\n",
            "vampire\tOlivia Rodrigo\t1\t2023\t6\t30\t1397\t113\t140003974\t94\t207\t91\t14\t949\t138\tF\tMajor\t51\t32\t53\t17\t0\t31\t6\n",
            "*/\n",
            "\n",
            "Question: \u001b[33;1m\u001b[1;3m{input}\u001b[0m\n",
            "None\n"
          ]
        }
      ]
    },
    {
      "cell_type": "code",
      "source": [
        "from langchain_community.tools.sql_database.tool import QuerySQLDataBaseTool\n",
        "\n",
        "execute_query = QuerySQLDataBaseTool(db=db)\n",
        "write_query = create_sql_query_chain(llm, db,prompt=prompt)\n",
        "chain = write_query | execute_query\n",
        "chain.invoke({\"question\": Quesion})"
      ],
      "metadata": {
        "colab": {
          "base_uri": "https://localhost:8080/",
          "height": 36
        },
        "id": "dis3hGT25xIn",
        "outputId": "2a256281-d8c2-4ea0-8a54-85fe4f51536e"
      },
      "execution_count": 34,
      "outputs": [
        {
          "output_type": "execute_result",
          "data": {
            "text/plain": [
              "'[(361,)]'"
            ],
            "application/vnd.google.colaboratory.intrinsic+json": {
              "type": "string"
            }
          },
          "metadata": {},
          "execution_count": 34
        }
      ]
    },
    {
      "cell_type": "markdown",
      "source": [
        "#### QA system over SQL data"
      ],
      "metadata": {
        "id": "uIxKT8J00TT3"
      }
    },
    {
      "cell_type": "code",
      "source": [
        "from operator import itemgetter\n",
        "\n",
        "from langchain_core.output_parsers import StrOutputParser\n",
        "from langchain_core.prompts import PromptTemplate\n",
        "from langchain_core.runnables import RunnablePassthrough\n",
        "\n",
        "\n",
        "# Functions to print the intermediate results at each step\n",
        "def print_step(label, data):\n",
        "    print(f\"\\033[92mStep: {label}\\033[0m , \\033[94mOutput: {data}\\033[0m\")\n",
        "    return data\n",
        "\n",
        "answer_prompt = PromptTemplate.from_template(\n",
        "    \"\"\"Given the following user question, corresponding SQL query, and SQL result, answer only the user question (don't explain).\n",
        "\n",
        "Question: {question}\n",
        "SQL Query: {query}\n",
        "SQL Result: {result}\n",
        "Answer: \"\"\"\n",
        ")\n",
        "\n",
        "\n",
        "chain = (\n",
        "    RunnablePassthrough.assign(query=write_query).assign(\n",
        "        result=itemgetter(\"query\") | execute_query\n",
        "    )\n",
        "    # | answer_prompt\n",
        "    | (lambda inputs: print_step(\"Format Answer Prompt\", answer_prompt.format(question=inputs[\"question\"], query=inputs[\"query\"], result=inputs[\"result\"])))\n",
        "    | llm\n",
        "    | StrOutputParser()\n",
        ")\n",
        "\n",
        "print(chain.invoke({\"question\": Quesion}))\n"
      ],
      "metadata": {
        "colab": {
          "base_uri": "https://localhost:8080/"
        },
        "id": "LOHb8INPqirp",
        "outputId": "8bccd06b-fd53-4e97-a8cd-faac81a15c53"
      },
      "execution_count": 40,
      "outputs": [
        {
          "output_type": "stream",
          "name": "stdout",
          "text": [
            "\u001b[92mStep: Format Answer Prompt\u001b[0m , \u001b[94mOutput: Given the following user question, corresponding SQL query, and SQL result, answer only the user question (don't explain).\n",
            "\n",
            "Question: มี Ticket_ID จำนวนเท่าไหร่ ที่ Date_of_Purchase ตั้งแต่ 2020-02-01 ถึง 2020-02-28\n",
            "SQL Query: SELECT COUNT(\"Ticket_ID\") FROM customer_support_tickets \n",
            "WHERE \"Date_of_Purchase\" BETWEEN '2020-02-01' AND '2020-02-28'\n",
            "SQL Result: [(361,)]\n",
            "Answer: \u001b[0m\n",
            "361\n"
          ]
        }
      ]
    },
    {
      "cell_type": "code",
      "source": [
        "print(chain.invoke({\"question\": Quesion},))"
      ],
      "metadata": {
        "colab": {
          "base_uri": "https://localhost:8080/"
        },
        "id": "b2_HvqSSALHd",
        "outputId": "79e20396-9ed8-4040-efab-d5eb5fec82c2"
      },
      "execution_count": 41,
      "outputs": [
        {
          "output_type": "stream",
          "name": "stdout",
          "text": [
            "\u001b[92mStep: Format Answer Prompt\u001b[0m , \u001b[94mOutput: Given the following user question, corresponding SQL query, and SQL result, answer only the user question (don't explain).\n",
            "\n",
            "Question: มี Ticket_ID จำนวนเท่าไหร่ ที่ Date_of_Purchase ตั้งแต่ 2020-02-01 ถึง 2020-02-28\n",
            "SQL Query: SELECT COUNT(\"Ticket_ID\") FROM customer_support_tickets \n",
            "WHERE \"Date_of_Purchase\" BETWEEN '2020-02-01' AND '2020-02-28'\n",
            "SQL Result: [(361,)]\n",
            "Answer: \u001b[0m\n",
            "361\n"
          ]
        }
      ]
    },
    {
      "cell_type": "code",
      "source": [
        "print(chain.invoke({\"question\": \"บริษัท AAPL จัดอยู่ใน Category อะไร ในปี 2022 \"}))"
      ],
      "metadata": {
        "colab": {
          "base_uri": "https://localhost:8080/"
        },
        "id": "kuYanZo58rJq",
        "outputId": "46fb31f9-a4c2-44c4-b32f-eb7021283290"
      },
      "execution_count": 42,
      "outputs": [
        {
          "output_type": "stream",
          "name": "stdout",
          "text": [
            "\u001b[92mStep: Format Answer Prompt\u001b[0m , \u001b[94mOutput: Given the following user question, corresponding SQL query, and SQL result, answer only the user question (don't explain).\n",
            "\n",
            "Question: บริษัท AAPL จัดอยู่ใน Category อะไร ในปี 2022 \n",
            "SQL Query: SELECT \"Category\" FROM financial_statements WHERE \"Company\" = 'AAPL' AND \"Year\" = 2022 LIMIT 5;\n",
            "SQL Result: [('IT',)]\n",
            "Answer: \u001b[0m\n",
            "IT\n"
          ]
        }
      ]
    },
    {
      "cell_type": "code",
      "source": [
        "print(chain.invoke({\"question\": \"ผลรวมกำไรขั้นต้นของบริษัท AAPL 5 ปีย้อนหลัง (ตั้งแต่ปี 2019-2023) มากกว่า ผลรวมกำไรขั้นต้นของบริษัท AMZN 5 ปีย้อนหลัง (ตั้งแต่ปี 2019-2023) หรือไม่ กรุณาตอบเป็น 'True' หรือ 'False'\"}))"
      ],
      "metadata": {
        "colab": {
          "base_uri": "https://localhost:8080/"
        },
        "id": "oP58ldAg8rMc",
        "outputId": "233680c2-bd9c-4ebc-b942-bf484e9f3ae2"
      },
      "execution_count": 43,
      "outputs": [
        {
          "output_type": "stream",
          "name": "stdout",
          "text": [
            "\u001b[92mStep: Format Answer Prompt\u001b[0m , \u001b[94mOutput: Given the following user question, corresponding SQL query, and SQL result, answer only the user question (don't explain).\n",
            "\n",
            "Question: ผลรวมกำไรขั้นต้นของบริษัท AAPL 5 ปีย้อนหลัง (ตั้งแต่ปี 2019-2023) มากกว่า ผลรวมกำไรขั้นต้นของบริษัท AMZN 5 ปีย้อนหลัง (ตั้งแต่ปี 2019-2023) หรือไม่ กรุณาตอบเป็น 'True' หรือ 'False'\n",
            "SQL Query: To answer this question, we need to calculate the total gross profit for AAPL and AMZN for the years 2019-2023 and compare them.\n",
            "\n",
            "However, there is no data for AMZN in the provided financial_statements table. Therefore, we will assume that the task is to check if the total gross profit of AAPL for the available years (2020-2022) is more than the total gross profit of any other company (which in this case would be AAPL itself since AMZN data is not available).\n",
            "\n",
            "```sql\n",
            "SELECT \n",
            "    SUM(CASE WHEN \"Company\" = 'AAPL' THEN \"Gross Profit\" ELSE 0 END) AS AAPL_Gross_Profit\n",
            "FROM \n",
            "    financial_statements\n",
            "WHERE \n",
            "    \"Year\" BETWEEN 2019 AND 2023;\n",
            "```\n",
            "\n",
            "However, since we do not have data for 2019 and 2023, and also no data for AMZN, let's adjust the query to only consider available data.\n",
            "\n",
            "```sql\n",
            "SELECT \n",
            "    \"Company\",\n",
            "    SUM(\"Gross Profit\") AS Total_Gross_Profit\n",
            "FROM \n",
            "    financial_statements\n",
            "WHERE \n",
            "    \"Year\" BETWEEN 2020 AND 2022\n",
            "GROUP BY \n",
            "    \"Company\";\n",
            "```\n",
            "\n",
            "Given the data:\n",
            "- AAPL's total gross profit for 2020-2022 is 104956.0 + 152836.0 + 170782.0 = 428574.0\n",
            "\n",
            "Since there's no data for AMZN to compare, and based on the available data, we can only confirm AAPL's gross profit.\n",
            "\n",
            "To directly answer the question with the available data:\n",
            "\n",
            "```sql\n",
            "SELECT \n",
            "    'True' AS result\n",
            "```\n",
            "\n",
            "The final answer would be based on the fact that we cannot directly compare AAPL and AMZN due to missing data for AMZN and the years 2019 and 2023.\n",
            "\n",
            "However, to follow your format request:\n",
            "\n",
            "SQLQuery:\n",
            "```sql\n",
            "SELECT \n",
            "    'True' AS result;\n",
            "```\n",
            "SQL Result: Error: (psycopg2.errors.SyntaxError) syntax error at or near \"To\"\n",
            "LINE 1: To answer this question, we need to calculate the total gros...\n",
            "        ^\n",
            "\n",
            "[SQL: To answer this question, we need to calculate the total gross profit for AAPL and AMZN for the years 2019-2023 and compare them.\n",
            "\n",
            "However, there is no data for AMZN in the provided financial_statements table. Therefore, we will assume that the task is to check if the total gross profit of AAPL for the available years (2020-2022) is more than the total gross profit of any other company (which in this case would be AAPL itself since AMZN data is not available).\n",
            "\n",
            "```sql\n",
            "SELECT \n",
            "    SUM(CASE WHEN \"Company\" = 'AAPL' THEN \"Gross Profit\" ELSE 0 END) AS AAPL_Gross_Profit\n",
            "FROM \n",
            "    financial_statements\n",
            "WHERE \n",
            "    \"Year\" BETWEEN 2019 AND 2023;\n",
            "```\n",
            "\n",
            "However, since we do not have data for 2019 and 2023, and also no data for AMZN, let's adjust the query to only consider available data.\n",
            "\n",
            "```sql\n",
            "SELECT \n",
            "    \"Company\",\n",
            "    SUM(\"Gross Profit\") AS Total_Gross_Profit\n",
            "FROM \n",
            "    financial_statements\n",
            "WHERE \n",
            "    \"Year\" BETWEEN 2020 AND 2022\n",
            "GROUP BY \n",
            "    \"Company\";\n",
            "```\n",
            "\n",
            "Given the data:\n",
            "- AAPL's total gross profit for 2020-2022 is 104956.0 + 152836.0 + 170782.0 = 428574.0\n",
            "\n",
            "Since there's no data for AMZN to compare, and based on the available data, we can only confirm AAPL's gross profit.\n",
            "\n",
            "To directly answer the question with the available data:\n",
            "\n",
            "```sql\n",
            "SELECT \n",
            "    'True' AS result\n",
            "```\n",
            "\n",
            "The final answer would be based on the fact that we cannot directly compare AAPL and AMZN due to missing data for AMZN and the years 2019 and 2023.\n",
            "\n",
            "However, to follow your format request:\n",
            "\n",
            "SQLQuery:\n",
            "```sql\n",
            "SELECT \n",
            "    'True' AS result;\n",
            "```]\n",
            "(Background on this error at: https://sqlalche.me/e/20/f405)\n",
            "Answer: \u001b[0m\n",
            "True\n"
          ]
        }
      ]
    },
    {
      "cell_type": "code",
      "source": [
        "print(chain.invoke({\"question\": \"CustomerID ที่มียอดจำนวนเงินสั่งซื้อไม่รวมค่าขนส่งมากที่สุดมาจากที่เมืองไหน\"}))"
      ],
      "metadata": {
        "colab": {
          "base_uri": "https://localhost:8080/"
        },
        "id": "gKiqc9Ld8rPe",
        "outputId": "2ca78bc4-5acc-4403-c3f9-ee19ca175cde"
      },
      "execution_count": 44,
      "outputs": [
        {
          "output_type": "stream",
          "name": "stdout",
          "text": [
            "\u001b[92mStep: Format Answer Prompt\u001b[0m , \u001b[94mOutput: Given the following user question, corresponding SQL query, and SQL result, answer only the user question (don't explain).\n",
            "\n",
            "Question: CustomerID ที่มียอดจำนวนเงินสั่งซื้อไม่รวมค่าขนส่งมากที่สุดมาจากที่เมืองไหน\n",
            "SQL Query: SELECT \"Location\", SUM(\"Total_Price\") AS \"Total_Amount\" \n",
            "FROM online_shopping \n",
            "GROUP BY \"Location\" \n",
            "ORDER BY \"Total_Amount\" DESC \n",
            "LIMIT 1;\n",
            "SQL Result: [('Chicago', 1625885.5799999286)]\n",
            "Answer: \u001b[0m\n",
            "Chicago\n"
          ]
        }
      ]
    },
    {
      "cell_type": "code",
      "source": [
        "print(chain.invoke({\"question\": \"แนะนำชื่อเพลง Top5 ปีล่าสุด\"}))"
      ],
      "metadata": {
        "id": "ei97_bam_4iq",
        "colab": {
          "base_uri": "https://localhost:8080/"
        },
        "outputId": "bdda69c0-dbd9-4ba3-9e6a-d2a8ee4e0e85"
      },
      "execution_count": 48,
      "outputs": [
        {
          "output_type": "stream",
          "name": "stdout",
          "text": [
            "\u001b[92mStep: Format Answer Prompt\u001b[0m , \u001b[94mOutput: Given the following user question, corresponding SQL query, and SQL result, answer only the user question (don't explain).\n",
            "\n",
            "Question: แนะนำชื่อเพลง Top5 ปีล่าสุด\n",
            "SQL Query: SELECT track_name \n",
            "FROM spotify_data \n",
            "ORDER BY released_year DESC \n",
            "LIMIT 5;\n",
            "SQL Result: [('Seven (feat. Latto) (Explicit Ver.)',), ('vampire',), ('LALA',), ('WHERE SHE GOES',), ('Sprinter',)]\n",
            "Answer: \u001b[0m\n",
            "เพลง Top5 ปีล่าสุด ได้แก่ \n",
            "1. Seven (feat. Latto) (Explicit Ver.)\n",
            "2. vampire\n",
            "3. LALA\n",
            "4. WHERE SHE GOES\n",
            "5. Sprinter\n"
          ]
        }
      ]
    },
    {
      "cell_type": "code",
      "source": [
        "print(chain.invoke({\"question\": \"มี Customer_Email จำนวนเท่าไหร่ ที่ลงท้ายด้วย 'example.org\"}))"
      ],
      "metadata": {
        "colab": {
          "base_uri": "https://localhost:8080/"
        },
        "id": "5293l2DVS9JF",
        "outputId": "42feca2d-b0cf-4297-8e41-0d545c6588c6"
      },
      "execution_count": 57,
      "outputs": [
        {
          "output_type": "stream",
          "name": "stdout",
          "text": [
            "\u001b[92mStep: Format Answer Prompt\u001b[0m , \u001b[94mOutput: Given the following user question, corresponding SQL query, and SQL result, answer only the user question (don't explain).\n",
            "\n",
            "Question: มี Customer_Email จำนวนเท่าไหร่ ที่ลงท้ายด้วย 'example.org\n",
            "SQL Query: SELECT COUNT(\"Customer_Email\") FROM customer_support_tickets WHERE \"Customer_Email\" LIKE '%@example.org'\n",
            "SQL Result: [(2796,)]\n",
            "Answer: \u001b[0m\n",
            "2796\n"
          ]
        }
      ]
    },
    {
      "cell_type": "markdown",
      "source": [
        "### SQL Agents"
      ],
      "metadata": {
        "id": "tzqZbnL0NlDc"
      }
    },
    {
      "cell_type": "code",
      "source": [
        "!pip -q install --upgrade --quiet langgraph"
      ],
      "metadata": {
        "colab": {
          "base_uri": "https://localhost:8080/"
        },
        "id": "e9k9Me_Mwd15",
        "outputId": "93e6f5a3-2c29-44fe-f9b5-1a89b1b83e20"
      },
      "execution_count": 49,
      "outputs": [
        {
          "output_type": "stream",
          "name": "stdout",
          "text": [
            "\u001b[2K     \u001b[90m━━━━━━━━━━━━━━━━━━━━━━━━━━━━━━━━━━━━━━━━\u001b[0m \u001b[32m43.5/43.5 kB\u001b[0m \u001b[31m2.0 MB/s\u001b[0m eta \u001b[36m0:00:00\u001b[0m\n",
            "\u001b[2K   \u001b[90m━━━━━━━━━━━━━━━━━━━━━━━━━━━━━━━━━━━━━━━━\u001b[0m \u001b[32m145.2/145.2 kB\u001b[0m \u001b[31m5.9 MB/s\u001b[0m eta \u001b[36m0:00:00\u001b[0m\n",
            "\u001b[2K   \u001b[90m━━━━━━━━━━━━━━━━━━━━━━━━━━━━━━━━━━━━━━━━\u001b[0m \u001b[32m42.0/42.0 kB\u001b[0m \u001b[31m2.6 MB/s\u001b[0m eta \u001b[36m0:00:00\u001b[0m\n",
            "\u001b[2K   \u001b[90m━━━━━━━━━━━━━━━━━━━━━━━━━━━━━━━━━━━━━━━━\u001b[0m \u001b[32m47.2/47.2 kB\u001b[0m \u001b[31m3.0 MB/s\u001b[0m eta \u001b[36m0:00:00\u001b[0m\n",
            "\u001b[2K   \u001b[90m━━━━━━━━━━━━━━━━━━━━━━━━━━━━━━━━━━━━━━━━\u001b[0m \u001b[32m194.8/194.8 kB\u001b[0m \u001b[31m11.8 MB/s\u001b[0m eta \u001b[36m0:00:00\u001b[0m\n",
            "\u001b[2K   \u001b[90m━━━━━━━━━━━━━━━━━━━━━━━━━━━━━━━━━━━━━━━━\u001b[0m \u001b[32m223.6/223.6 kB\u001b[0m \u001b[31m14.6 MB/s\u001b[0m eta \u001b[36m0:00:00\u001b[0m\n",
            "\u001b[?25h"
          ]
        }
      ]
    },
    {
      "cell_type": "code",
      "source": [
        "from langchain_community.agent_toolkits import SQLDatabaseToolkit\n",
        "\n",
        "toolkit = SQLDatabaseToolkit(db=db, llm=llm)\n",
        "\n",
        "tools = toolkit.get_tools()\n",
        "\n",
        "tools"
      ],
      "metadata": {
        "colab": {
          "base_uri": "https://localhost:8080/"
        },
        "id": "UhsklNn7qvcB",
        "outputId": "94459aca-1952-40f8-a3aa-0027053f32ca"
      },
      "execution_count": 50,
      "outputs": [
        {
          "output_type": "execute_result",
          "data": {
            "text/plain": [
              "[QuerySQLDatabaseTool(description=\"Input to this tool is a detailed and correct SQL query, output is a result from the database. If the query is not correct, an error message will be returned. If an error is returned, rewrite the query, check the query, and try again. If you encounter an issue with Unknown column 'xxxx' in 'field list', use sql_db_schema to query the correct table fields.\", db=<langchain_community.utilities.sql_database.SQLDatabase object at 0x7efba8f09ad0>),\n",
              " InfoSQLDatabaseTool(description='Input to this tool is a comma-separated list of tables, output is the schema and sample rows for those tables. Be sure that the tables actually exist by calling sql_db_list_tables first! Example Input: table1, table2, table3', db=<langchain_community.utilities.sql_database.SQLDatabase object at 0x7efba8f09ad0>),\n",
              " ListSQLDatabaseTool(db=<langchain_community.utilities.sql_database.SQLDatabase object at 0x7efba8f09ad0>),\n",
              " QuerySQLCheckerTool(description='Use this tool to double check if your query is correct before executing it. Always use this tool before executing a query with sql_db_query!', db=<langchain_community.utilities.sql_database.SQLDatabase object at 0x7efba8f09ad0>, llm=ChatGroq(client=<groq.resources.chat.completions.Completions object at 0x7efba65cd850>, async_client=<groq.resources.chat.completions.AsyncCompletions object at 0x7efba656b090>, model_name='meta-llama/llama-4-scout-17b-16e-instruct', temperature=1e-08, model_kwargs={}, groq_api_key=SecretStr('**********')), llm_chain=LLMChain(verbose=False, prompt=PromptTemplate(input_variables=['dialect', 'query'], input_types={}, partial_variables={}, template='\\n{query}\\nDouble check the {dialect} query above for common mistakes, including:\\n- Using NOT IN with NULL values\\n- Using UNION when UNION ALL should have been used\\n- Using BETWEEN for exclusive ranges\\n- Data type mismatch in predicates\\n- Properly quoting identifiers\\n- Using the correct number of arguments for functions\\n- Casting to the correct data type\\n- Using the proper columns for joins\\n\\nIf there are any of the above mistakes, rewrite the query. If there are no mistakes, just reproduce the original query.\\n\\nOutput the final SQL query only.\\n\\nSQL Query: '), llm=ChatGroq(client=<groq.resources.chat.completions.Completions object at 0x7efba65cd850>, async_client=<groq.resources.chat.completions.AsyncCompletions object at 0x7efba656b090>, model_name='meta-llama/llama-4-scout-17b-16e-instruct', temperature=1e-08, model_kwargs={}, groq_api_key=SecretStr('**********')), output_parser=StrOutputParser(), llm_kwargs={}))]"
            ]
          },
          "metadata": {},
          "execution_count": 50
        }
      ]
    },
    {
      "cell_type": "code",
      "source": [
        "from langchain_core.messages import SystemMessage\n",
        "\n",
        "SQL_PREFIX = \"\"\"You are an agent designed to interact with a SQL database.\n",
        "Given an input question, create a syntactically correct SQLite query to run, then look at the results of the query and return the answer.\n",
        "Unless the user specifies a specific number of examples they wish to obtain, always limit your query to at most 5 results.\n",
        "You can order the results by a relevant column to return the most interesting examples in the database.\n",
        "Never query for all the columns from a specific table, only ask for the relevant columns given the question.\n",
        "You have access to tools for interacting with the database.\n",
        "Only use the below tools. Only use the information returned by the below tools to construct your final answer.\n",
        "You MUST double check your query before executing it. If you get an error while executing a query, rewrite the query and try again.\n",
        "\n",
        "DO NOT make any DML statements (INSERT, UPDATE, DELETE, DROP etc.) to the database.\n",
        "\n",
        "To start you should ALWAYS look at the tables in the database to see what you can query.\n",
        "Do NOT skip this step.\n",
        "Then you should query the schema of the most relevant tables.\"\"\"\n",
        "\n",
        "system_message = SystemMessage(content=SQL_PREFIX)"
      ],
      "metadata": {
        "id": "-VQ0PvbtwJNw"
      },
      "execution_count": 51,
      "outputs": []
    },
    {
      "cell_type": "code",
      "source": [
        "from langchain_core.messages import HumanMessage\n",
        "from langgraph.prebuilt import create_react_agent\n",
        "\n",
        "agent_executor = create_react_agent(llm, tools, state_modifier=system_message)"
      ],
      "metadata": {
        "id": "gxyRZatEwP-n"
      },
      "execution_count": 52,
      "outputs": []
    },
    {
      "cell_type": "code",
      "source": [
        "for s in agent_executor.stream(\n",
        "    {\"messages\": [HumanMessage(content=\"Ticket_Priority อะไรมีจำนวนมากที่สุด 3 อันดับ (ตอบในรูปแบบของ list โดยมีแต่ล่ะ element มี format คือ {'Ticket_Priority': ชื่อ Ticket_Priority , 'Count': จำนวน} และ เรียงลำดับจากจำนวนมากไปน้อย) ที่มี Ticket_Channel เท่ากับ 'Chat'\")]}\n",
        "):\n",
        "    print(s)\n",
        "    print(\"----\")"
      ],
      "metadata": {
        "colab": {
          "base_uri": "https://localhost:8080/"
        },
        "id": "uQ6bum8nwZjL",
        "outputId": "d52c2975-24f1-4b77-d200-ab98a42b2185"
      },
      "execution_count": 53,
      "outputs": [
        {
          "output_type": "stream",
          "name": "stdout",
          "text": [
            "{'agent': {'messages': [AIMessage(content='', additional_kwargs={'tool_calls': [{'id': 'call_vjqd', 'function': {'arguments': '{\"tool_input\": \"\"}', 'name': 'sql_db_list_tables'}, 'type': 'function'}]}, response_metadata={'token_usage': {'completion_tokens': 16, 'prompt_tokens': 995, 'total_tokens': 1011, 'completion_time': 0.034274049, 'prompt_time': 0.029846874, 'queue_time': 0.193784989, 'total_time': 0.064120923}, 'model_name': 'meta-llama/llama-4-scout-17b-16e-instruct', 'system_fingerprint': 'fp_37da608fc1', 'finish_reason': 'tool_calls', 'logprobs': None}, id='run-61ad6dd3-b05f-4c5b-b718-06ac1b3eb053-0', tool_calls=[{'name': 'sql_db_list_tables', 'args': {'tool_input': ''}, 'id': 'call_vjqd', 'type': 'tool_call'}], usage_metadata={'input_tokens': 995, 'output_tokens': 16, 'total_tokens': 1011})]}}\n",
            "----\n",
            "{'tools': {'messages': [ToolMessage(content='customer_support_tickets, financial_statements, online_shopping, spotify_data', name='sql_db_list_tables', id='13d3b779-53ff-4cf4-bb2b-94aafc012051', tool_call_id='call_vjqd')]}}\n",
            "----\n",
            "{'agent': {'messages': [AIMessage(content='', additional_kwargs={'tool_calls': [{'id': 'call_kwk9', 'function': {'arguments': '{\"table_names\": \"customer_support_tickets\"}', 'name': 'sql_db_schema'}, 'type': 'function'}]}, response_metadata={'token_usage': {'completion_tokens': 20, 'prompt_tokens': 1037, 'total_tokens': 1057, 'completion_time': 0.040107802, 'prompt_time': 0.03139875, 'queue_time': 0.21886988100000002, 'total_time': 0.071506552}, 'model_name': 'meta-llama/llama-4-scout-17b-16e-instruct', 'system_fingerprint': 'fp_42ae451038', 'finish_reason': 'tool_calls', 'logprobs': None}, id='run-ab3f9986-fc6a-430b-ab2d-cc9e36899dbb-0', tool_calls=[{'name': 'sql_db_schema', 'args': {'table_names': 'customer_support_tickets'}, 'id': 'call_kwk9', 'type': 'tool_call'}], usage_metadata={'input_tokens': 1037, 'output_tokens': 20, 'total_tokens': 1057})]}}\n",
            "----\n",
            "{'tools': {'messages': [ToolMessage(content='\\nCREATE TABLE customer_support_tickets (\\n\\t\"Ticket_ID\" BIGINT, \\n\\t\"Customer_Name\" TEXT, \\n\\t\"Customer_Email\" TEXT, \\n\\t\"Customer_Age\" BIGINT, \\n\\t\"Customer_Gender\" TEXT, \\n\\t\"Product_Purchased\" TEXT, \\n\\t\"Date_of_Purchase\" TEXT, \\n\\t\"Ticket_Type\" TEXT, \\n\\t\"Ticket_Subject\" TEXT, \\n\\t\"Ticket_Description\" TEXT, \\n\\t\"Ticket_Status\" TEXT, \\n\\t\"Resolution\" TEXT, \\n\\t\"Ticket_Priority\" TEXT, \\n\\t\"Ticket_Channel\" TEXT, \\n\\t\"First_Response_Time\" TEXT, \\n\\t\"Time_to_Resolution\" TEXT, \\n\\t\"Customer_Satisfaction_Rating\" DOUBLE PRECISION\\n)\\n\\n/*\\n3 rows from customer_support_tickets table:\\nTicket_ID\\tCustomer_Name\\tCustomer_Email\\tCustomer_Age\\tCustomer_Gender\\tProduct_Purchased\\tDate_of_Purchase\\tTicket_Type\\tTicket_Subject\\tTicket_Description\\tTicket_Status\\tResolution\\tTicket_Priority\\tTicket_Channel\\tFirst_Response_Time\\tTime_to_Resolution\\tCustomer_Satisfaction_Rating\\n1\\tMarisa Obrien\\tcarrollallison@example.com\\t32\\tOther\\tGoPro Hero\\t2021-03-22\\tTechnical issue\\tProduct setup\\tI\\'m having an issue with the {product_purchased}. Please assist.\\n\\nYour billing zip code is: 71701.\\n\\n\\tPending Customer Response\\tNone\\tCritical\\tSocial media\\t2023-06-01 12:15:36\\tNone\\tNone\\n2\\tJessica Rios\\tclarkeashley@example.com\\t42\\tFemale\\tLG Smart TV\\t2021-05-22\\tTechnical issue\\tPeripheral compatibility\\tI\\'m having an issue with the {product_purchased}. Please assist.\\n\\nIf you need to change an existing \\tPending Customer Response\\tNone\\tCritical\\tChat\\t2023-06-01 16:45:38\\tNone\\tNone\\n3\\tChristopher Robbins\\tgonzalestracy@example.com\\t48\\tOther\\tDell XPS\\t2020-07-14\\tTechnical issue\\tNetwork problem\\tI\\'m facing a problem with my {product_purchased}. The {product_purchased} is not turning on. It was \\tClosed\\tCase maybe show recently my computer follow.\\tLow\\tSocial media\\t2023-06-01 11:14:38\\t2023-06-01 18:05:38\\t3.0\\n*/', name='sql_db_schema', id='db43197b-2378-4321-b961-c0010d6eb003', tool_call_id='call_kwk9')]}}\n",
            "----\n",
            "{'agent': {'messages': [AIMessage(content='', additional_kwargs={'tool_calls': [{'id': 'call_tbgr', 'function': {'arguments': '{\"query\": \"SELECT Ticket_Priority, COUNT(*) as Count FROM customer_support_tickets WHERE Ticket_Channel = \\'Chat\\' GROUP BY Ticket_Priority ORDER BY Count DESC LIMIT 3\"}', 'name': 'sql_db_query_checker'}, 'type': 'function'}]}, response_metadata={'token_usage': {'completion_tokens': 49, 'prompt_tokens': 1538, 'total_tokens': 1587, 'completion_time': 0.103683221, 'prompt_time': 0.047559713, 'queue_time': 0.277772499, 'total_time': 0.151242934}, 'model_name': 'meta-llama/llama-4-scout-17b-16e-instruct', 'system_fingerprint': 'fp_42ae451038', 'finish_reason': 'tool_calls', 'logprobs': None}, id='run-af97c314-438e-4c77-99d9-29555cef6a2d-0', tool_calls=[{'name': 'sql_db_query_checker', 'args': {'query': \"SELECT Ticket_Priority, COUNT(*) as Count FROM customer_support_tickets WHERE Ticket_Channel = 'Chat' GROUP BY Ticket_Priority ORDER BY Count DESC LIMIT 3\"}, 'id': 'call_tbgr', 'type': 'tool_call'}], usage_metadata={'input_tokens': 1538, 'output_tokens': 49, 'total_tokens': 1587})]}}\n",
            "----\n",
            "{'tools': {'messages': [ToolMessage(content='```sql\\nSELECT \\n    \"Ticket_Priority\", \\n    COUNT(*) as \"Count\" \\nFROM \\n    customer_support_tickets \\nWHERE \\n    \"Ticket_Channel\" = \\'Chat\\' \\nGROUP BY \\n    \"Ticket_Priority\" \\nORDER BY \\n    \"Count\" DESC \\nLIMIT 3;\\n```', name='sql_db_query_checker', id='c619e19d-ab80-4272-969f-88892e5ab45c', tool_call_id='call_tbgr')]}}\n",
            "----\n",
            "{'agent': {'messages': [AIMessage(content='', additional_kwargs={'tool_calls': [{'id': 'call_2tje', 'function': {'arguments': '{\"query\": \"SELECT Ticket_Priority, COUNT(*) as Count FROM customer_support_tickets WHERE Ticket_Channel = \\'Chat\\' GROUP BY Ticket_Priority ORDER BY Count DESC LIMIT 3\"}', 'name': 'sql_db_query'}, 'type': 'function'}]}, response_metadata={'token_usage': {'completion_tokens': 48, 'prompt_tokens': 1653, 'total_tokens': 1701, 'completion_time': 0.096939587, 'prompt_time': 0.05029175, 'queue_time': 0.19303974100000001, 'total_time': 0.147231337}, 'model_name': 'meta-llama/llama-4-scout-17b-16e-instruct', 'system_fingerprint': 'fp_42ae451038', 'finish_reason': 'tool_calls', 'logprobs': None}, id='run-fbaa0abb-92da-42d2-8264-39fbef3a69f4-0', tool_calls=[{'name': 'sql_db_query', 'args': {'query': \"SELECT Ticket_Priority, COUNT(*) as Count FROM customer_support_tickets WHERE Ticket_Channel = 'Chat' GROUP BY Ticket_Priority ORDER BY Count DESC LIMIT 3\"}, 'id': 'call_2tje', 'type': 'tool_call'}], usage_metadata={'input_tokens': 1653, 'output_tokens': 48, 'total_tokens': 1701})]}}\n",
            "----\n",
            "{'tools': {'messages': [ToolMessage(content='Error: (psycopg2.errors.UndefinedColumn) column \"ticket_priority\" does not exist\\nLINE 1: SELECT Ticket_Priority, COUNT(*) as Count FROM customer_supp...\\n               ^\\nHINT:  Perhaps you meant to reference the column \"customer_support_tickets.Ticket_Priority\".\\n\\n[SQL: SELECT Ticket_Priority, COUNT(*) as Count FROM customer_support_tickets WHERE Ticket_Channel = \\'Chat\\' GROUP BY Ticket_Priority ORDER BY Count DESC LIMIT 3]\\n(Background on this error at: https://sqlalche.me/e/20/f405)', name='sql_db_query', id='c66f3a68-b6e8-49de-92d0-1e1fdd1597f3', tool_call_id='call_2tje')]}}\n",
            "----\n",
            "{'agent': {'messages': [AIMessage(content='', additional_kwargs={'tool_calls': [{'id': 'call_ckmk', 'function': {'arguments': '{\"query\": \"SELECT \\\\\"Ticket_Priority\\\\\", COUNT(*) as Count FROM customer_support_tickets WHERE \\\\\"Ticket_Channel\\\\\" = \\'Chat\\' GROUP BY \\\\\"Ticket_Priority\\\\\" ORDER BY Count DESC LIMIT3\"}', 'name': 'sql_db_query_checker'}, 'type': 'function'}]}, response_metadata={'token_usage': {'completion_tokens': 53, 'prompt_tokens': 1824, 'total_tokens': 1877, 'completion_time': 0.134698878, 'prompt_time': 0.04712057, 'queue_time': 0.192789998, 'total_time': 0.181819448}, 'model_name': 'meta-llama/llama-4-scout-17b-16e-instruct', 'system_fingerprint': 'fp_42ae451038', 'finish_reason': 'tool_calls', 'logprobs': None}, id='run-35dcb47a-8356-4b77-a320-4f286cc63e10-0', tool_calls=[{'name': 'sql_db_query_checker', 'args': {'query': 'SELECT \"Ticket_Priority\", COUNT(*) as Count FROM customer_support_tickets WHERE \"Ticket_Channel\" = \\'Chat\\' GROUP BY \"Ticket_Priority\" ORDER BY Count DESC LIMIT3'}, 'id': 'call_ckmk', 'type': 'tool_call'}], usage_metadata={'input_tokens': 1824, 'output_tokens': 53, 'total_tokens': 1877})]}}\n",
            "----\n",
            "{'tools': {'messages': [ToolMessage(content='```sql\\nSELECT \"Ticket_Priority\", COUNT(*) as \"Count\" \\nFROM customer_support_tickets \\nWHERE \"Ticket_Channel\" = \\'Chat\\' \\nGROUP BY \"Ticket_Priority\" \\nORDER BY \"Count\" DESC \\nLIMIT 3;\\n```', name='sql_db_query_checker', id='d4b35289-4d4c-4072-b662-e4d989afd86b', tool_call_id='call_ckmk')]}}\n",
            "----\n",
            "{'agent': {'messages': [AIMessage(content='', additional_kwargs={'tool_calls': [{'id': 'call_axy6', 'function': {'arguments': '{\"query\": \"SELECT \\\\\"Ticket_Priority\\\\\", COUNT(*) as Count FROM customer_support_tickets WHERE \\\\\"Ticket_Channel\\\\\" = \\'Chat\\' GROUP BY \\\\\"Ticket_Priority\\\\\" ORDER BY Count DESC LIMIT3\"}', 'name': 'sql_db_query'}, 'type': 'function'}]}, response_metadata={'token_usage': {'completion_tokens': 52, 'prompt_tokens': 1938, 'total_tokens': 1990, 'completion_time': 0.104231602, 'prompt_time': 0.051871305, 'queue_time': 0.19434760299999998, 'total_time': 0.156102907}, 'model_name': 'meta-llama/llama-4-scout-17b-16e-instruct', 'system_fingerprint': 'fp_42ae451038', 'finish_reason': 'tool_calls', 'logprobs': None}, id='run-857263b4-18e8-4b84-a950-477bd193ef47-0', tool_calls=[{'name': 'sql_db_query', 'args': {'query': 'SELECT \"Ticket_Priority\", COUNT(*) as Count FROM customer_support_tickets WHERE \"Ticket_Channel\" = \\'Chat\\' GROUP BY \"Ticket_Priority\" ORDER BY Count DESC LIMIT3'}, 'id': 'call_axy6', 'type': 'tool_call'}], usage_metadata={'input_tokens': 1938, 'output_tokens': 52, 'total_tokens': 1990})]}}\n",
            "----\n",
            "{'tools': {'messages': [ToolMessage(content='Error: (psycopg2.errors.SyntaxError) syntax error at or near \"LIMIT3\"\\nLINE 1: ...\\'Chat\\' GROUP BY \"Ticket_Priority\" ORDER BY Count DESC LIMIT3\\n                                                                 ^\\n\\n[SQL: SELECT \"Ticket_Priority\", COUNT(*) as Count FROM customer_support_tickets WHERE \"Ticket_Channel\" = \\'Chat\\' GROUP BY \"Ticket_Priority\" ORDER BY Count DESC LIMIT3]\\n(Background on this error at: https://sqlalche.me/e/20/f405)', name='sql_db_query', id='1b560094-4643-4114-aafa-603c506b4c71', tool_call_id='call_axy6')]}}\n",
            "----\n",
            "{'agent': {'messages': [AIMessage(content='', additional_kwargs={'tool_calls': [{'id': 'call_h03b', 'function': {'arguments': '{\"query\": \"SELECT \\\\\"Ticket_Priority\\\\\", COUNT(*) as Count FROM customer_support_tickets WHERE \\\\\"Ticket_Channel\\\\\" = \\'Chat\\' GROUP BY \\\\\"Ticket_Priority\\\\\" ORDER BY Count DESC LIMIT 3\"}', 'name': 'sql_db_query_checker'}, 'type': 'function'}]}, response_metadata={'token_usage': {'completion_tokens': 54, 'prompt_tokens': 2104, 'total_tokens': 2158, 'completion_time': 0.106677733, 'prompt_time': 0.057878109, 'queue_time': 0.310785104, 'total_time': 0.164555842}, 'model_name': 'meta-llama/llama-4-scout-17b-16e-instruct', 'system_fingerprint': 'fp_42ae451038', 'finish_reason': 'tool_calls', 'logprobs': None}, id='run-cb20bed0-50b3-46c6-b41b-cdb9665bce61-0', tool_calls=[{'name': 'sql_db_query_checker', 'args': {'query': 'SELECT \"Ticket_Priority\", COUNT(*) as Count FROM customer_support_tickets WHERE \"Ticket_Channel\" = \\'Chat\\' GROUP BY \"Ticket_Priority\" ORDER BY Count DESC LIMIT 3'}, 'id': 'call_h03b', 'type': 'tool_call'}], usage_metadata={'input_tokens': 2104, 'output_tokens': 54, 'total_tokens': 2158})]}}\n",
            "----\n",
            "{'tools': {'messages': [ToolMessage(content='```sql\\nSELECT \"Ticket_Priority\", COUNT(*) as Count \\nFROM customer_support_tickets \\nWHERE \"Ticket_Channel\" = \\'Chat\\' \\nGROUP BY \"Ticket_Priority\" \\nORDER BY Count DESC \\nLIMIT 3;\\n```', name='sql_db_query_checker', id='ca9cdca3-5d22-4a58-8da0-ac73cb14f6f5', tool_call_id='call_h03b')]}}\n",
            "----\n",
            "{'agent': {'messages': [AIMessage(content='', additional_kwargs={'tool_calls': [{'id': 'call_z90s', 'function': {'arguments': '{\"query\": \"SELECT \\\\\"Ticket_Priority\\\\\", COUNT(*) as Count FROM customer_support_tickets WHERE \\\\\"Ticket_Channel\\\\\" = \\'Chat\\' GROUP BY \\\\\"Ticket_Priority\\\\\" ORDER BY Count DESC LIMIT 3\"}', 'name': 'sql_db_query'}, 'type': 'function'}]}, response_metadata={'token_usage': {'completion_tokens': 53, 'prompt_tokens': 2214, 'total_tokens': 2267, 'completion_time': 0.107134726, 'prompt_time': 0.058809324, 'queue_time': 0.192929666, 'total_time': 0.16594405}, 'model_name': 'meta-llama/llama-4-scout-17b-16e-instruct', 'system_fingerprint': 'fp_42ae451038', 'finish_reason': 'tool_calls', 'logprobs': None}, id='run-3037e24a-dd0a-422d-8c23-575259442f6e-0', tool_calls=[{'name': 'sql_db_query', 'args': {'query': 'SELECT \"Ticket_Priority\", COUNT(*) as Count FROM customer_support_tickets WHERE \"Ticket_Channel\" = \\'Chat\\' GROUP BY \"Ticket_Priority\" ORDER BY Count DESC LIMIT 3'}, 'id': 'call_z90s', 'type': 'tool_call'}], usage_metadata={'input_tokens': 2214, 'output_tokens': 53, 'total_tokens': 2267})]}}\n",
            "----\n",
            "{'tools': {'messages': [ToolMessage(content=\"[('Medium', 551), ('High', 517), ('Critical', 504)]\", name='sql_db_query', id='a1270668-fa18-47c6-a8bc-84f0aaffbc77', tool_call_id='call_z90s')]}}\n",
            "----\n",
            "{'agent': {'messages': [AIMessage(content=\"[\\n    {'Ticket_Priority': 'Medium', 'Count': 551},\\n    {'Ticket_Priority': 'High', 'Count': 517},\\n    {'Ticket_Priority': 'Critical', 'Count': 504}\\n]\", additional_kwargs={}, response_metadata={'token_usage': {'completion_tokens': 48, 'prompt_tokens': 2292, 'total_tokens': 2340, 'completion_time': 0.106604774, 'prompt_time': 0.06348842, 'queue_time': 0.19291696200000003, 'total_time': 0.170093194}, 'model_name': 'meta-llama/llama-4-scout-17b-16e-instruct', 'system_fingerprint': 'fp_42ae451038', 'finish_reason': 'stop', 'logprobs': None}, id='run-d48296ef-1d6e-45b3-8a0b-66333f072f77-0', usage_metadata={'input_tokens': 2292, 'output_tokens': 48, 'total_tokens': 2340})]}}\n",
            "----\n"
          ]
        }
      ]
    },
    {
      "cell_type": "code",
      "source": [
        "s['agent']['messages'][0].content"
      ],
      "metadata": {
        "colab": {
          "base_uri": "https://localhost:8080/",
          "height": 36
        },
        "id": "x4pWjHi-xNa9",
        "outputId": "8ca3c902-e189-4e55-dbc0-68e04265104b"
      },
      "execution_count": 54,
      "outputs": [
        {
          "output_type": "execute_result",
          "data": {
            "text/plain": [
              "\"[\\n    {'Ticket_Priority': 'Medium', 'Count': 551},\\n    {'Ticket_Priority': 'High', 'Count': 517},\\n    {'Ticket_Priority': 'Critical', 'Count': 504}\\n]\""
            ],
            "application/vnd.google.colaboratory.intrinsic+json": {
              "type": "string"
            }
          },
          "metadata": {},
          "execution_count": 54
        }
      ]
    },
    {
      "cell_type": "code",
      "source": [
        "for s in agent_executor.stream(\n",
        "    {\"messages\": [HumanMessage(content=\"มี Customer_Email จำนวนเท่าไหร่ ที่ลงท้ายด้วย 'example.org'\")]}\n",
        "):\n",
        "    print(s)\n",
        "    print(\"----\")"
      ],
      "metadata": {
        "colab": {
          "base_uri": "https://localhost:8080/"
        },
        "id": "SYy2GYurykaA",
        "outputId": "8296ec24-0d37-4bd2-f08d-1a0df461f091"
      },
      "execution_count": 55,
      "outputs": [
        {
          "output_type": "stream",
          "name": "stdout",
          "text": [
            "{'agent': {'messages': [AIMessage(content='', additional_kwargs={'tool_calls': [{'id': 'call_vqm8', 'function': {'arguments': '{\"tool_input\": \"\"}', 'name': 'sql_db_list_tables'}, 'type': 'function'}]}, response_metadata={'token_usage': {'completion_tokens': 16, 'prompt_tokens': 950, 'total_tokens': 966, 'completion_time': 0.039712848, 'prompt_time': 0.029015069, 'queue_time': 0.374395848, 'total_time': 0.068727917}, 'model_name': 'meta-llama/llama-4-scout-17b-16e-instruct', 'system_fingerprint': 'fp_42ae451038', 'finish_reason': 'tool_calls', 'logprobs': None}, id='run-ab24fabb-bf7a-400e-9d26-d066f06c68e1-0', tool_calls=[{'name': 'sql_db_list_tables', 'args': {'tool_input': ''}, 'id': 'call_vqm8', 'type': 'tool_call'}], usage_metadata={'input_tokens': 950, 'output_tokens': 16, 'total_tokens': 966})]}}\n",
            "----\n",
            "{'tools': {'messages': [ToolMessage(content='customer_support_tickets, financial_statements, online_shopping, spotify_data', name='sql_db_list_tables', id='96f227d2-1cf7-44e1-aa09-9145e3c10a5c', tool_call_id='call_vqm8')]}}\n",
            "----\n",
            "{'agent': {'messages': [AIMessage(content='', additional_kwargs={'tool_calls': [{'id': 'call_gprx', 'function': {'arguments': '{\"table_names\": \"customer_support_tickets, financial_statements, online_shopping, spotify_data\"}', 'name': 'sql_db_schema'}, 'type': 'function'}]}, response_metadata={'token_usage': {'completion_tokens': 32, 'prompt_tokens': 992, 'total_tokens': 1024, 'completion_time': 0.069086383, 'prompt_time': 0.030890502, 'queue_time': 0.339594277, 'total_time': 0.099976885}, 'model_name': 'meta-llama/llama-4-scout-17b-16e-instruct', 'system_fingerprint': 'fp_37da608fc1', 'finish_reason': 'tool_calls', 'logprobs': None}, id='run-c0b18c91-4cfe-4eb6-a652-9be6060513e6-0', tool_calls=[{'name': 'sql_db_schema', 'args': {'table_names': 'customer_support_tickets, financial_statements, online_shopping, spotify_data'}, 'id': 'call_gprx', 'type': 'tool_call'}], usage_metadata={'input_tokens': 992, 'output_tokens': 32, 'total_tokens': 1024})]}}\n",
            "----\n",
            "{'tools': {'messages': [ToolMessage(content='\\nCREATE TABLE customer_support_tickets (\\n\\t\"Ticket_ID\" BIGINT, \\n\\t\"Customer_Name\" TEXT, \\n\\t\"Customer_Email\" TEXT, \\n\\t\"Customer_Age\" BIGINT, \\n\\t\"Customer_Gender\" TEXT, \\n\\t\"Product_Purchased\" TEXT, \\n\\t\"Date_of_Purchase\" TEXT, \\n\\t\"Ticket_Type\" TEXT, \\n\\t\"Ticket_Subject\" TEXT, \\n\\t\"Ticket_Description\" TEXT, \\n\\t\"Ticket_Status\" TEXT, \\n\\t\"Resolution\" TEXT, \\n\\t\"Ticket_Priority\" TEXT, \\n\\t\"Ticket_Channel\" TEXT, \\n\\t\"First_Response_Time\" TEXT, \\n\\t\"Time_to_Resolution\" TEXT, \\n\\t\"Customer_Satisfaction_Rating\" DOUBLE PRECISION\\n)\\n\\n/*\\n3 rows from customer_support_tickets table:\\nTicket_ID\\tCustomer_Name\\tCustomer_Email\\tCustomer_Age\\tCustomer_Gender\\tProduct_Purchased\\tDate_of_Purchase\\tTicket_Type\\tTicket_Subject\\tTicket_Description\\tTicket_Status\\tResolution\\tTicket_Priority\\tTicket_Channel\\tFirst_Response_Time\\tTime_to_Resolution\\tCustomer_Satisfaction_Rating\\n1\\tMarisa Obrien\\tcarrollallison@example.com\\t32\\tOther\\tGoPro Hero\\t2021-03-22\\tTechnical issue\\tProduct setup\\tI\\'m having an issue with the {product_purchased}. Please assist.\\n\\nYour billing zip code is: 71701.\\n\\n\\tPending Customer Response\\tNone\\tCritical\\tSocial media\\t2023-06-01 12:15:36\\tNone\\tNone\\n2\\tJessica Rios\\tclarkeashley@example.com\\t42\\tFemale\\tLG Smart TV\\t2021-05-22\\tTechnical issue\\tPeripheral compatibility\\tI\\'m having an issue with the {product_purchased}. Please assist.\\n\\nIf you need to change an existing \\tPending Customer Response\\tNone\\tCritical\\tChat\\t2023-06-01 16:45:38\\tNone\\tNone\\n3\\tChristopher Robbins\\tgonzalestracy@example.com\\t48\\tOther\\tDell XPS\\t2020-07-14\\tTechnical issue\\tNetwork problem\\tI\\'m facing a problem with my {product_purchased}. The {product_purchased} is not turning on. It was \\tClosed\\tCase maybe show recently my computer follow.\\tLow\\tSocial media\\t2023-06-01 11:14:38\\t2023-06-01 18:05:38\\t3.0\\n*/\\n\\n\\nCREATE TABLE financial_statements (\\n\\t\"Year\" BIGINT, \\n\\t\"Company\" TEXT, \\n\\t\"Category\" TEXT, \\n\\t\"Market Cap(in B USD)\" DOUBLE PRECISION, \\n\\t\"Revenue\" DOUBLE PRECISION, \\n\\t\"Gross Profit\" DOUBLE PRECISION, \\n\\t\"Net Income\" DOUBLE PRECISION, \\n\\t\"Earning Per Share\" DOUBLE PRECISION, \\n\\t\"EBITDA\" DOUBLE PRECISION, \\n\\t\"Share Holder Equity\" DOUBLE PRECISION, \\n\\t\"Cash Flow from Operating\" DOUBLE PRECISION, \\n\\t\"Cash Flow from Investing\" DOUBLE PRECISION, \\n\\t\"Cash Flow from Financial Activities\" DOUBLE PRECISION, \\n\\t\"Current Ratio\" DOUBLE PRECISION, \\n\\t\"Debt/Equity Ratio\" DOUBLE PRECISION, \\n\\t\"ROE\" DOUBLE PRECISION, \\n\\t\"ROA\" DOUBLE PRECISION, \\n\\t\"ROI\" DOUBLE PRECISION, \\n\\t\"Net Profit Margin\" DOUBLE PRECISION, \\n\\t\"Free Cash Flow per Share\" DOUBLE PRECISION, \\n\\t\"Return on Tangible Equity\" DOUBLE PRECISION, \\n\\t\"Number of Employees\" BIGINT, \\n\\t\"Inflation Rate(in US)\" DOUBLE PRECISION\\n)\\n\\n/*\\n3 rows from financial_statements table:\\nYear\\tCompany\\tCategory\\tMarket Cap(in B USD)\\tRevenue\\tGross Profit\\tNet Income\\tEarning Per Share\\tEBITDA\\tShare Holder Equity\\tCash Flow from Operating\\tCash Flow from Investing\\tCash Flow from Financial Activities\\tCurrent Ratio\\tDebt/Equity Ratio\\tROE\\tROA\\tROI\\tNet Profit Margin\\tFree Cash Flow per Share\\tReturn on Tangible Equity\\tNumber of Employees\\tInflation Rate(in US)\\n2022\\tAAPL\\tIT\\t2066.94\\t394328.0\\t170782.0\\t99803.0\\t6.11\\t130541.0\\t50672.0\\t122151.0\\t-22354.0\\t-110749.0\\t0.8794\\t2.3695\\t196.9589\\t28.2924\\t66.6994\\t25.3096\\t1.3146\\t196.9589\\t164000\\t8.0028\\n2021\\tAAPL\\tIT\\t2913.28\\t365817.0\\t152836.0\\t94680.0\\t5.61\\t120233.0\\t63090.0\\t104038.0\\t-14545.0\\t-93353.0\\t1.0746\\t1.9768\\t150.0713\\t26.9742\\t54.9839\\t25.8818\\t1.3261\\t150.0713\\t154000\\t4.6979\\n2020\\tAAPL\\tIT\\t2255.97\\t274515.0\\t104956.0\\t57411.0\\t3.28\\t77344.0\\t65339.0\\t80674.0\\t-4289.0\\t-86820.0\\t1.3636\\t1.7208\\t87.8664\\t17.7256\\t35.0054\\t20.9136\\t1.0183\\t87.8664\\t147000\\t1.2336\\n*/\\n\\n\\nCREATE TABLE online_shopping (\\n\\t\"CustomerID\" BIGINT, \\n\\t\"Gender\" TEXT, \\n\\t\"Location\" TEXT, \\n\\t\"Tenure_Months\" BIGINT, \\n\\t\"Transaction_ID\" BIGINT, \\n\\t\"Transaction_Date\" TEXT, \\n\\t\"Product_SKU\" TEXT, \\n\\t\"Product_Description\" TEXT, \\n\\t\"Product_Category\" TEXT, \\n\\t\"Quantity\" BIGINT, \\n\\t\"Avg_Price\" DOUBLE PRECISION, \\n\\t\"Total_Price\" DOUBLE PRECISION, \\n\\t\"Delivery_Charges\" DOUBLE PRECISION, \\n\\t\"Date\" TEXT, \\n\\t\"Month\" BIGINT\\n)\\n\\n/*\\n3 rows from online_shopping table:\\nCustomerID\\tGender\\tLocation\\tTenure_Months\\tTransaction_ID\\tTransaction_Date\\tProduct_SKU\\tProduct_Description\\tProduct_Category\\tQuantity\\tAvg_Price\\tTotal_Price\\tDelivery_Charges\\tDate\\tMonth\\n17850\\tM\\tChicago\\t12\\t16679\\t2019-01-01\\tGGOENEBJ079499\\tNest Learning Thermostat 3rd Gen-USA - Stainless Steel\\tNest-USA\\t1\\t153.71\\t153.71\\t6.5\\t1/1/2019\\t1\\n17850\\tM\\tChicago\\t12\\t16680\\t2019-01-01\\tGGOENEBJ079499\\tNest Learning Thermostat 3rd Gen-USA - Stainless Steel\\tNest-USA\\t1\\t153.71\\t153.71\\t6.5\\t1/1/2019\\t1\\n17850\\tM\\tChicago\\t12\\t16696\\t2019-01-01\\tGGOENEBQ078999\\tNest Cam Outdoor Security Camera - USA\\tNest-USA\\t2\\t122.77\\t245.54\\t6.5\\t1/1/2019\\t1\\n*/\\n\\n\\nCREATE TABLE spotify_data (\\n\\ttrack_name TEXT, \\n\\t\"artist(s)_name\" TEXT, \\n\\tartist_count BIGINT, \\n\\treleased_year BIGINT, \\n\\treleased_month BIGINT, \\n\\treleased_day BIGINT, \\n\\tin_spotify_playlists BIGINT, \\n\\tin_spotify_charts BIGINT, \\n\\tstreams TEXT, \\n\\tin_apple_playlists BIGINT, \\n\\tin_apple_charts BIGINT, \\n\\tin_deezer_playlists TEXT, \\n\\tin_deezer_charts BIGINT, \\n\\tin_shazam_charts TEXT, \\n\\tbpm BIGINT, \\n\\tkey TEXT, \\n\\tmode TEXT, \\n\\t\"danceability_%%\" BIGINT, \\n\\t\"valence_%%\" BIGINT, \\n\\t\"energy_%%\" BIGINT, \\n\\t\"acousticness_%%\" BIGINT, \\n\\t\"instrumentalness_%%\" BIGINT, \\n\\t\"liveness_%%\" BIGINT, \\n\\t\"speechiness_%%\" BIGINT\\n)\\n\\n/*\\n3 rows from spotify_data table:\\ntrack_name\\tartist(s)_name\\tartist_count\\treleased_year\\treleased_month\\treleased_day\\tin_spotify_playlists\\tin_spotify_charts\\tstreams\\tin_apple_playlists\\tin_apple_charts\\tin_deezer_playlists\\tin_deezer_charts\\tin_shazam_charts\\tbpm\\tkey\\tmode\\tdanceability_%\\tvalence_%\\tenergy_%\\tacousticness_%\\tinstrumentalness_%\\tliveness_%\\tspeechiness_%\\nSeven (feat. Latto) (Explicit Ver.)\\tLatto, Jung Kook\\t2\\t2023\\t7\\t14\\t553\\t147\\t141381703\\t43\\t263\\t45\\t10\\t826\\t125\\tB\\tMajor\\t80\\t89\\t83\\t31\\t0\\t8\\t4\\nLALA\\tMyke Towers\\t1\\t2023\\t3\\t23\\t1474\\t48\\t133716286\\t48\\t126\\t58\\t14\\t382\\t92\\tC#\\tMajor\\t71\\t61\\t74\\t7\\t0\\t10\\t4\\nvampire\\tOlivia Rodrigo\\t1\\t2023\\t6\\t30\\t1397\\t113\\t140003974\\t94\\t207\\t91\\t14\\t949\\t138\\tF\\tMajor\\t51\\t32\\t53\\t17\\t0\\t31\\t6\\n*/', name='sql_db_schema', id='63344bbc-43ef-48bf-8975-70f15ebfcdae', tool_call_id='call_gprx')]}}\n",
            "----\n",
            "{'agent': {'messages': [AIMessage(content='', additional_kwargs={'tool_calls': [{'id': 'call_08a8', 'function': {'arguments': '{\"query\": \"SELECT COUNT(Customer_Email) FROM customer_support_tickets WHERE Customer_Email LIKE \\'%@example.org\\'\"}', 'name': 'sql_db_query_checker'}, 'type': 'function'}]}, response_metadata={'token_usage': {'completion_tokens': 36, 'prompt_tokens': 2801, 'total_tokens': 2837, 'completion_time': 0.085178135, 'prompt_time': 0.079406967, 'queue_time': 0.231732938, 'total_time': 0.164585102}, 'model_name': 'meta-llama/llama-4-scout-17b-16e-instruct', 'system_fingerprint': 'fp_42ae451038', 'finish_reason': 'tool_calls', 'logprobs': None}, id='run-f08c42d6-8ecc-4851-ac23-edad3f0a51e8-0', tool_calls=[{'name': 'sql_db_query_checker', 'args': {'query': \"SELECT COUNT(Customer_Email) FROM customer_support_tickets WHERE Customer_Email LIKE '%@example.org'\"}, 'id': 'call_08a8', 'type': 'tool_call'}], usage_metadata={'input_tokens': 2801, 'output_tokens': 36, 'total_tokens': 2837})]}}\n",
            "----\n",
            "{'tools': {'messages': [ToolMessage(content=\"```sql\\nSELECT COUNT(Customer_Email) \\nFROM customer_support_tickets \\nWHERE Customer_Email LIKE '%@example.org';\\n```\", name='sql_db_query_checker', id='8da2159f-21cf-420b-855f-440b3b3f9cf2', tool_call_id='call_08a8')]}}\n",
            "----\n",
            "{'agent': {'messages': [AIMessage(content='', additional_kwargs={'tool_calls': [{'id': 'call_t22c', 'function': {'arguments': '{\"query\": \"SELECT COUNT(Customer_Email) FROM customer_support_tickets WHERE Customer_Email LIKE \\'%@example.org\\'\"}', 'name': 'sql_db_query'}, 'type': 'function'}]}, response_metadata={'token_usage': {'completion_tokens': 35, 'prompt_tokens': 2874, 'total_tokens': 2909, 'completion_time': 0.084743542, 'prompt_time': 0.082214124, 'queue_time': 0.365479572, 'total_time': 0.166957666}, 'model_name': 'meta-llama/llama-4-scout-17b-16e-instruct', 'system_fingerprint': 'fp_37da608fc1', 'finish_reason': 'tool_calls', 'logprobs': None}, id='run-338d391f-4985-4e81-97d5-ef73b248bdeb-0', tool_calls=[{'name': 'sql_db_query', 'args': {'query': \"SELECT COUNT(Customer_Email) FROM customer_support_tickets WHERE Customer_Email LIKE '%@example.org'\"}, 'id': 'call_t22c', 'type': 'tool_call'}], usage_metadata={'input_tokens': 2874, 'output_tokens': 35, 'total_tokens': 2909})]}}\n",
            "----\n",
            "{'tools': {'messages': [ToolMessage(content='Error: (psycopg2.errors.UndefinedColumn) column \"customer_email\" does not exist\\nLINE 1: SELECT COUNT(Customer_Email) FROM customer_support_tickets W...\\n                     ^\\nHINT:  Perhaps you meant to reference the column \"customer_support_tickets.Customer_Email\".\\n\\n[SQL: SELECT COUNT(Customer_Email) FROM customer_support_tickets WHERE Customer_Email LIKE \\'%%@example.org\\']\\n(Background on this error at: https://sqlalche.me/e/20/f405)', name='sql_db_query', id='c2c5bd28-6a13-406e-bd14-46b54198adf0', tool_call_id='call_t22c')]}}\n",
            "----\n",
            "{'agent': {'messages': [AIMessage(content='', additional_kwargs={'tool_calls': [{'id': 'call_k0zk', 'function': {'arguments': '{\"query\": \"SELECT COUNT(Customer_Email) FROM customer_support_tickets WHERE LOWER(Customer_Email) LIKE \\'%@example.org\\'\"}', 'name': 'sql_db_query_checker'}, 'type': 'function'}]}, response_metadata={'token_usage': {'completion_tokens': 39, 'prompt_tokens': 3020, 'total_tokens': 3059, 'completion_time': 0.087330051, 'prompt_time': 0.095358963, 'queue_time': 0.517070383, 'total_time': 0.182689014}, 'model_name': 'meta-llama/llama-4-scout-17b-16e-instruct', 'system_fingerprint': 'fp_42ae451038', 'finish_reason': 'tool_calls', 'logprobs': None}, id='run-e04b7a9b-f034-4e93-b47c-84a09dcd2309-0', tool_calls=[{'name': 'sql_db_query_checker', 'args': {'query': \"SELECT COUNT(Customer_Email) FROM customer_support_tickets WHERE LOWER(Customer_Email) LIKE '%@example.org'\"}, 'id': 'call_k0zk', 'type': 'tool_call'}], usage_metadata={'input_tokens': 3020, 'output_tokens': 39, 'total_tokens': 3059})]}}\n",
            "----\n",
            "{'tools': {'messages': [ToolMessage(content=\"```sql\\nSELECT COUNT(Customer_Email) \\nFROM customer_support_tickets \\nWHERE LOWER(Customer_Email) LIKE '%@example.org';\\n```\", name='sql_db_query_checker', id='6166150b-ddf4-4ccb-814f-96d4b97dfae1', tool_call_id='call_k0zk')]}}\n",
            "----\n",
            "{'agent': {'messages': [AIMessage(content='', additional_kwargs={'tool_calls': [{'id': 'call_83d2', 'function': {'arguments': '{\"query\": \"SELECT COUNT(Customer_Email) FROM customer_support_tickets WHERE LOWER(Customer_Email) LIKE \\'%@example.org\\'\"}', 'name': 'sql_db_query'}, 'type': 'function'}]}, response_metadata={'token_usage': {'completion_tokens': 38, 'prompt_tokens': 3099, 'total_tokens': 3137, 'completion_time': 0.091883235, 'prompt_time': 0.089530574, 'queue_time': 0.4221881270000001, 'total_time': 0.181413809}, 'model_name': 'meta-llama/llama-4-scout-17b-16e-instruct', 'system_fingerprint': 'fp_37da608fc1', 'finish_reason': 'tool_calls', 'logprobs': None}, id='run-f6520c13-d74a-4fb5-b1c7-c689f284fa5e-0', tool_calls=[{'name': 'sql_db_query', 'args': {'query': \"SELECT COUNT(Customer_Email) FROM customer_support_tickets WHERE LOWER(Customer_Email) LIKE '%@example.org'\"}, 'id': 'call_83d2', 'type': 'tool_call'}], usage_metadata={'input_tokens': 3099, 'output_tokens': 38, 'total_tokens': 3137})]}}\n",
            "----\n",
            "{'tools': {'messages': [ToolMessage(content='Error: (psycopg2.errors.UndefinedColumn) column \"customer_email\" does not exist\\nLINE 1: SELECT COUNT(Customer_Email) FROM customer_support_tickets W...\\n                     ^\\nHINT:  Perhaps you meant to reference the column \"customer_support_tickets.Customer_Email\".\\n\\n[SQL: SELECT COUNT(Customer_Email) FROM customer_support_tickets WHERE LOWER(Customer_Email) LIKE \\'%%@example.org\\']\\n(Background on this error at: https://sqlalche.me/e/20/f405)', name='sql_db_query', id='4b21ef31-dcd6-4f97-afb3-f9848837dc32', tool_call_id='call_83d2')]}}\n",
            "----\n",
            "{'agent': {'messages': [AIMessage(content='', additional_kwargs={'tool_calls': [{'id': 'call_rbnh', 'function': {'arguments': '{\"query\": \"SELECT COUNT(CUSTOMER_EMAIL) FROM customer_support_tickets WHERE LOWER(CUSTOMER_EMAIL) LIKE \\'%@example.org\\'\"}', 'name': 'sql_db_query_checker'}, 'type': 'function'}]}, response_metadata={'token_usage': {'completion_tokens': 62, 'prompt_tokens': 3251, 'total_tokens': 3313, 'completion_time': 0.148760299, 'prompt_time': 0.096842964, 'queue_time': 0.271223192, 'total_time': 0.245603263}, 'model_name': 'meta-llama/llama-4-scout-17b-16e-instruct', 'system_fingerprint': 'fp_37da608fc1', 'finish_reason': 'tool_calls', 'logprobs': None}, id='run-5d4c6e98-9e51-4cfc-ab9f-97fc4e70232c-0', tool_calls=[{'name': 'sql_db_query_checker', 'args': {'query': \"SELECT COUNT(CUSTOMER_EMAIL) FROM customer_support_tickets WHERE LOWER(CUSTOMER_EMAIL) LIKE '%@example.org'\"}, 'id': 'call_rbnh', 'type': 'tool_call'}], usage_metadata={'input_tokens': 3251, 'output_tokens': 62, 'total_tokens': 3313})]}}\n",
            "----\n",
            "{'tools': {'messages': [ToolMessage(content=\"```sql\\nSELECT COUNT(CUSTOMER_EMAIL) \\nFROM customer_support_tickets \\nWHERE LOWER(CUSTOMER_EMAIL) LIKE '%@example.org';\\n```\", name='sql_db_query_checker', id='17d1b966-59cf-457e-8b49-533b8b7e3d9c', tool_call_id='call_rbnh')]}}\n",
            "----\n",
            "{'agent': {'messages': [AIMessage(content='', additional_kwargs={'tool_calls': [{'id': 'call_6z2p', 'function': {'arguments': '{\"query\": \"SELECT COUNT(CUSTOMER_EMAIL) FROM customer_support_tickets WHERE LOWER(CUSTOMER_EMAIL) LIKE \\'%@example.org\\'\"}', 'name': 'sql_db_query'}, 'type': 'function'}]}, response_metadata={'token_usage': {'completion_tokens': 40, 'prompt_tokens': 3334, 'total_tokens': 3374, 'completion_time': 0.096534448, 'prompt_time': 0.107201598, 'queue_time': 0.5771010040000001, 'total_time': 0.203736046}, 'model_name': 'meta-llama/llama-4-scout-17b-16e-instruct', 'system_fingerprint': 'fp_37da608fc1', 'finish_reason': 'tool_calls', 'logprobs': None}, id='run-1aaa52f0-1267-4ccb-82b3-5b608e1a055f-0', tool_calls=[{'name': 'sql_db_query', 'args': {'query': \"SELECT COUNT(CUSTOMER_EMAIL) FROM customer_support_tickets WHERE LOWER(CUSTOMER_EMAIL) LIKE '%@example.org'\"}, 'id': 'call_6z2p', 'type': 'tool_call'}], usage_metadata={'input_tokens': 3334, 'output_tokens': 40, 'total_tokens': 3374})]}}\n",
            "----\n",
            "{'tools': {'messages': [ToolMessage(content='Error: (psycopg2.errors.UndefinedColumn) column \"customer_email\" does not exist\\nLINE 1: SELECT COUNT(CUSTOMER_EMAIL) FROM customer_support_tickets W...\\n                     ^\\nHINT:  Perhaps you meant to reference the column \"customer_support_tickets.Customer_Email\".\\n\\n[SQL: SELECT COUNT(CUSTOMER_EMAIL) FROM customer_support_tickets WHERE LOWER(CUSTOMER_EMAIL) LIKE \\'%%@example.org\\']\\n(Background on this error at: https://sqlalche.me/e/20/f405)', name='sql_db_query', id='69a61032-81cb-4628-9e7a-f042f4be1a28', tool_call_id='call_6z2p')]}}\n",
            "----\n",
            "{'agent': {'messages': [AIMessage(content='', additional_kwargs={'tool_calls': [{'id': 'call_5afy', 'function': {'arguments': '{\"query\": \"SELECT COUNT(\\\\\"Customer_Email\\\\\") FROM customer_support_tickets WHERE LOWER(\\\\\"Customer_Email\\\\\") LIKE \\'%@example.org\\'\"}', 'name': 'sql_db_query_checker'}, 'type': 'function'}]}, response_metadata={'token_usage': {'completion_tokens': 41, 'prompt_tokens': 3491, 'total_tokens': 3532, 'completion_time': 0.09886337, 'prompt_time': 0.133309879, 'queue_time': 0.994868678, 'total_time': 0.232173249}, 'model_name': 'meta-llama/llama-4-scout-17b-16e-instruct', 'system_fingerprint': 'fp_37da608fc1', 'finish_reason': 'tool_calls', 'logprobs': None}, id='run-aef119f4-2eff-48d9-8eb1-91d06e6b135e-0', tool_calls=[{'name': 'sql_db_query_checker', 'args': {'query': 'SELECT COUNT(\"Customer_Email\") FROM customer_support_tickets WHERE LOWER(\"Customer_Email\") LIKE \\'%@example.org\\''}, 'id': 'call_5afy', 'type': 'tool_call'}], usage_metadata={'input_tokens': 3491, 'output_tokens': 41, 'total_tokens': 3532})]}}\n",
            "----\n",
            "{'tools': {'messages': [ToolMessage(content='```sql\\nSELECT COUNT(\"Customer_Email\") \\nFROM customer_support_tickets \\nWHERE LOWER(\"Customer_Email\") LIKE \\'%@example.org\\';\\n```', name='sql_db_query_checker', id='d5a45dde-286b-480e-8ff8-213f4481677b', tool_call_id='call_5afy')]}}\n",
            "----\n",
            "{'agent': {'messages': [AIMessage(content='', additional_kwargs={'tool_calls': [{'id': 'call_vnep', 'function': {'arguments': '{\"query\": \"SELECT COUNT(\\\\\"Customer_Email\\\\\") FROM customer_support_tickets WHERE LOWER(\\\\\"Customer_Email\\\\\") LIKE \\'%@example.org\\'\"}', 'name': 'sql_db_query'}, 'type': 'function'}]}, response_metadata={'token_usage': {'completion_tokens': 40, 'prompt_tokens': 3574, 'total_tokens': 3614, 'completion_time': 0.091308237, 'prompt_time': 0.107183404, 'queue_time': 0.22036090400000002, 'total_time': 0.198491641}, 'model_name': 'meta-llama/llama-4-scout-17b-16e-instruct', 'system_fingerprint': 'fp_42ae451038', 'finish_reason': 'tool_calls', 'logprobs': None}, id='run-44bb47bd-666b-4c15-8473-667fb97909ee-0', tool_calls=[{'name': 'sql_db_query', 'args': {'query': 'SELECT COUNT(\"Customer_Email\") FROM customer_support_tickets WHERE LOWER(\"Customer_Email\") LIKE \\'%@example.org\\''}, 'id': 'call_vnep', 'type': 'tool_call'}], usage_metadata={'input_tokens': 3574, 'output_tokens': 40, 'total_tokens': 3614})]}}\n",
            "----\n",
            "{'tools': {'messages': [ToolMessage(content='[(2796,)]', name='sql_db_query', id='dfb04189-ecb6-4aab-9d5d-453f4dc1c0ef', tool_call_id='call_vnep')]}}\n",
            "----\n",
            "{'agent': {'messages': [AIMessage(content=\"จำนวน Customer_Email ที่ลงท้ายด้วย 'example.org' คือ 2796\", additional_kwargs={}, response_metadata={'token_usage': {'completion_tokens': 17, 'prompt_tokens': 3629, 'total_tokens': 3646, 'completion_time': 0.04324113, 'prompt_time': 0.113216375, 'queue_time': 0.21646190400000004, 'total_time': 0.156457505}, 'model_name': 'meta-llama/llama-4-scout-17b-16e-instruct', 'system_fingerprint': 'fp_37da608fc1', 'finish_reason': 'stop', 'logprobs': None}, id='run-d1bfa397-d692-4a75-a2b7-ea2ca237bf76-0', usage_metadata={'input_tokens': 3629, 'output_tokens': 17, 'total_tokens': 3646})]}}\n",
            "----\n"
          ]
        }
      ]
    },
    {
      "cell_type": "code",
      "source": [
        "s['agent']['messages'][0].content"
      ],
      "metadata": {
        "colab": {
          "base_uri": "https://localhost:8080/",
          "height": 36
        },
        "id": "LgpxUtQfzSx0",
        "outputId": "8e57f0e5-a513-4dbe-c46e-684104221ce2"
      },
      "execution_count": 56,
      "outputs": [
        {
          "output_type": "execute_result",
          "data": {
            "text/plain": [
              "\"จำนวน Customer_Email ที่ลงท้ายด้วย 'example.org' คือ 2796\""
            ],
            "application/vnd.google.colaboratory.intrinsic+json": {
              "type": "string"
            }
          },
          "metadata": {},
          "execution_count": 56
        }
      ]
    }
  ]
}