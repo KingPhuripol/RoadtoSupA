{
 "cells": [
  {
   "cell_type": "code",
   "execution_count": null,
   "id": "dd8c539b",
   "metadata": {},
   "outputs": [],
   "source": [
    "# Install necessary libraries\n",
    "%pip install -q datasets transformers[sentencepiece] simpletransformers scikit-learn"
   ]
  },
  {
   "cell_type": "code",
   "execution_count": null,
   "id": "381f7611",
   "metadata": {},
   "outputs": [],
   "source": [
    "import os\n",
    "import zipfile\n",
    "\n",
    "# Define paths\n",
    "zip_path = \"super-ai-ss-5-named-entity-recognition.zip\"\n",
    "extract_path = \"super-ai-ss-5-named-entity-recognition\"\n",
    "\n",
    "# Unzip the dataset if not already unzipped\n",
    "if not os.path.exists(extract_path):\n",
    "    with zipfile.ZipFile(zip_path, 'r') as zip_ref:\n",
    "        zip_ref.extractall(extract_path)\n",
    "\n",
    "    # Flatten directory structure\n",
    "    for split in ['train', 'eval', 'test']:\n",
    "        split_path = os.path.join(extract_path, split)\n",
    "        nested = os.path.join(split_path, split)\n",
    "        if os.path.exists(nested):\n",
    "            for fname in os.listdir(nested):\n",
    "                os.rename(os.path.join(nested, fname), os.path.join(split_path, fname))\n",
    "            os.rmdir(nested)\n"
   ]
  },
  {
   "cell_type": "code",
   "execution_count": null,
   "id": "0313686d",
   "metadata": {},
   "outputs": [],
   "source": [
    "from datasets import load_dataset\n",
    "\n",
    "data_files = {\n",
    "    \"train\": \"super-ai-ss-5-named-entity-recognition/train/train.csv\",\n",
    "    \"validation\": \"super-ai-ss-5-named-entity-recognition/eval/eval.csv\",\n",
    "    \"test\": \"super-ai-ss-5-named-entity-recognition/test/test.csv\"\n",
    "}\n",
    "\n",
    "dataset = load_dataset(\"csv\", data_files=data_files)\n",
    "dataset"
   ]
  },
  {
   "cell_type": "code",
   "execution_count": null,
   "id": "8d9409cb",
   "metadata": {},
   "outputs": [],
   "source": [
    "from simpletransformers.ner import NERModel, NERArgs\n",
    "import pandas as pd\n",
    "\n",
    "# Prepare training and evaluation data\n",
    "train_df = pd.read_csv(\"super-ai-ss-5-named-entity-recognition/train/train.csv\")\n",
    "eval_df = pd.read_csv(\"super-ai-ss-5-named-entity-recognition/eval/eval.csv\")\n",
    "\n",
    "# Set up model arguments\n",
    "model_args = NERArgs()\n",
    "model_args.num_train_epochs = 3\n",
    "model_args.train_batch_size = 8\n",
    "model_args.evaluate_during_training = True\n",
    "model_args.labels_list = list(train_df['labels'].unique())\n",
    "\n",
    "# Create a NERModel\n",
    "model = NERModel(\n",
    "    \"bert\", \n",
    "    \"bert-base-multilingual-cased\", \n",
    "    args=model_args,\n",
    "    use_cuda=False\n",
    ")\n",
    "\n",
    "# Train the model\n",
    "model.train_model(train_df, eval_data=eval_df)\n"
   ]
  },
  {
   "cell_type": "code",
   "execution_count": null,
   "id": "aadfb4db",
   "metadata": {},
   "outputs": [],
   "source": [
    "# Evaluate model on test data\n",
    "test_df = pd.read_csv(\"super-ai-ss-5-named-entity-recognition/test/test.csv\")\n",
    "result, model_outputs, predictions = model.eval_model(test_df)\n",
    "print(result)\n"
   ]
  }
 ],
 "metadata": {},
 "nbformat": 4,
 "nbformat_minor": 5
}
