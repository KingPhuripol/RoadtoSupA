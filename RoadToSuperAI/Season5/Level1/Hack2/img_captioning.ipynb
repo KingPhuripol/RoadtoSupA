{
 "cells": [
  {
   "cell_type": "code",
   "execution_count": 1,
   "id": "e4889061-3a4a-45b9-9231-07754af44342",
   "metadata": {},
   "outputs": [
    {
     "data": {
      "application/vnd.jupyter.widget-view+json": {
       "model_id": "0b9cbef1a87347c194058eb214f4327d",
       "version_major": 2,
       "version_minor": 0
      },
      "text/plain": [
       "config.json:   0%|          | 0.00/1.12k [00:00<?, ?B/s]"
      ]
     },
     "metadata": {},
     "output_type": "display_data"
    },
    {
     "data": {
      "application/vnd.jupyter.widget-view+json": {
       "model_id": "f24c8c892ce14f5b9b1781c06b3901b4",
       "version_major": 2,
       "version_minor": 0
      },
      "text/plain": [
       "model.safetensors.index.json:   0%|          | 0.00/56.5k [00:00<?, ?B/s]"
      ]
     },
     "metadata": {},
     "output_type": "display_data"
    },
    {
     "data": {
      "application/vnd.jupyter.widget-view+json": {
       "model_id": "00bb8a269802458aa9aaefeace703bd2",
       "version_major": 2,
       "version_minor": 0
      },
      "text/plain": [
       "Downloading shards:   0%|          | 0/4 [00:00<?, ?it/s]"
      ]
     },
     "metadata": {},
     "output_type": "display_data"
    },
    {
     "data": {
      "application/vnd.jupyter.widget-view+json": {
       "model_id": "c688d577688546e59dfadd48a7f4baf8",
       "version_major": 2,
       "version_minor": 0
      },
      "text/plain": [
       "model-00001-of-00004.safetensors:   0%|          | 0.00/4.97G [00:00<?, ?B/s]"
      ]
     },
     "metadata": {},
     "output_type": "display_data"
    },
    {
     "data": {
      "application/vnd.jupyter.widget-view+json": {
       "model_id": "8b520d47a6dd42e9b8fe47085139feb2",
       "version_major": 2,
       "version_minor": 0
      },
      "text/plain": [
       "model-00002-of-00004.safetensors:   0%|          | 0.00/4.99G [00:00<?, ?B/s]"
      ]
     },
     "metadata": {},
     "output_type": "display_data"
    },
    {
     "data": {
      "application/vnd.jupyter.widget-view+json": {
       "model_id": "3afb1b69c7d146d1a9984b031cfa6762",
       "version_major": 2,
       "version_minor": 0
      },
      "text/plain": [
       "model-00003-of-00004.safetensors:   0%|          | 0.00/4.93G [00:00<?, ?B/s]"
      ]
     },
     "metadata": {},
     "output_type": "display_data"
    },
    {
     "data": {
      "application/vnd.jupyter.widget-view+json": {
       "model_id": "3b0f4c7676e548478f76f58ce216f47e",
       "version_major": 2,
       "version_minor": 0
      },
      "text/plain": [
       "model-00004-of-00004.safetensors:   0%|          | 0.00/1.69G [00:00<?, ?B/s]"
      ]
     },
     "metadata": {},
     "output_type": "display_data"
    },
    {
     "name": "stderr",
     "output_type": "stream",
     "text": [
      "`Qwen2VLRotaryEmbedding` can now be fully parameterized by passing the model config through the `config` argument. All other arguments will be removed in v4.46\n"
     ]
    },
    {
     "data": {
      "application/vnd.jupyter.widget-view+json": {
       "model_id": "e2461f4f38524554a9047c6e236febd1",
       "version_major": 2,
       "version_minor": 0
      },
      "text/plain": [
       "Loading checkpoint shards:   0%|          | 0/4 [00:00<?, ?it/s]"
      ]
     },
     "metadata": {},
     "output_type": "display_data"
    },
    {
     "data": {
      "application/vnd.jupyter.widget-view+json": {
       "model_id": "4070a250a5914437aacda5ba7dcd3b1a",
       "version_major": 2,
       "version_minor": 0
      },
      "text/plain": [
       "generation_config.json:   0%|          | 0.00/215 [00:00<?, ?B/s]"
      ]
     },
     "metadata": {},
     "output_type": "display_data"
    },
    {
     "data": {
      "application/vnd.jupyter.widget-view+json": {
       "model_id": "185eb45655bf415c9470906731f063cd",
       "version_major": 2,
       "version_minor": 0
      },
      "text/plain": [
       "preprocessor_config.json:   0%|          | 0.00/567 [00:00<?, ?B/s]"
      ]
     },
     "metadata": {},
     "output_type": "display_data"
    },
    {
     "data": {
      "application/vnd.jupyter.widget-view+json": {
       "model_id": "9e4624008e614a738f4c9e5e11eb52fe",
       "version_major": 2,
       "version_minor": 0
      },
      "text/plain": [
       "tokenizer_config.json:   0%|          | 0.00/4.30k [00:00<?, ?B/s]"
      ]
     },
     "metadata": {},
     "output_type": "display_data"
    },
    {
     "data": {
      "application/vnd.jupyter.widget-view+json": {
       "model_id": "262cb3bee84443639f1a0a8078d58b6f",
       "version_major": 2,
       "version_minor": 0
      },
      "text/plain": [
       "vocab.json:   0%|          | 0.00/2.78M [00:00<?, ?B/s]"
      ]
     },
     "metadata": {},
     "output_type": "display_data"
    },
    {
     "data": {
      "application/vnd.jupyter.widget-view+json": {
       "model_id": "0cd6c69210b84af98bcd984676a0509e",
       "version_major": 2,
       "version_minor": 0
      },
      "text/plain": [
       "merges.txt:   0%|          | 0.00/1.67M [00:00<?, ?B/s]"
      ]
     },
     "metadata": {},
     "output_type": "display_data"
    },
    {
     "data": {
      "application/vnd.jupyter.widget-view+json": {
       "model_id": "2de05677fae5417d9dcebba020da08c8",
       "version_major": 2,
       "version_minor": 0
      },
      "text/plain": [
       "tokenizer.json:   0%|          | 0.00/11.4M [00:00<?, ?B/s]"
      ]
     },
     "metadata": {},
     "output_type": "display_data"
    },
    {
     "data": {
      "application/vnd.jupyter.widget-view+json": {
       "model_id": "848cc6f92dd848c282d5c574eb5ee058",
       "version_major": 2,
       "version_minor": 0
      },
      "text/plain": [
       "added_tokens.json:   0%|          | 0.00/392 [00:00<?, ?B/s]"
      ]
     },
     "metadata": {},
     "output_type": "display_data"
    },
    {
     "data": {
      "application/vnd.jupyter.widget-view+json": {
       "model_id": "9e675cb4daad453a82d3a9755af47604",
       "version_major": 2,
       "version_minor": 0
      },
      "text/plain": [
       "special_tokens_map.json:   0%|          | 0.00/613 [00:00<?, ?B/s]"
      ]
     },
     "metadata": {},
     "output_type": "display_data"
    },
    {
     "data": {
      "application/vnd.jupyter.widget-view+json": {
       "model_id": "ea736a8af2ec4d9fae6f057c58a75008",
       "version_major": 2,
       "version_minor": 0
      },
      "text/plain": [
       "chat_template.json:   0%|          | 0.00/1.05k [00:00<?, ?B/s]"
      ]
     },
     "metadata": {},
     "output_type": "display_data"
    },
    {
     "name": "stdout",
     "output_type": "stream",
     "text": [
      "['พระบรมมหาราชวัง, กรุงเทพฯ, ประเทศไทย']\n"
     ]
    }
   ],
   "source": [
    "from PIL import Image\n",
    "import requests\n",
    "from transformers import Qwen2VLForConditionalGeneration, AutoProcessor\n",
    "\n",
    "model_name = \"scb10x/typhoon2-qwen2vl-7b-vision-instruct\"\n",
    "\n",
    "model = Qwen2VLForConditionalGeneration.from_pretrained(\n",
    "    model_name, torch_dtype=\"auto\", device_map=\"auto\"\n",
    ")\n",
    "processor = AutoProcessor.from_pretrained(model_name)\n",
    "\n",
    "# Image\n",
    "url = \"https://cdn.pixabay.com/photo/2023/05/16/09/15/bangkok-7997046_1280.jpg\"\n",
    "image = Image.open(requests.get(url, stream=True).raw)\n",
    "\n",
    "conversation = [\n",
    "    {\n",
    "        \"role\": \"user\",\n",
    "        \"content\": [\n",
    "            {\n",
    "                \"type\": \"image\",\n",
    "            },\n",
    "            {\"type\": \"text\", \"text\": \"ระบุชื่อสถานที่และประเทศของภาพนี้เป็นภาษาไทย\"},\n",
    "        ],\n",
    "    }\n",
    "]\n",
    "\n",
    "\n",
    "# Preprocess the inputs\n",
    "text_prompt = processor.apply_chat_template(conversation, add_generation_prompt=True)\n",
    "\n",
    "inputs = processor(\n",
    "    text=[text_prompt], images=[image], padding=True, return_tensors=\"pt\"\n",
    ")\n",
    "inputs = inputs.to(\"cuda\")\n",
    "\n",
    "output_ids = model.generate(**inputs, max_new_tokens=128)\n",
    "generated_ids = [\n",
    "    output_ids[len(input_ids) :]\n",
    "    for input_ids, output_ids in zip(inputs.input_ids, output_ids)\n",
    "]\n",
    "output_text = processor.batch_decode(\n",
    "    generated_ids, skip_special_tokens=True, clean_up_tokenization_spaces=True\n",
    ")\n",
    "print(output_text)\n",
    "# ['พระบรมมหาราชวัง, กรุงเทพฯ, ประเทศไทย']\n"
   ]
  },
  {
   "cell_type": "code",
   "execution_count": 3,
   "id": "f4b85ef1-a679-47b1-91c9-66e8776cd816",
   "metadata": {},
   "outputs": [
    {
     "name": "stderr",
     "output_type": "stream",
     "text": [
      "huggingface/tokenizers: The current process just got forked, after parallelism has already been used. Disabling parallelism to avoid deadlocks...\n",
      "To disable this warning, you can either:\n",
      "\t- Avoid using `tokenizers` before the fork if possible\n",
      "\t- Explicitly set the environment variable TOKENIZERS_PARALLELISM=(true | false)\n"
     ]
    },
    {
     "name": "stdout",
     "output_type": "stream",
     "text": [
      "Downloading image-processing-thai-language-image-captioning.zip to /workspace\n",
      " 99%|██████████████████████████████████████▊| 1.74G/1.75G [00:10<00:00, 179MB/s]\n",
      "100%|███████████████████████████████████████| 1.75G/1.75G [00:10<00:00, 178MB/s]\n"
     ]
    }
   ],
   "source": [
    "!kaggle competitions download -c image-processing-thai-language-image-captioning"
   ]
  },
  {
   "cell_type": "code",
   "execution_count": null,
   "id": "c557fdb4-84ff-4717-ae2d-be582e8be6fd",
   "metadata": {},
   "outputs": [],
   "source": [
    "!unzip image-processing-thai-language-image-captioning.zip"
   ]
  },
  {
   "cell_type": "code",
   "execution_count": 6,
   "id": "6bfdef7b-b5f6-4fa8-862d-24317621f7a0",
   "metadata": {},
   "outputs": [],
   "source": [
    "# from datasets import load_dataset\n",
    "import numpy as np\n",
    "from PIL import Image\n",
    "# # dataset = load_dataset(\"unsloth/LaTeX_OCR\", split = \"train\")\n",
    "# dataset = load_dataset(\"saksornr/coco_caption-thai-ipu24-train-sample10k\", split = \"train\")\n",
    "# dataset = dataset.select(range(0, 1000))\n",
    "def load_image(image_path):\n",
    "    \"\"\"\n",
    "    Load an image from the given path and return it as a PIL Image.\n",
    "    \n",
    "    Args:\n",
    "        image_path (str): Path to the image file.\n",
    "        \n",
    "    Returns:\n",
    "        Image: PIL Image object.\n",
    "    \"\"\"\n",
    "    try:\n",
    "        return Image.open(image_path).convert(\"RGB\")\n",
    "    except Exception as e:\n",
    "        # print(f\"Error loading image from {image_path}: {e}\")\n",
    "        return None"
   ]
  },
  {
   "cell_type": "code",
   "execution_count": 7,
   "id": "33949450-2e1c-4648-9eef-398e8aa9ee7f",
   "metadata": {},
   "outputs": [],
   "source": [
    "import pandas as pd\n",
    "df1 = pd.read_csv(\"sample_submission.csv\")"
   ]
  },
  {
   "cell_type": "code",
   "execution_count": 8,
   "id": "74ba4736-90ae-4f52-8d28-8c5a143e937f",
   "metadata": {},
   "outputs": [
    {
     "data": {
      "text/html": [
       "<div>\n",
       "<style scoped>\n",
       "    .dataframe tbody tr th:only-of-type {\n",
       "        vertical-align: middle;\n",
       "    }\n",
       "\n",
       "    .dataframe tbody tr th {\n",
       "        vertical-align: top;\n",
       "    }\n",
       "\n",
       "    .dataframe thead th {\n",
       "        text-align: right;\n",
       "    }\n",
       "</style>\n",
       "<table border=\"1\" class=\"dataframe\">\n",
       "  <thead>\n",
       "    <tr style=\"text-align: right;\">\n",
       "      <th></th>\n",
       "      <th>image_id</th>\n",
       "      <th>caption</th>\n",
       "    </tr>\n",
       "  </thead>\n",
       "  <tbody>\n",
       "    <tr>\n",
       "      <th>0</th>\n",
       "      <td>1354</td>\n",
       "      <td>ภาพถ่ายระยะใกล้ของวัตถุทรงกลมสีขาวที่มีคราบสีด...</td>\n",
       "    </tr>\n",
       "    <tr>\n",
       "      <th>1</th>\n",
       "      <td>1413</td>\n",
       "      <td>นกตัวหนึ่งที่กําลังเกาะอยู่บนกิ่งไม้อันหนึ่งที...</td>\n",
       "    </tr>\n",
       "    <tr>\n",
       "      <th>2</th>\n",
       "      <td>1802</td>\n",
       "      <td>บ้านที่อยู่ติดกับบริเวณริมชายหาดทะเลและมีต้นไม...</td>\n",
       "    </tr>\n",
       "    <tr>\n",
       "      <th>3</th>\n",
       "      <td>1243</td>\n",
       "      <td>NaN</td>\n",
       "    </tr>\n",
       "    <tr>\n",
       "      <th>4</th>\n",
       "      <td>693</td>\n",
       "      <td>NaN</td>\n",
       "    </tr>\n",
       "  </tbody>\n",
       "</table>\n",
       "</div>"
      ],
      "text/plain": [
       "   image_id                                            caption\n",
       "0      1354  ภาพถ่ายระยะใกล้ของวัตถุทรงกลมสีขาวที่มีคราบสีด...\n",
       "1      1413  นกตัวหนึ่งที่กําลังเกาะอยู่บนกิ่งไม้อันหนึ่งที...\n",
       "2      1802  บ้านที่อยู่ติดกับบริเวณริมชายหาดทะเลและมีต้นไม...\n",
       "3      1243                                                NaN\n",
       "4       693                                                NaN"
      ]
     },
     "execution_count": 8,
     "metadata": {},
     "output_type": "execute_result"
    }
   ],
   "source": [
    "df1.head()"
   ]
  },
  {
   "cell_type": "code",
   "execution_count": 108,
   "id": "b3092719-a1ab-4898-b054-3e44ec8f6f97",
   "metadata": {},
   "outputs": [
    {
     "name": "stdout",
     "output_type": "stream",
     "text": [
      "['ภาพแสดงสิ่งมีชีวิตที่มีลักษณะคล้ายหัวใจและมีเส้นใยขาวกระจายอยู่บนพื้นผิวที่ดูเหมือนเป็นดินหรือทราย']\n"
     ]
    },
    {
     "data": {
      "image/jpeg": "[encoded data removed]",
      "image/png": "[encoded data removed]",
      "text/plain": [
       "<PIL.Image.Image image mode=RGB size=430x640>"
      ]
     },
     "execution_count": 108,
     "metadata": {},
     "output_type": "execute_result"
    }
   ],
   "source": [
    "image = load_image(f\"/workspace/test/test/{str(1354).zfill(5)}.jpg\")\n",
    "# instruction = \"Caption this image in Thai\"\n",
    "instruction = \"\"\"Analyze image and generate accurate, informative and culturally relevant captions in Thai.\"\"\"\n",
    "messages = [\n",
    "    {\"role\": \"user\", \"content\": [\n",
    "        {\"type\": \"image\"},\n",
    "        {\"type\": \"text\", \"text\": instruction}\n",
    "    ]}\n",
    "]\n",
    "# Preprocess the inputs\n",
    "text_prompt = processor.apply_chat_template(messages, add_generation_prompt=True)\n",
    "inputs = processor(\n",
    "    text=[text_prompt], images=[image], padding=True, return_tensors=\"pt\"\n",
    ")\n",
    "inputs = inputs.to(\"cuda\")\n",
    "\n",
    "output_ids = model.generate(**inputs, max_new_tokens=256, temperature=1.5, min_p=0.1, repetition_penalty=1.05)\n",
    "generated_ids = [\n",
    "    output_ids[len(input_ids) :]\n",
    "    for input_ids, output_ids in zip(inputs.input_ids, output_ids)\n",
    "]\n",
    "output_text = processor.batch_decode(\n",
    "    generated_ids, skip_special_tokens=True, clean_up_tokenization_spaces=True\n",
    ")\n",
    "print(output_text)\n",
    "image"
   ]
  },
  {
   "cell_type": "code",
   "execution_count": 99,
   "id": "539adf34-61e8-4003-91f1-457beeb1f460",
   "metadata": {},
   "outputs": [
    {
     "name": "stderr",
     "output_type": "stream",
     "text": [
      "/tmp/ipykernel_143/371172680.py:1: FutureWarning: Series.__getitem__ treating keys as positions is deprecated. In a future version, integer keys will always be treated as labels (consistent with DataFrame behavior). To access a value by position, use `ser.iloc[pos]`\n",
      "  df1.iloc[21][0]\n"
     ]
    },
    {
     "data": {
      "text/plain": [
       "1469"
      ]
     },
     "execution_count": 99,
     "metadata": {},
     "output_type": "execute_result"
    }
   ],
   "source": [
    "df1.iloc[21][0]"
   ]
  },
  {
   "cell_type": "code",
   "execution_count": null,
   "id": "765f997d-aeaa-4baa-9ab2-30e2107b54f8",
   "metadata": {},
   "outputs": [
    {
     "name": "stderr",
     "output_type": "stream",
     "text": [
      "  0%|          | 1/2000 [00:02<1:08:24,  2.05s/it]"
     ]
    },
    {
     "name": "stdout",
     "output_type": "stream",
     "text": [
      "ภาพแสดงสิ่งมีชีวิตที่มีลักษณะคล้ายหัวใจและมีเส้นใยขาวกระจายอยู่บนพื้นผิวที่ดูเหมือนเป็นดินหรือทราย\n"
     ]
    },
    {
     "name": "stderr",
     "output_type": "stream",
     "text": [
      "  0%|          | 2/2000 [00:03<54:30,  1.64s/it]  "
     ]
    },
    {
     "name": "stdout",
     "output_type": "stream",
     "text": [
      "ภาพของสัตว์ที่มีสีน้ำตาลและสีขาว กำลังนั่งอยู่บนก้อนหิน\n"
     ]
    },
    {
     "name": "stderr",
     "output_type": "stream",
     "text": [
      "  0%|          | 3/2000 [00:04<41:20,  1.24s/it]"
     ]
    },
    {
     "name": "stdout",
     "output_type": "stream",
     "text": [
      "ภูเขาที่มีต้นไม้และบ้านอยู่บนยอดเขา\n"
     ]
    },
    {
     "name": "stderr",
     "output_type": "stream",
     "text": [
      "  0%|          | 4/2000 [00:05<39:34,  1.19s/it]"
     ]
    },
    {
     "name": "stdout",
     "output_type": "stream",
     "text": [
      "ลิงตัวหนึ่งนั่งอยู่บนพื้นดินข้างกำแพงสีขาว\n"
     ]
    },
    {
     "name": "stderr",
     "output_type": "stream",
     "text": [
      "  0%|          | 5/2000 [00:06<43:55,  1.32s/it]"
     ]
    },
    {
     "name": "stdout",
     "output_type": "stream",
     "text": [
      "แมลงสองตัวที่มีลายสีสันสดใสกำลังเดินอยู่บนพื้นที่ปกคลุมด้วยใบไม้และหญ้า\n"
     ]
    },
    {
     "name": "stderr",
     "output_type": "stream",
     "text": [
      "  0%|          | 6/2000 [00:08<42:51,  1.29s/it]"
     ]
    },
    {
     "name": "stdout",
     "output_type": "stream",
     "text": [
      "ผักและผลไม้ที่ถูกหั่นเป็นชิ้นๆ วางอยู่ในจานสีดำ\n"
     ]
    },
    {
     "name": "stderr",
     "output_type": "stream",
     "text": [
      "  0%|          | 7/2000 [00:09<40:36,  1.22s/it]"
     ]
    },
    {
     "name": "stdout",
     "output_type": "stream",
     "text": [
      "ตะกร้าที่ทำจากไม้ไผ่ที่วางอยู่บนพื้นหญ้าสีเขียว\n"
     ]
    },
    {
     "name": "stderr",
     "output_type": "stream",
     "text": [
      "  0%|          | 8/2000 [00:11<52:26,  1.58s/it]"
     ]
    },
    {
     "name": "stdout",
     "output_type": "stream",
     "text": [
      "ภาพนี้แสดงให้เห็นสัตว์ที่มีขนสีดำและสีขาวกำลังยืนอยู่ในป่า ซึ่งอาจเป็นสัตว์ป่าท้องถิ่นของพื้นที่นั้น\n"
     ]
    },
    {
     "name": "stderr",
     "output_type": "stream",
     "text": [
      "  0%|          | 9/2000 [00:12<48:08,  1.45s/it]"
     ]
    },
    {
     "name": "stdout",
     "output_type": "stream",
     "text": [
      "ภาพของเห็ดที่ถูกแยกออกเป็นส่วนๆ วางอยู่บนพื้นหลังสีฟ้า\n"
     ]
    },
    {
     "name": "stderr",
     "output_type": "stream",
     "text": [
      "  0%|          | 10/2000 [00:13<45:38,  1.38s/it]"
     ]
    },
    {
     "name": "stdout",
     "output_type": "stream",
     "text": [
      "อาคารสีขาวที่มีขอบสีแดงและป้ายไม้สีน้ำตาลตั้งอยู่หน้าอาคาร\n"
     ]
    },
    {
     "name": "stderr",
     "output_type": "stream",
     "text": [
      "  1%|          | 11/2000 [00:15<44:16,  1.34s/it]"
     ]
    },
    {
     "name": "stdout",
     "output_type": "stream",
     "text": [
      "ภาพของสวนที่มีต้นไม้และพืชพรรณหลากหลาย รวมถึงต้นกล้วยและต้นปาล์ม\n"
     ]
    },
    {
     "name": "stderr",
     "output_type": "stream",
     "text": [
      "  1%|          | 12/2000 [00:16<40:31,  1.22s/it]"
     ]
    },
    {
     "name": "stdout",
     "output_type": "stream",
     "text": [
      "อาหารที่มีส่วนผสมของข้าว ผัก และเนื้อสัตว์\n"
     ]
    },
    {
     "name": "stderr",
     "output_type": "stream",
     "text": [
      "  1%|          | 13/2000 [00:17<42:32,  1.28s/it]"
     ]
    },
    {
     "name": "stdout",
     "output_type": "stream",
     "text": [
      "ผู้หญิงคนหนึ่งที่สวมผ้าโพกหัวและเสื้อสีขาวกำลังทำงานอยู่ในทุ่งนา\n"
     ]
    },
    {
     "name": "stderr",
     "output_type": "stream",
     "text": [
      "  1%|          | 14/2000 [00:18<38:40,  1.17s/it]"
     ]
    },
    {
     "name": "stdout",
     "output_type": "stream",
     "text": [
      "พระพุทธรูปสีทองที่ตั้งอยู่ในวัด\n"
     ]
    },
    {
     "name": "stderr",
     "output_type": "stream",
     "text": [
      "  1%|          | 15/2000 [00:19<34:05,  1.03s/it]"
     ]
    },
    {
     "name": "stdout",
     "output_type": "stream",
     "text": [
      "หนูที่มีขนาดประมาณ 10 เซนติเมตร\n"
     ]
    },
    {
     "name": "stderr",
     "output_type": "stream",
     "text": [
      "  1%|          | 16/2000 [00:20<37:31,  1.13s/it]"
     ]
    },
    {
     "name": "stdout",
     "output_type": "stream",
     "text": [
      "ภาพทิวทัศน์ของภูเขาที่มีต้นไม้และบ้านอยู่บนยอดเขา พร้อมกับทะเลที่สวยงาม\n"
     ]
    },
    {
     "name": "stderr",
     "output_type": "stream",
     "text": [
      "  1%|          | 17/2000 [00:21<38:34,  1.17s/it]"
     ]
    },
    {
     "name": "stdout",
     "output_type": "stream",
     "text": [
      "อาหารที่ประกอบด้วยข้าวผัดกับเนื้อสัตว์และผักต่างๆ\n"
     ]
    },
    {
     "name": "stderr",
     "output_type": "stream",
     "text": [
      "  1%|          | 18/2000 [00:22<33:21,  1.01s/it]"
     ]
    },
    {
     "name": "stdout",
     "output_type": "stream",
     "text": [
      "ปลาจำนวนมากที่อยู่ในน้ำสีเขียว\n"
     ]
    },
    {
     "name": "stderr",
     "output_type": "stream",
     "text": [
      "  1%|          | 19/2000 [00:23<35:06,  1.06s/it]"
     ]
    },
    {
     "name": "stdout",
     "output_type": "stream",
     "text": [
      "ต้นไม้ใหญ่ที่มีใบสีเขียวและมีรากที่เห็นได้ชัดเจน\n"
     ]
    },
    {
     "name": "stderr",
     "output_type": "stream",
     "text": [
      "  1%|          | 20/2000 [00:24<35:54,  1.09s/it]"
     ]
    },
    {
     "name": "stdout",
     "output_type": "stream",
     "text": [
      "ภาพทุ่งหญ้าสีเขียวที่มีภูเขาหินสีเทาอยู่ด้านหลัง\n"
     ]
    },
    {
     "name": "stderr",
     "output_type": "stream",
     "text": [
      "  1%|          | 21/2000 [00:25<37:05,  1.12s/it]"
     ]
    },
    {
     "name": "stdout",
     "output_type": "stream",
     "text": [
      "ภาพทิวทัศน์ของทะเลสาบและภูเขาที่มีต้นไม้ริมฝั่ง\n"
     ]
    },
    {
     "name": "stderr",
     "output_type": "stream",
     "text": [
      "  1%|          | 22/2000 [00:27<37:03,  1.12s/it]"
     ]
    },
    {
     "name": "stdout",
     "output_type": "stream",
     "text": [
      "ต้นไม้ในกระถางสีขาวที่มีใบสีเขียวและมีรอยสีน้ำตาล\n"
     ]
    },
    {
     "name": "stderr",
     "output_type": "stream",
     "text": [
      "  1%|          | 23/2000 [00:28<37:58,  1.15s/it]"
     ]
    },
    {
     "name": "stdout",
     "output_type": "stream",
     "text": [
      "ใบไม้สีเขียวที่มีรูปร่างคล้ายหัวใจและมีดอกไม้สีขาวอยู่บนใบ\n"
     ]
    },
    {
     "name": "stderr",
     "output_type": "stream",
     "text": [
      "  1%|          | 24/2000 [00:29<37:38,  1.14s/it]"
     ]
    },
    {
     "name": "stdout",
     "output_type": "stream",
     "text": [
      "สัตว์ที่มีเขาสีน้ำตาลกำลังกินอาหารจากภาชนะโลหะ\n"
     ]
    },
    {
     "name": "stderr",
     "output_type": "stream",
     "text": [
      "  1%|▏         | 25/2000 [00:30<32:25,  1.02it/s]"
     ]
    },
    {
     "name": "stdout",
     "output_type": "stream",
     "text": [
      "หนูที่นอนอยู่บนพื้นไม้\n"
     ]
    },
    {
     "name": "stderr",
     "output_type": "stream",
     "text": [
      "  1%|▏         | 26/2000 [00:31<42:11,  1.28s/it]"
     ]
    },
    {
     "name": "stdout",
     "output_type": "stream",
     "text": [
      "ผู้หญิงคนหนึ่งนั่งอยู่บนเก้าอี้สีแดง และมีผู้ชายคนหนึ่งที่สวมหน้ากากอนามัยกำลังให้เงินให้กับเธอ\n"
     ]
    },
    {
     "name": "stderr",
     "output_type": "stream",
     "text": [
      "  1%|▏         | 27/2000 [00:32<37:55,  1.15s/it]"
     ]
    },
    {
     "name": "stdout",
     "output_type": "stream",
     "text": [
      "ดอกไม้ที่มีลักษณะเฉพาะตัวและสีสันสดใส\n"
     ]
    },
    {
     "name": "stderr",
     "output_type": "stream",
     "text": [
      "  1%|▏         | 28/2000 [00:33<34:23,  1.05s/it]"
     ]
    },
    {
     "name": "stdout",
     "output_type": "stream",
     "text": [
      "ภูเขาที่มีต้นไม้และพืชพรรณที่หลากหลาย\n"
     ]
    },
    {
     "name": "stderr",
     "output_type": "stream",
     "text": [
      "  1%|▏         | 29/2000 [00:34<35:27,  1.08s/it]"
     ]
    },
    {
     "name": "stdout",
     "output_type": "stream",
     "text": [
      "แมลงที่มีสีน้ำตาลและสีเหลืองกำลังเดินอยู่บนพื้นดิน\n"
     ]
    },
    {
     "name": "stderr",
     "output_type": "stream",
     "text": [
      "  2%|▏         | 30/2000 [00:35<34:19,  1.05s/it]"
     ]
    },
    {
     "name": "stdout",
     "output_type": "stream",
     "text": [
      "นกที่ตายอยู่บนพื้นดินที่มีใบไม้และเศษอาหาร\n"
     ]
    },
    {
     "name": "stderr",
     "output_type": "stream",
     "text": [
      "  2%|▏         | 31/2000 [00:36<32:14,  1.02it/s]"
     ]
    },
    {
     "name": "stdout",
     "output_type": "stream",
     "text": [
      "พระธาตุสีขาวที่มีโครงเหล็กปกคลุมอยู่\n"
     ]
    },
    {
     "name": "stderr",
     "output_type": "stream",
     "text": [
      "  2%|▏         | 32/2000 [00:37<29:38,  1.11it/s]"
     ]
    },
    {
     "name": "stdout",
     "output_type": "stream",
     "text": [
      "เห็ดที่วางอยู่บนพื้นสีฟ้า\n"
     ]
    },
    {
     "name": "stderr",
     "output_type": "stream",
     "text": [
      "  2%|▏         | 33/2000 [00:38<32:19,  1.01it/s]"
     ]
    },
    {
     "name": "stdout",
     "output_type": "stream",
     "text": [
      "ภาพของสิ่งมีชีวิตที่มีสีส้มและสีดำบนพื้นดิน\n"
     ]
    },
    {
     "name": "stderr",
     "output_type": "stream",
     "text": [
      "  2%|▏         | 34/2000 [00:39<32:42,  1.00it/s]"
     ]
    },
    {
     "name": "stdout",
     "output_type": "stream",
     "text": [
      "รูปปั้นพระพุทธรูปที่มีหลายมือและหลายหัว\n"
     ]
    },
    {
     "name": "stderr",
     "output_type": "stream",
     "text": [
      "  2%|▏         | 35/2000 [00:40<33:29,  1.02s/it]"
     ]
    },
    {
     "name": "stdout",
     "output_type": "stream",
     "text": [
      "ผัดเผ็ดที่มีส่วนผสมของเส้นหมี่และผักหลากสีสัน\n"
     ]
    },
    {
     "name": "stderr",
     "output_type": "stream",
     "text": [
      "  2%|▏         | 36/2000 [00:41<36:26,  1.11s/it]"
     ]
    },
    {
     "name": "stdout",
     "output_type": "stream",
     "text": [
      "ภาพของสัตว์ที่มีลักษณะคล้ายกับงู มีสีดำและมีจุดขาวบนร่างกาย\n"
     ]
    },
    {
     "name": "stderr",
     "output_type": "stream",
     "text": [
      "  2%|▏         | 37/2000 [00:42<34:19,  1.05s/it]"
     ]
    },
    {
     "name": "stdout",
     "output_type": "stream",
     "text": [
      "พระพุทธรูปสีฟ้าที่วัดแห่งหนึ่ง\n"
     ]
    },
    {
     "name": "stderr",
     "output_type": "stream",
     "text": [
      "  2%|▏         | 38/2000 [00:43<32:14,  1.01it/s]"
     ]
    },
    {
     "name": "stdout",
     "output_type": "stream",
     "text": [
      "ผลไม้สีเขียวที่ยังไม่สุกบนต้นไม้\n"
     ]
    },
    {
     "name": "stderr",
     "output_type": "stream",
     "text": [
      "  2%|▏         | 39/2000 [00:44<30:58,  1.05it/s]"
     ]
    },
    {
     "name": "stdout",
     "output_type": "stream",
     "text": [
      "แมลงที่มีขนาดใหญ่และมีปีกสีน้ำตาล\n"
     ]
    },
    {
     "name": "stderr",
     "output_type": "stream",
     "text": [
      "  2%|▏         | 40/2000 [00:45<34:09,  1.05s/it]"
     ]
    },
    {
     "name": "stdout",
     "output_type": "stream",
     "text": [
      "ภาพของสัตว์สองตัวที่ยืนอยู่ในพื้นที่ที่มีหญ้าและต้นไม้\n"
     ]
    },
    {
     "name": "stderr",
     "output_type": "stream",
     "text": [
      "  2%|▏         | 41/2000 [00:46<33:02,  1.01s/it]"
     ]
    },
    {
     "name": "stdout",
     "output_type": "stream",
     "text": [
      "ภาพที่แสดงถึงถนนที่มีต้นไม้และคนเดินอยู่ข้างถนน\n"
     ]
    },
    {
     "name": "stderr",
     "output_type": "stream",
     "text": [
      "  2%|▏         | 42/2000 [00:48<42:00,  1.29s/it]"
     ]
    },
    {
     "name": "stdout",
     "output_type": "stream",
     "text": [
      "ดอกไม้ที่สวยงามในภาพนี้มีสีขาวและมีส่วนผสมของสีเหลือง ดอกไม้นี้มีลักษณะเฉพาะที่ทำให้มันโดดเด่นจากดอกไม้อื่นๆ\n"
     ]
    },
    {
     "name": "stderr",
     "output_type": "stream",
     "text": [
      "  2%|▏         | 43/2000 [00:50<49:01,  1.50s/it]"
     ]
    },
    {
     "name": "stdout",
     "output_type": "stream",
     "text": [
      "ภาพของสัตว์เลื้อยคลานที่มีสีน้ำตาลและสีดำ กำลังเดินอยู่บนพื้นที่เต็มไปด้วยหินและใบไม้แห้ง\n"
     ]
    },
    {
     "name": "stderr",
     "output_type": "stream",
     "text": [
      "  2%|▏         | 44/2000 [00:51<45:12,  1.39s/it]"
     ]
    },
    {
     "name": "stdout",
     "output_type": "stream",
     "text": [
      "ภาพของป่าที่มีต้นไม้และใบไม้สีน้ำตาลบนพื้นดิน\n"
     ]
    },
    {
     "name": "stderr",
     "output_type": "stream",
     "text": [
      "  2%|▏         | 45/2000 [00:52<43:08,  1.32s/it]"
     ]
    },
    {
     "name": "stdout",
     "output_type": "stream",
     "text": [
      "ภาพแสดงถึงเครื่องปั้นดินเผาที่วางอยู่บนพื้นหญ้าสีเขียว\n"
     ]
    },
    {
     "name": "stderr",
     "output_type": "stream",
     "text": [
      "  2%|▏         | 46/2000 [00:53<38:23,  1.18s/it]"
     ]
    },
    {
     "name": "stdout",
     "output_type": "stream",
     "text": [
      "แก้วชาเขียวที่มีลายศิลปะบนฟองนม\n"
     ]
    },
    {
     "name": "stderr",
     "output_type": "stream",
     "text": [
      "  2%|▏         | 47/2000 [00:54<38:38,  1.19s/it]"
     ]
    },
    {
     "name": "stdout",
     "output_type": "stream",
     "text": [
      "ผู้ชายคนหนึ่งนั่งอยู่ที่โต๊ะและใช้แล็ปท็อป\n"
     ]
    },
    {
     "name": "stderr",
     "output_type": "stream",
     "text": [
      "  2%|▏         | 48/2000 [00:57<46:43,  1.44s/it]"
     ]
    },
    {
     "name": "stdout",
     "output_type": "stream",
     "text": [
      "แมลงตัวหนึ่งที่มีสีแดงเข้มและมีปีกยาว กำลังนั่งอยู่บนพื้นที่เต็มไปด้วยหญ้าและใบไม้สีเขียว\n"
     ]
    },
    {
     "name": "stderr",
     "output_type": "stream",
     "text": [
      "  2%|▏         | 49/2000 [00:57<39:14,  1.21s/it]"
     ]
    },
    {
     "name": "stdout",
     "output_type": "stream",
     "text": [
      "ชายหาดที่มีต้นไม้และน้ำทะเล\n"
     ]
    },
    {
     "name": "stderr",
     "output_type": "stream",
     "text": [
      "  2%|▎         | 50/2000 [00:58<37:20,  1.15s/it]"
     ]
    },
    {
     "name": "stdout",
     "output_type": "stream",
     "text": [
      "ภาพถ่ายของเสือที่กำลังเดินอยู่ใกล้กับแหล่งน้ำ\n"
     ]
    },
    {
     "name": "stderr",
     "output_type": "stream",
     "text": [
      "  3%|▎         | 51/2000 [00:59<37:36,  1.16s/it]"
     ]
    },
    {
     "name": "stdout",
     "output_type": "stream",
     "text": [
      "นกสองตัวกำลังบินอยู่เหนือทะเลสาบที่มีต้นไม้และพืชสูง\n"
     ]
    },
    {
     "name": "stderr",
     "output_type": "stream",
     "text": [
      "  3%|▎         | 52/2000 [01:00<33:19,  1.03s/it]"
     ]
    },
    {
     "name": "stdout",
     "output_type": "stream",
     "text": [
      "ผลไม้ที่ห่อด้วยใบไม้สีเขียว\n"
     ]
    },
    {
     "name": "stderr",
     "output_type": "stream",
     "text": [
      "  3%|▎         | 53/2000 [01:01<33:01,  1.02s/it]"
     ]
    },
    {
     "name": "stdout",
     "output_type": "stream",
     "text": [
      "ภาพของกบสีเขียวที่กำลังนั่งอยู่บนพื้นดิน\n"
     ]
    },
    {
     "name": "stderr",
     "output_type": "stream",
     "text": [
      "  3%|▎         | 54/2000 [01:02<32:44,  1.01s/it]"
     ]
    },
    {
     "name": "stdout",
     "output_type": "stream",
     "text": [
      "เมฆสีขาวลอยอยู่เหนือกองเศษไม้สีแดงที่มีขนาดใหญ่\n"
     ]
    },
    {
     "name": "stderr",
     "output_type": "stream",
     "text": [
      "  3%|▎         | 55/2000 [01:03<34:48,  1.07s/it]"
     ]
    },
    {
     "name": "stdout",
     "output_type": "stream",
     "text": [
      "ภาพของอาคารที่มีตัวอักษรภาษาไทยและลวดลายศิลปะไทยอยู่บนเสาสีขาว\n"
     ]
    },
    {
     "name": "stderr",
     "output_type": "stream",
     "text": [
      "  3%|▎         | 56/2000 [01:04<33:02,  1.02s/it]"
     ]
    },
    {
     "name": "stdout",
     "output_type": "stream",
     "text": [
      "ภาพของสิ่งมีชีวิตที่อยู่ในรูบนไม้\n"
     ]
    },
    {
     "name": "stderr",
     "output_type": "stream",
     "text": [
      "  3%|▎         | 57/2000 [01:06<36:07,  1.12s/it]"
     ]
    },
    {
     "name": "stdout",
     "output_type": "stream",
     "text": [
      "ภาพที่แสดงให้เห็นถึงป่าที่มีต้นไม้สูงและมีนกจำนวนมากอยู่บนต้นไม้\n"
     ]
    },
    {
     "name": "stderr",
     "output_type": "stream",
     "text": [
      "  3%|▎         | 58/2000 [01:07<35:14,  1.09s/it]"
     ]
    },
    {
     "name": "stdout",
     "output_type": "stream",
     "text": [
      "อาคารหนึ่งที่มีป้ายใหญ่และธงชาติไทยอยู่ด้านบน\n"
     ]
    },
    {
     "name": "stderr",
     "output_type": "stream",
     "text": [
      "  3%|▎         | 59/2000 [01:08<41:34,  1.29s/it]"
     ]
    },
    {
     "name": "stdout",
     "output_type": "stream",
     "text": [
      "ดอกไม้ที่มีลักษณะคล้ายกับสัตว์หรือสิ่งมีชีวิตอื่นๆ ที่วางอยู่บนพื้นดิน\n"
     ]
    },
    {
     "name": "stderr",
     "output_type": "stream",
     "text": [
      "  3%|▎         | 60/2000 [01:10<41:05,  1.27s/it]"
     ]
    },
    {
     "name": "stdout",
     "output_type": "stream",
     "text": [
      "จานที่มีชามต่างๆ วางเรียงกัน มีไอศกรีมและอาหารอื่นๆ\n"
     ]
    },
    {
     "name": "stderr",
     "output_type": "stream",
     "text": [
      "  3%|▎         | 61/2000 [01:11<40:16,  1.25s/it]"
     ]
    },
    {
     "name": "stdout",
     "output_type": "stream",
     "text": [
      "ผลไม้สีเขียวที่มีสีแดงและสีเหลืองอยู่บนกิ่งไม้ในสวน\n"
     ]
    },
    {
     "name": "stderr",
     "output_type": "stream",
     "text": [
      "  3%|▎         | 62/2000 [01:13<45:46,  1.42s/it]"
     ]
    },
    {
     "name": "stdout",
     "output_type": "stream",
     "text": [
      "ผู้หญิงคนหนึ่งกำลังนั่งอยู่ที่โต๊ะไม้และมีถังสีดำที่เต็มไปด้วยสิ่งของต่างๆ\n"
     ]
    },
    {
     "name": "stderr",
     "output_type": "stream",
     "text": [
      "  3%|▎         | 63/2000 [01:14<42:43,  1.32s/it]"
     ]
    },
    {
     "name": "stdout",
     "output_type": "stream",
     "text": [
      "สะพานไม้ที่มีรั้วและต้นไม้รอบๆ ใกล้กับแม่น้ำ\n"
     ]
    },
    {
     "name": "stderr",
     "output_type": "stream",
     "text": [
      "  3%|▎         | 64/2000 [01:14<36:23,  1.13s/it]"
     ]
    },
    {
     "name": "stdout",
     "output_type": "stream",
     "text": [
      "หอยที่กำลังคลานไปบนต้นไม้\n"
     ]
    },
    {
     "name": "stderr",
     "output_type": "stream",
     "text": [
      "  3%|▎         | 65/2000 [01:15<35:19,  1.10s/it]"
     ]
    },
    {
     "name": "stdout",
     "output_type": "stream",
     "text": [
      "ภูเขาที่มีต้นไม้เขียวขจีและนกบินอยู่บนยอดเขา\n"
     ]
    },
    {
     "name": "stderr",
     "output_type": "stream",
     "text": [
      "  3%|▎         | 66/2000 [01:17<37:21,  1.16s/it]"
     ]
    },
    {
     "name": "stdout",
     "output_type": "stream",
     "text": [
      "ภาพของสัตว์ที่อยู่บนพื้นดินที่เต็มไปด้วยใบไม้และหญ้าแห้ง\n"
     ]
    },
    {
     "name": "stderr",
     "output_type": "stream",
     "text": [
      "  3%|▎         | 67/2000 [01:18<34:22,  1.07s/it]"
     ]
    },
    {
     "name": "stdout",
     "output_type": "stream",
     "text": [
      "ผู้หญิงสามคนกำลังทำงานร่วมกันในโรงงานผลิตขนม\n"
     ]
    },
    {
     "name": "stderr",
     "output_type": "stream",
     "text": [
      "  3%|▎         | 68/2000 [01:19<35:11,  1.09s/it]"
     ]
    },
    {
     "name": "stdout",
     "output_type": "stream",
     "text": [
      "นกสีน้ำตาลตัวเล็กๆ กำลังนั่งอยู่บนกิ่งไม้\n"
     ]
    },
    {
     "name": "stderr",
     "output_type": "stream",
     "text": [
      "  3%|▎         | 69/2000 [01:20<34:35,  1.08s/it]"
     ]
    },
    {
     "name": "stdout",
     "output_type": "stream",
     "text": [
      "สัตว์ที่มีเขาสีดำและหน้าผิวสีน้ำตาล\n"
     ]
    },
    {
     "name": "stderr",
     "output_type": "stream",
     "text": [
      "  4%|▎         | 70/2000 [01:21<38:10,  1.19s/it]"
     ]
    },
    {
     "name": "stdout",
     "output_type": "stream",
     "text": [
      "กะโหลกศีรษะของสัตว์ที่มีขนาดใหญ่กว่ากระดาษ A4 วางอยู่บนพื้นดิน\n"
     ]
    },
    {
     "name": "stderr",
     "output_type": "stream",
     "text": [
      "  4%|▎         | 71/2000 [01:22<38:45,  1.21s/it]"
     ]
    },
    {
     "name": "stdout",
     "output_type": "stream",
     "text": [
      "อาคารสีชมพูที่มีตัวอักษรสีน้ำเงินและสีขาวเขียนอยู่บนหลังคา\n"
     ]
    },
    {
     "name": "stderr",
     "output_type": "stream",
     "text": [
      "  4%|▎         | 72/2000 [01:24<39:06,  1.22s/it]"
     ]
    },
    {
     "name": "stdout",
     "output_type": "stream",
     "text": [
      "ผู้คนกำลังเดินข้ามแม่น้ำในป่าที่เต็มไปด้วยต้นไม้และหิน\n"
     ]
    },
    {
     "name": "stderr",
     "output_type": "stream",
     "text": [
      "  4%|▎         | 73/2000 [01:25<44:58,  1.40s/it]"
     ]
    },
    {
     "name": "stdout",
     "output_type": "stream",
     "text": [
      "ภาพแสดงถึงผ้าที่มีลวดลายแบบสี่เหลี่ยมจัตุรัส ซึ่งอาจจะเป็นผ้าปูที่นอนหรือผ้าห่ม\n"
     ]
    },
    {
     "name": "stderr",
     "output_type": "stream",
     "text": [
      "  4%|▎         | 74/2000 [01:27<49:16,  1.54s/it]"
     ]
    },
    {
     "name": "stdout",
     "output_type": "stream",
     "text": [
      "ภาพแสดงสิ่งมีชีวิตที่มีลักษณะคล้ายหิน ซึ่งอาจเป็นส่วนหนึ่งของธรรมชาติหรือสิ่งแวดล้อม\n"
     ]
    },
    {
     "name": "stderr",
     "output_type": "stream",
     "text": [
      "  4%|▍         | 75/2000 [01:28<45:49,  1.43s/it]"
     ]
    },
    {
     "name": "stdout",
     "output_type": "stream",
     "text": [
      "จิ้งหรีดสีน้ำตาลและสีดำที่กำลังยืนอยู่บนก้อนหิน\n"
     ]
    },
    {
     "name": "stderr",
     "output_type": "stream",
     "text": [
      "  4%|▍         | 76/2000 [01:29<37:41,  1.18s/it]"
     ]
    },
    {
     "name": "stdout",
     "output_type": "stream",
     "text": [
      "ภาพของงูที่นอนอยู่บนใบไม้\n"
     ]
    },
    {
     "name": "stderr",
     "output_type": "stream",
     "text": [
      "  4%|▍         | 77/2000 [01:30<33:32,  1.05s/it]"
     ]
    },
    {
     "name": "stdout",
     "output_type": "stream",
     "text": [
      "อาหารที่ประกอบด้วยข้าวผัดและไข่ดาว\n"
     ]
    },
    {
     "name": "stderr",
     "output_type": "stream",
     "text": [
      "  4%|▍         | 78/2000 [01:31<30:52,  1.04it/s]"
     ]
    },
    {
     "name": "stdout",
     "output_type": "stream",
     "text": [
      "ลูกปัดที่มีเมล็ดพืชอยู่ภายใน\n"
     ]
    },
    {
     "name": "stderr",
     "output_type": "stream",
     "text": [
      "  4%|▍         | 79/2000 [01:31<27:53,  1.15it/s]"
     ]
    },
    {
     "name": "stdout",
     "output_type": "stream",
     "text": [
      "ภาพใต้น้ำที่มีพืชและหิน\n"
     ]
    },
    {
     "name": "stderr",
     "output_type": "stream",
     "text": [
      "  4%|▍         | 80/2000 [01:33<31:43,  1.01it/s]"
     ]
    },
    {
     "name": "stdout",
     "output_type": "stream",
     "text": [
      "กล่องของขวัญที่มีลูกอมและขนมหวานต่างๆ วางเรียงกันอยู่บนโต๊ะ\n"
     ]
    },
    {
     "name": "stderr",
     "output_type": "stream",
     "text": [
      "  4%|▍         | 81/2000 [01:33<29:20,  1.09it/s]"
     ]
    },
    {
     "name": "stdout",
     "output_type": "stream",
     "text": [
      "ดอกไม้สีขาวที่มีใบเขียวอยู่ในสวน\n"
     ]
    },
    {
     "name": "stderr",
     "output_type": "stream",
     "text": [
      "  4%|▍         | 82/2000 [01:35<33:45,  1.06s/it]"
     ]
    },
    {
     "name": "stdout",
     "output_type": "stream",
     "text": [
      "รูปปั้นพระพุทธรูปสีดำสององค์และรูปปั้นคนยืนอยู่หน้า\n"
     ]
    },
    {
     "name": "stderr",
     "output_type": "stream",
     "text": [
      "  4%|▍         | 83/2000 [01:37<42:15,  1.32s/it]"
     ]
    },
    {
     "name": "stdout",
     "output_type": "stream",
     "text": [
      "ภาพของสัตว์ที่มีลักษณะคล้ายกับหนอนที่กำลังเดินอยู่บนพื้นดินที่เต็มไปด้วยใบไม้และเศษไม้\n"
     ]
    },
    {
     "name": "stderr",
     "output_type": "stream",
     "text": [
      "  4%|▍         | 84/2000 [01:37<37:29,  1.17s/it]"
     ]
    },
    {
     "name": "stdout",
     "output_type": "stream",
     "text": [
      "นักแสดงในชุดประจำชาติไทยกำลังแสดงบนเวที\n"
     ]
    },
    {
     "name": "stderr",
     "output_type": "stream",
     "text": [
      "  4%|▍         | 85/2000 [01:38<35:42,  1.12s/it]"
     ]
    },
    {
     "name": "stdout",
     "output_type": "stream",
     "text": [
      "ปลาที่ถูกตัดหัวออกและวางอยู่บนพื้นสีม่วง\n"
     ]
    },
    {
     "name": "stderr",
     "output_type": "stream",
     "text": [
      "  4%|▍         | 86/2000 [01:39<33:16,  1.04s/it]"
     ]
    },
    {
     "name": "stdout",
     "output_type": "stream",
     "text": [
      "ผักและผลไม้ที่จัดเรียงอย่างสวยงามบนโต๊ะ\n"
     ]
    },
    {
     "name": "stderr",
     "output_type": "stream",
     "text": [
      "  4%|▍         | 87/2000 [01:40<35:01,  1.10s/it]"
     ]
    },
    {
     "name": "stdout",
     "output_type": "stream",
     "text": [
      "ภาพแสดงโครงกระดูกของสัตว์ที่ถูกค้นพบในสถานที่ที่มีหินและดิน\n"
     ]
    },
    {
     "name": "stderr",
     "output_type": "stream",
     "text": [
      "  4%|▍         | 88/2000 [01:41<33:03,  1.04s/it]"
     ]
    },
    {
     "name": "stdout",
     "output_type": "stream",
     "text": [
      "แมลงที่มีสีน้ำตาลยาวอยู่บนพื้นดิน\n"
     ]
    },
    {
     "name": "stderr",
     "output_type": "stream",
     "text": [
      "  4%|▍         | 89/2000 [01:42<32:36,  1.02s/it]"
     ]
    },
    {
     "name": "stdout",
     "output_type": "stream",
     "text": [
      "เด็กๆ กลุ่มหนึ่งนั่งอยู่บนพื้นไม้\n"
     ]
    },
    {
     "name": "stderr",
     "output_type": "stream",
     "text": [
      "  4%|▍         | 90/2000 [01:44<36:23,  1.14s/it]"
     ]
    },
    {
     "name": "stdout",
     "output_type": "stream",
     "text": [
      "สะพานไม้ที่มีราวบันไดทั้งสองข้าง ล้อมรอบด้วยต้นไม้และพุ่มไม้\n"
     ]
    },
    {
     "name": "stderr",
     "output_type": "stream",
     "text": [
      "  5%|▍         | 91/2000 [01:44<31:45,  1.00it/s]"
     ]
    },
    {
     "name": "stdout",
     "output_type": "stream",
     "text": [
      "กล้วยหิน (Musa sapientum Linn.)\n"
     ]
    },
    {
     "name": "stderr",
     "output_type": "stream",
     "text": [
      "  5%|▍         | 92/2000 [01:46<35:17,  1.11s/it]"
     ]
    },
    {
     "name": "stdout",
     "output_type": "stream",
     "text": [
      "ภาพที่แสดงถึงพื้นที่ที่มีดินและหญ้าแห้ง พร้อมด้วยต้นไม้ในระยะไกล\n"
     ]
    },
    {
     "name": "stderr",
     "output_type": "stream",
     "text": [
      "  5%|▍         | 93/2000 [01:47<34:07,  1.07s/it]"
     ]
    },
    {
     "name": "stdout",
     "output_type": "stream",
     "text": [
      "ไข่ไก่ในตะกร้าสีน้ำเงินสองใบวางอยู่บนโต๊ะ\n"
     ]
    },
    {
     "name": "stderr",
     "output_type": "stream",
     "text": [
      "  5%|▍         | 94/2000 [01:48<38:03,  1.20s/it]"
     ]
    },
    {
     "name": "stdout",
     "output_type": "stream",
     "text": [
      "ภาพของต้นไม้ที่มีใบสีเขียวและมีดอกไม้สีขาวที่กำลังบานอยู่บนกิ่งไม้\n"
     ]
    },
    {
     "name": "stderr",
     "output_type": "stream",
     "text": [
      "  5%|▍         | 95/2000 [01:50<39:10,  1.23s/it]"
     ]
    },
    {
     "name": "stdout",
     "output_type": "stream",
     "text": [
      "ภาพของพืชที่มีใบสีเขียวและต้นไม้ที่มีใบสีเขียวอยู่ในสนามหญ้า\n"
     ]
    },
    {
     "name": "stderr",
     "output_type": "stream",
     "text": [
      "  5%|▍         | 96/2000 [01:51<42:22,  1.34s/it]"
     ]
    },
    {
     "name": "stdout",
     "output_type": "stream",
     "text": [
      "ภาพนี้แสดงให้เห็นคลื่นทะเลที่กำลังพัดลงบนชายหาดทราย คลื่นมีฟองสบู่และมีความชื้น\n"
     ]
    },
    {
     "name": "stderr",
     "output_type": "stream",
     "text": [
      "  5%|▍         | 97/2000 [01:52<36:58,  1.17s/it]"
     ]
    },
    {
     "name": "stdout",
     "output_type": "stream",
     "text": [
      "กระรอกกำลังเดินอยู่บนก้อนไม้ในป่า\n"
     ]
    },
    {
     "name": "stderr",
     "output_type": "stream",
     "text": [
      "  5%|▍         | 98/2000 [01:53<36:17,  1.15s/it]"
     ]
    },
    {
     "name": "stdout",
     "output_type": "stream",
     "text": [
      "แมลงที่มีสีส้มและน้ำตาลกำลังนั่งอยู่บนใบไม้\n"
     ]
    },
    {
     "name": "stderr",
     "output_type": "stream",
     "text": [
      "  5%|▍         | 99/2000 [01:54<34:23,  1.09s/it]"
     ]
    },
    {
     "name": "stdout",
     "output_type": "stream",
     "text": [
      "รูปปั้นสัตว์ที่วางอยู่บนพื้น\n"
     ]
    },
    {
     "name": "stderr",
     "output_type": "stream",
     "text": [
      "  5%|▌         | 100/2000 [01:55<34:47,  1.10s/it]"
     ]
    },
    {
     "name": "stdout",
     "output_type": "stream",
     "text": [
      "อาหารไทยที่มีเนื้อสัตว์และผักในน้ำซุปสีเหลือง\n"
     ]
    },
    {
     "name": "stderr",
     "output_type": "stream",
     "text": [
      "  5%|▌         | 101/2000 [01:56<33:34,  1.06s/it]"
     ]
    },
    {
     "name": "stdout",
     "output_type": "stream",
     "text": [
      "ผู้ชายคนหนึ่งที่วัดความสูงของต้นไม้ในสนามหญ้า\n"
     ]
    },
    {
     "name": "stderr",
     "output_type": "stream",
     "text": [
      "  5%|▌         | 102/2000 [01:57<35:31,  1.12s/it]"
     ]
    },
    {
     "name": "stdout",
     "output_type": "stream",
     "text": [
      "ผลไม้และพืชที่มีใบสีเขียวและสีน้ำตาลวางอยู่บนโต๊ะไม้\n"
     ]
    },
    {
     "name": "stderr",
     "output_type": "stream",
     "text": [
      "  5%|▌         | 103/2000 [01:58<32:18,  1.02s/it]"
     ]
    },
    {
     "name": "stdout",
     "output_type": "stream",
     "text": [
      "รูปปั้นสัตว์ที่ทำจากไม้\n"
     ]
    },
    {
     "name": "stderr",
     "output_type": "stream",
     "text": [
      "  5%|▌         | 104/2000 [01:59<31:09,  1.01it/s]"
     ]
    },
    {
     "name": "stdout",
     "output_type": "stream",
     "text": [
      "หินสีน้ำตาลวางอยู่บนพื้นหญ้าสีเขียว\n"
     ]
    },
    {
     "name": "stderr",
     "output_type": "stream",
     "text": [
      "  5%|▌         | 105/2000 [02:01<35:51,  1.14s/it]"
     ]
    },
    {
     "name": "stdout",
     "output_type": "stream",
     "text": [
      "เก้าอี้ไม้ที่มีพื้นที่นั่งเป็นสีน้ำตาลและมีแผ่นไม้ด้านหลัง\n"
     ]
    },
    {
     "name": "stderr",
     "output_type": "stream",
     "text": [
      "  5%|▌         | 106/2000 [02:01<32:27,  1.03s/it]"
     ]
    },
    {
     "name": "stdout",
     "output_type": "stream",
     "text": [
      "หินที่มีลักษณะคล้ายปลาบนพื้นดิน\n"
     ]
    },
    {
     "name": "stderr",
     "output_type": "stream",
     "text": [
      "  5%|▌         | 107/2000 [02:03<34:29,  1.09s/it]"
     ]
    },
    {
     "name": "stdout",
     "output_type": "stream",
     "text": [
      "ภาพนี้แสดงให้เห็นทะเลสาบที่มีผืนน้ำที่สงบและมีต้นไม้เป็นฉากหลัง\n"
     ]
    },
    {
     "name": "stderr",
     "output_type": "stream",
     "text": [
      "  5%|▌         | 108/2000 [02:04<37:35,  1.19s/it]"
     ]
    },
    {
     "name": "stdout",
     "output_type": "stream",
     "text": [
      "ใบไม้ที่มีสิ่งสกปรกและสิ่งมีชีวิตอื่นๆ อยู่บนพื้น\n"
     ]
    },
    {
     "name": "stderr",
     "output_type": "stream",
     "text": [
      "  5%|▌         | 109/2000 [02:05<31:55,  1.01s/it]"
     ]
    },
    {
     "name": "stdout",
     "output_type": "stream",
     "text": [
      "ปลาที่วางอยู่บนน้ำแข็ง\n"
     ]
    },
    {
     "name": "stderr",
     "output_type": "stream",
     "text": [
      "  6%|▌         | 110/2000 [02:05<29:34,  1.07it/s]"
     ]
    },
    {
     "name": "stdout",
     "output_type": "stream",
     "text": [
      "แมลงปอที่มีลายสีม่วงบนปีก\n"
     ]
    },
    {
     "name": "stderr",
     "output_type": "stream",
     "text": [
      "  6%|▌         | 111/2000 [02:06<28:37,  1.10it/s]"
     ]
    },
    {
     "name": "stdout",
     "output_type": "stream",
     "text": [
      "อาหารเช้าที่มีไข่ดาวและไข่เจียวในจานสีขาว\n"
     ]
    },
    {
     "name": "stderr",
     "output_type": "stream",
     "text": [
      "  6%|▌         | 112/2000 [02:07<31:51,  1.01s/it]"
     ]
    },
    {
     "name": "stdout",
     "output_type": "stream",
     "text": [
      "ลูกบอลสีน้ำตาลในภาชนะแก้วทรงรูปไข่ที่แขวนอยู่บนโซ่โลหะ\n"
     ]
    },
    {
     "name": "stderr",
     "output_type": "stream",
     "text": [
      "  6%|▌         | 113/2000 [02:08<31:01,  1.01it/s]"
     ]
    },
    {
     "name": "stdout",
     "output_type": "stream",
     "text": [
      "น้ำไหลผ่านหินที่เต็มไปด้วยพืชสีเขียว\n"
     ]
    },
    {
     "name": "stderr",
     "output_type": "stream",
     "text": [
      "  6%|▌         | 114/2000 [02:10<32:37,  1.04s/it]"
     ]
    },
    {
     "name": "stdout",
     "output_type": "stream",
     "text": [
      "ภาพทิวทัศน์ของภูเขาที่มีต้นไม้และพืชพรรณที่หลากหลาย\n"
     ]
    },
    {
     "name": "stderr",
     "output_type": "stream",
     "text": [
      "  6%|▌         | 115/2000 [02:10<31:03,  1.01it/s]"
     ]
    },
    {
     "name": "stdout",
     "output_type": "stream",
     "text": [
      "ภาพวาดที่แสดงคนสองคนกำลังเล่นกีฬาด้วยไม้\n"
     ]
    },
    {
     "name": "stderr",
     "output_type": "stream",
     "text": [
      "  6%|▌         | 116/2000 [02:12<32:13,  1.03s/it]"
     ]
    },
    {
     "name": "stdout",
     "output_type": "stream",
     "text": [
      "ภาพของกบตัวเล็กๆ ที่กำลังนั่งอยู่บนใบไม้สีเขียว\n"
     ]
    },
    {
     "name": "stderr",
     "output_type": "stream",
     "text": [
      "  6%|▌         | 117/2000 [02:13<39:21,  1.25s/it]"
     ]
    },
    {
     "name": "stdout",
     "output_type": "stream",
     "text": [
      "ภาพนี้แสดงให้เห็นถึงแหล่งน้ำที่มีหินและพืชที่อยู่ใต้น้ำ พร้อมกับการสะท้อนของต้นไม้บนผิวน้ำ\n"
     ]
    },
    {
     "name": "stderr",
     "output_type": "stream",
     "text": [
      "  6%|▌         | 118/2000 [02:15<44:00,  1.40s/it]"
     ]
    },
    {
     "name": "stdout",
     "output_type": "stream",
     "text": [
      "ภาพนี้แสดงให้เห็นวิวทะเลที่มีคลื่นและภูเขาในเบื้องหลัง ดูเหมือนว่าจะเป็นวันที่มีเมฆมาก\n"
     ]
    },
    {
     "name": "stderr",
     "output_type": "stream",
     "text": [
      "  6%|▌         | 119/2000 [02:17<44:58,  1.43s/it]"
     ]
    },
    {
     "name": "stdout",
     "output_type": "stream",
     "text": [
      "ภาพของสัตว์ที่มีสีน้ำตาลและลายทางบนลำตัว กำลังยืนอยู่บนกิ่งไม้ในป่า\n"
     ]
    },
    {
     "name": "stderr",
     "output_type": "stream",
     "text": [
      "  6%|▌         | 120/2000 [02:18<40:48,  1.30s/it]"
     ]
    },
    {
     "name": "stdout",
     "output_type": "stream",
     "text": [
      "ภาพของพืชที่มีสีน้ำตาลและใบไม้สีเขียว\n"
     ]
    },
    {
     "name": "stderr",
     "output_type": "stream",
     "text": [
      "  6%|▌         | 121/2000 [02:18<36:22,  1.16s/it]"
     ]
    },
    {
     "name": "stdout",
     "output_type": "stream",
     "text": [
      "แก้วน้ำใสที่วางอยู่บนพรมสีเงิน\n"
     ]
    },
    {
     "name": "stderr",
     "output_type": "stream",
     "text": [
      "  6%|▌         | 122/2000 [02:19<32:43,  1.05s/it]"
     ]
    },
    {
     "name": "stdout",
     "output_type": "stream",
     "text": [
      "อาคารที่มีประตูสีแดงและหลังคาสีแดงและทอง\n"
     ]
    },
    {
     "name": "stderr",
     "output_type": "stream",
     "text": [
      "  6%|▌         | 123/2000 [02:21<38:17,  1.22s/it]"
     ]
    },
    {
     "name": "stdout",
     "output_type": "stream",
     "text": [
      "ภาพแสดงบันไดที่มีลวดลายสีน้ำเงินและสีขาว ซึ่งเป็นส่วนหนึ่งของสถาปัตยกรรมแบบไทย\n"
     ]
    },
    {
     "name": "stderr",
     "output_type": "stream",
     "text": [
      "  6%|▌         | 124/2000 [02:22<35:20,  1.13s/it]"
     ]
    },
    {
     "name": "stdout",
     "output_type": "stream",
     "text": [
      "ภาพของสวนกล้วยที่มีต้นกล้วยสูงและใบใหญ่\n"
     ]
    },
    {
     "name": "stderr",
     "output_type": "stream",
     "text": [
      "  6%|▋         | 125/2000 [02:23<32:47,  1.05s/it]"
     ]
    },
    {
     "name": "stdout",
     "output_type": "stream",
     "text": [
      "ภาพใต้น้ำที่มีสิ่งมีชีวิตและหิน\n"
     ]
    },
    {
     "name": "stderr",
     "output_type": "stream",
     "text": [
      "  6%|▋         | 126/2000 [02:23<30:06,  1.04it/s]"
     ]
    },
    {
     "name": "stdout",
     "output_type": "stream",
     "text": [
      "ดอกไม้สีขาวที่มีสีเหลืองอยู่ตรงกลาง\n"
     ]
    },
    {
     "name": "stderr",
     "output_type": "stream",
     "text": [
      "  6%|▋         | 127/2000 [02:24<31:17,  1.00s/it]"
     ]
    },
    {
     "name": "stdout",
     "output_type": "stream",
     "text": [
      "อาคารเก่าที่มีต้นไม้และใบไม้สีเหลืองคลุมอยู่ด้านหน้า\n"
     ]
    },
    {
     "name": "stderr",
     "output_type": "stream",
     "text": [
      "  6%|▋         | 128/2000 [02:25<28:27,  1.10it/s]"
     ]
    },
    {
     "name": "stdout",
     "output_type": "stream",
     "text": [
      "แมลงป่าที่ตายอยู่บนพื้นหญ้า\n"
     ]
    },
    {
     "name": "stderr",
     "output_type": "stream",
     "text": [
      "  6%|▋         | 129/2000 [02:27<36:53,  1.18s/it]"
     ]
    },
    {
     "name": "stdout",
     "output_type": "stream",
     "text": [
      "ชายคนหนึ่งที่สวมเสื้อสีน้ำเงินและกางเกงสีเทา ยืนอยู่ในทุ่งหญ้าและวัดความสูงของพืช\n"
     ]
    },
    {
     "name": "stderr",
     "output_type": "stream",
     "text": [
      "  6%|▋         | 130/2000 [02:28<35:21,  1.13s/it]"
     ]
    },
    {
     "name": "stdout",
     "output_type": "stream",
     "text": [
      "รูปภาพแสดงตลาดที่มีสินค้าหลากหลาย รวมถึงรองเท้าและของเล่น\n"
     ]
    },
    {
     "name": "stderr",
     "output_type": "stream",
     "text": [
      "  7%|▋         | 131/2000 [02:29<33:28,  1.07s/it]"
     ]
    },
    {
     "name": "stdout",
     "output_type": "stream",
     "text": [
      "ผู้คนสองคนนั่งอยู่บนหินและถือภาชนะพลาสติก\n"
     ]
    },
    {
     "name": "stderr",
     "output_type": "stream",
     "text": [
      "  7%|▋         | 132/2000 [02:30<33:14,  1.07s/it]"
     ]
    },
    {
     "name": "stdout",
     "output_type": "stream",
     "text": [
      "สัตว์ที่มีสีสันสดใสนั่งอยู่บนใบไม้แห้ง\n"
     ]
    },
    {
     "name": "stderr",
     "output_type": "stream",
     "text": [
      "  7%|▋         | 133/2000 [02:31<32:00,  1.03s/it]"
     ]
    },
    {
     "name": "stdout",
     "output_type": "stream",
     "text": [
      "กรรไกรไม้ที่มีด้ามยาวและปลายที่มีฟันยาว\n"
     ]
    },
    {
     "name": "stderr",
     "output_type": "stream",
     "text": [
      "  7%|▋         | 134/2000 [02:32<32:35,  1.05s/it]"
     ]
    },
    {
     "name": "stdout",
     "output_type": "stream",
     "text": [
      "ผัดมะขามป่ากับเนื้อสัตว์และผักใบเขียวในกระทะ\n"
     ]
    },
    {
     "name": "stderr",
     "output_type": "stream",
     "text": [
      "  7%|▋         | 135/2000 [02:34<40:43,  1.31s/it]"
     ]
    },
    {
     "name": "stdout",
     "output_type": "stream",
     "text": [
      "ภาพแสดงกลุ่มคนที่สวมหมวกสีน้ำเงินและเสื้อเหลืองยืนอยู่หน้ารั้วเหล็ก ด้านหลังมีอาคารสีขาวและสีเหลือง\n"
     ]
    },
    {
     "name": "stderr",
     "output_type": "stream",
     "text": [
      "  7%|▋         | 136/2000 [02:34<32:57,  1.06s/it]"
     ]
    },
    {
     "name": "stdout",
     "output_type": "stream",
     "text": [
      "น้ำตกที่สวยงามในป่า\n"
     ]
    },
    {
     "name": "stderr",
     "output_type": "stream",
     "text": [
      "  7%|▋         | 137/2000 [02:35<29:38,  1.05it/s]"
     ]
    },
    {
     "name": "stdout",
     "output_type": "stream",
     "text": [
      "จานที่มีอาหารทอดและผักสีเขียว\n"
     ]
    },
    {
     "name": "stderr",
     "output_type": "stream",
     "text": [
      "  7%|▋         | 138/2000 [02:37<34:11,  1.10s/it]"
     ]
    },
    {
     "name": "stdout",
     "output_type": "stream",
     "text": [
      "เค้กวันเกิดของอัลไนที่มีการเขียนคำว่า 'BD' และ 'ALINE' ด้วยครีม\n"
     ]
    }
   ],
   "source": [
    "import tqdm\n",
    "\n",
    "for i in tqdm.tqdm(range(len(df1))):\n",
    "    image = load_image(f\"/workspace/test/test/{str(df1.iloc[i,0]).zfill(5)}.jpg\")\n",
    "    # instruction = \"Caption this image in Thai\"\n",
    "    instruction = \"\"\"Analyze image and generate accurate, informative and culturally relevant captions in Thai.\"\"\"\n",
    "    messages = [\n",
    "        {\"role\": \"user\", \"content\": [\n",
    "            {\"type\": \"image\"},\n",
    "            {\"type\": \"text\", \"text\": instruction}\n",
    "        ]}\n",
    "    ]\n",
    "    # Preprocess the inputs\n",
    "    text_prompt = processor.apply_chat_template(messages, add_generation_prompt=True)\n",
    "    inputs = processor(\n",
    "        text=[text_prompt], images=[image], padding=True, return_tensors=\"pt\"\n",
    "    )\n",
    "    inputs = inputs.to(\"cuda\")\n",
    "    \n",
    "    output_ids = model.generate(**inputs, max_new_tokens=256, temperature=1.5, min_p=0.1, repetition_penalty=1.05)\n",
    "    generated_ids = [\n",
    "        output_ids[len(input_ids) :]\n",
    "        for input_ids, output_ids in zip(inputs.input_ids, output_ids)\n",
    "    ]\n",
    "    output_text = processor.batch_decode(\n",
    "        generated_ids, skip_special_tokens=True, clean_up_tokenization_spaces=True\n",
    "    )\n",
    "    print(output_text[0])\n",
    "    df1.iloc[i,1] = output_text[0]"
   ]
  },
  {
   "cell_type": "code",
   "execution_count": 76,
   "id": "0172b683-90ca-4120-8922-22d4965474a3",
   "metadata": {},
   "outputs": [
    {
     "name": "stderr",
     "output_type": "stream",
     "text": [
      "/tmp/ipykernel_143/502385495.py:1: FutureWarning: Series.__getitem__ treating keys as positions is deprecated. In a future version, integer keys will always be treated as labels (consistent with DataFrame behavior). To access a value by position, use `ser.iloc[pos]`\n",
      "  df1.iloc[227][0]\n"
     ]
    },
    {
     "data": {
      "text/plain": [
       "1102"
      ]
     },
     "execution_count": 76,
     "metadata": {},
     "output_type": "execute_result"
    }
   ],
   "source": [
    "df1.iloc[227][0]"
   ]
  },
  {
   "cell_type": "code",
   "execution_count": null,
   "id": "1c5c9c0c-a30c-4ef1-8a62-5bb73b923afc",
   "metadata": {},
   "outputs": [],
   "source": [
    "df1.to_csv(\"submission.csv\", index=False)"
   ]
  },
  {
   "cell_type": "code",
   "execution_count": null,
   "id": "8f9301d5-a489-4b7b-93df-980b15d36c75",
   "metadata": {},
   "outputs": [],
   "source": [
    "!kaggle competitions submit -c image-processing-thai-language-image-captioning -f submission.csv -m \"BooHoo typh2qwen\""
   ]
  }
 ],
 "metadata": {
  "kernelspec": {
   "display_name": "Python 3 (ipykernel)",
   "language": "python",
   "name": "python3"
  },
  "language_info": {
   "codemirror_mode": {
    "name": "ipython",
    "version": 3
   },
   "file_extension": ".py",
   "mimetype": "text/x-python",
   "name": "python",
   "nbconvert_exporter": "python",
   "pygments_lexer": "ipython3",
   "version": "3.11.10"
  }
 },
 "nbformat": 4,
 "nbformat_minor": 5
}
