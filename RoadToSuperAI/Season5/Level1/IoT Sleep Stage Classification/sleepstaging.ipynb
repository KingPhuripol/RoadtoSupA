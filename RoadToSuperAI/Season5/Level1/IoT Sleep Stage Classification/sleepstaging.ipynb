{
  "cells": [
    {
      "cell_type": "code",
      "execution_count": null,
      "id": "75ef0917",
      "metadata": {
        "_cell_guid": "b1076dfc-b9ad-4769-8c92-a6c4dae69d19",
        "_uuid": "8f2839f25d086af736a60e9eeb907d3b93b6e0e5",
        "execution": {
          "iopub.execute_input": "2025-02-22T16:32:28.932592Z",
          "iopub.status.busy": "2025-02-22T16:32:28.932250Z",
          "iopub.status.idle": "2025-02-22T16:33:22.139312Z",
          "shell.execute_reply": "2025-02-22T16:33:22.138015Z"
        },
        "papermill": {
          "duration": 53.215919,
          "end_time": "2025-02-22T16:33:22.141081",
          "exception": false,
          "start_time": "2025-02-22T16:32:28.925162",
          "status": "completed"
        },
        "tags": [],
        "id": "75ef0917",
        "outputId": "7f7493b1-13b9-454e-b406-7c2a909b4b83"
      },
      "outputs": [
        {
          "name": "stdout",
          "output_type": "stream",
          "text": [
            "\u001b[2K     \u001b[90m━━━━━━━━━━━━━━━━━━━━━━━━━━━━━━━━━━━━━━━━\u001b[0m \u001b[32m40.4/40.4 kB\u001b[0m \u001b[31m2.0 MB/s\u001b[0m eta \u001b[36m0:00:00\u001b[0m\r\n",
            "\u001b[2K     \u001b[90m━━━━━━━━━━━━━━━━━━━━━━━━━━━━━━━━━━━━━━━━\u001b[0m \u001b[32m43.6/43.6 kB\u001b[0m \u001b[31m3.0 MB/s\u001b[0m eta \u001b[36m0:00:00\u001b[0m\r\n",
            "\u001b[?25h  Preparing metadata (setup.py) ... \u001b[?25l\u001b[?25hdone\r\n",
            "\u001b[2K     \u001b[90m━━━━━━━━━━━━━━━━━━━━━━━━━━━━━━━━━━━━━━━━\u001b[0m \u001b[32m43.6/43.6 kB\u001b[0m \u001b[31m2.7 MB/s\u001b[0m eta \u001b[36m0:00:00\u001b[0m\r\n",
            "\u001b[?25h  Preparing metadata (setup.py) ... \u001b[?25l\u001b[?25hdone\r\n",
            "\u001b[2K     \u001b[90m━━━━━━━━━━━━━━━━━━━━━━━━━━━━━━━━━━━━━━━━\u001b[0m \u001b[32m259.5/259.5 kB\u001b[0m \u001b[31m8.5 MB/s\u001b[0m eta \u001b[36m0:00:00\u001b[0m\r\n",
            "\u001b[?25h  Preparing metadata (setup.py) ... \u001b[?25l\u001b[?25hdone\r\n",
            "\u001b[2K   \u001b[90m━━━━━━━━━━━━━━━━━━━━━━━━━━━━━━━━━━━━━━━━\u001b[0m \u001b[32m266.2/266.2 kB\u001b[0m \u001b[31m15.8 MB/s\u001b[0m eta \u001b[36m0:00:00\u001b[0m\r\n",
            "\u001b[2K   \u001b[90m━━━━━━━━━━━━━━━━━━━━━━━━━━━━━━━━━━━━━━━━\u001b[0m \u001b[32m64.1/64.1 kB\u001b[0m \u001b[31m4.2 MB/s\u001b[0m eta \u001b[36m0:00:00\u001b[0m\r\n",
            "\u001b[2K   \u001b[90m━━━━━━━━━━━━━━━━━━━━━━━━━━━━━━━━━━━━━━━━\u001b[0m \u001b[32m430.0/430.0 kB\u001b[0m \u001b[31m26.4 MB/s\u001b[0m eta \u001b[36m0:00:00\u001b[0m\r\n",
            "\u001b[2K   \u001b[90m━━━━━━━━━━━━━━━━━━━━━━━━━━━━━━━━━━━━━━━━\u001b[0m \u001b[32m352.2/352.2 kB\u001b[0m \u001b[31m22.2 MB/s\u001b[0m eta \u001b[36m0:00:00\u001b[0m\r\n",
            "\u001b[2K   \u001b[90m━━━━━━━━━━━━━━━━━━━━━━━━━━━━━━━━━━━━━━━━\u001b[0m \u001b[32m174.7/174.7 kB\u001b[0m \u001b[31m11.8 MB/s\u001b[0m eta \u001b[36m0:00:00\u001b[0m\r\n",
            "\u001b[2K   \u001b[90m━━━━━━━━━━━━━━━━━━━━━━━━━━━━━━━━━━━━━━━━\u001b[0m \u001b[32m68.2/68.2 kB\u001b[0m \u001b[31m4.7 MB/s\u001b[0m eta \u001b[36m0:00:00\u001b[0m\r\n",
            "\u001b[2K   \u001b[90m━━━━━━━━━━━━━━━━━━━━━━━━━━━━━━━━━━━━━━━━\u001b[0m \u001b[32m196.7/196.7 kB\u001b[0m \u001b[31m11.8 MB/s\u001b[0m eta \u001b[36m0:00:00\u001b[0m\r\n",
            "\u001b[2K   \u001b[90m━━━━━━━━━━━━━━━━━━━━━━━━━━━━━━━━━━━━━━━━\u001b[0m \u001b[32m71.0/71.0 kB\u001b[0m \u001b[31m5.2 MB/s\u001b[0m eta \u001b[36m0:00:00\u001b[0m\r\n",
            "\u001b[2K   \u001b[90m━━━━━━━━━━━━━━━━━━━━━━━━━━━━━━━━━━━━━━━━\u001b[0m \u001b[32m324.4/324.4 kB\u001b[0m \u001b[31m19.4 MB/s\u001b[0m eta \u001b[36m0:00:00\u001b[0m\r\n",
            "\u001b[2K   \u001b[90m━━━━━━━━━━━━━━━━━━━━━━━━━━━━━━━━━━━━━━━━\u001b[0m \u001b[32m84.0/84.0 kB\u001b[0m \u001b[31m5.4 MB/s\u001b[0m eta \u001b[36m0:00:00\u001b[0m\r\n",
            "\u001b[2K   \u001b[90m━━━━━━━━━━━━━━━━━━━━━━━━━━━━━━━━━━━━━━━━\u001b[0m \u001b[32m278.2/278.2 kB\u001b[0m \u001b[31m18.9 MB/s\u001b[0m eta \u001b[36m0:00:00\u001b[0m\r\n",
            "\u001b[2K   \u001b[90m━━━━━━━━━━━━━━━━━━━━━━━━━━━━━━━━━━━━━━━━\u001b[0m \u001b[32m1.5/1.5 MB\u001b[0m \u001b[31m41.5 MB/s\u001b[0m eta \u001b[36m0:00:00\u001b[0m\r\n",
            "\u001b[2K   \u001b[90m━━━━━━━━━━━━━━━━━━━━━━━━━━━━━━━━━━━━━━━━\u001b[0m \u001b[32m85.5/85.5 kB\u001b[0m \u001b[31m5.9 MB/s\u001b[0m eta \u001b[36m0:00:00\u001b[0m\r\n",
            "\u001b[2K   \u001b[90m━━━━━━━━━━━━━━━━━━━━━━━━━━━━━━━━━━━━━━━━\u001b[0m \u001b[32m815.2/815.2 kB\u001b[0m \u001b[31m39.4 MB/s\u001b[0m eta \u001b[36m0:00:00\u001b[0m\r\n",
            "\u001b[2K   \u001b[90m━━━━━━━━━━━━━━━━━━━━━━━━━━━━━━━━━━━━━━━━\u001b[0m \u001b[32m410.5/410.5 kB\u001b[0m \u001b[31m22.3 MB/s\u001b[0m eta \u001b[36m0:00:00\u001b[0m\r\n",
            "\u001b[2K   \u001b[90m━━━━━━━━━━━━━━━━━━━━━━━━━━━━━━━━━━━━━━━━\u001b[0m \u001b[32m1.5/1.5 MB\u001b[0m \u001b[31m50.2 MB/s\u001b[0m eta \u001b[36m0:00:00\u001b[0m\r\n",
            "\u001b[2K   \u001b[90m━━━━━━━━━━━━━━━━━━━━━━━━━━━━━━━━━━━━━━━━\u001b[0m \u001b[32m79.3/79.3 kB\u001b[0m \u001b[31m5.1 MB/s\u001b[0m eta \u001b[36m0:00:00\u001b[0m\r\n",
            "\u001b[2K   \u001b[90m━━━━━━━━━━━━━━━━━━━━━━━━━━━━━━━━━━━━━━━━\u001b[0m \u001b[32m52.7/52.7 kB\u001b[0m \u001b[31m3.0 MB/s\u001b[0m eta \u001b[36m0:00:00\u001b[0m\r\n",
            "\u001b[2K   \u001b[90m━━━━━━━━━━━━━━━━━━━━━━━━━━━━━━━━━━━━━━━━\u001b[0m \u001b[32m115.3/115.3 kB\u001b[0m \u001b[31m7.1 MB/s\u001b[0m eta \u001b[36m0:00:00\u001b[0m\r\n",
            "\u001b[2K   \u001b[90m━━━━━━━━━━━━━━━━━━━━━━━━━━━━━━━━━━━━━━━━\u001b[0m \u001b[32m66.3/66.3 MB\u001b[0m \u001b[31m24.1 MB/s\u001b[0m eta \u001b[36m0:00:00\u001b[0m\r\n",
            "\u001b[2K   \u001b[90m━━━━━━━━━━━━━━━━━━━━━━━━━━━━━━━━━━━━━━━━\u001b[0m \u001b[32m14.9/14.9 MB\u001b[0m \u001b[31m76.8 MB/s\u001b[0m eta \u001b[36m0:00:00\u001b[0m\r\n",
            "\u001b[2K   \u001b[90m━━━━━━━━━━━━━━━━━━━━━━━━━━━━━━━━━━━━━━━━\u001b[0m \u001b[32m13.3/13.3 MB\u001b[0m \u001b[31m79.8 MB/s\u001b[0m eta \u001b[36m0:00:00\u001b[0m\r\n",
            "\u001b[2K   \u001b[90m━━━━━━━━━━━━━━━━━━━━━━━━━━━━━━━━━━━━━━━━\u001b[0m \u001b[32m314.7/314.7 kB\u001b[0m \u001b[31m18.8 MB/s\u001b[0m eta \u001b[36m0:00:00\u001b[0m\r\n",
            "\u001b[2K   \u001b[90m━━━━━━━━━━━━━━━━━━━━━━━━━━━━━━━━━━━━━━━━\u001b[0m \u001b[32m2.3/2.3 MB\u001b[0m \u001b[31m69.3 MB/s\u001b[0m eta \u001b[36m0:00:00\u001b[0m\r\n",
            "\u001b[2K   \u001b[90m━━━━━━━━━━━━━━━━━━━━━━━━━━━━━━━━━━━━━━━━\u001b[0m \u001b[32m806.1/806.1 kB\u001b[0m \u001b[31m37.3 MB/s\u001b[0m eta \u001b[36m0:00:00\u001b[0m\r\n",
            "\u001b[2K   \u001b[90m━━━━━━━━━━━━━━━━━━━━━━━━━━━━━━━━━━━━━━━━\u001b[0m \u001b[32m40.3/40.3 kB\u001b[0m \u001b[31m2.5 MB/s\u001b[0m eta \u001b[36m0:00:00\u001b[0m\r\n",
            "\u001b[2K   \u001b[90m━━━━━━━━━━━━━━━━━━━━━━━━━━━━━━━━━━━━━━━━\u001b[0m \u001b[32m2.7/2.7 MB\u001b[0m \u001b[31m73.8 MB/s\u001b[0m eta \u001b[36m0:00:00\u001b[0m\r\n",
            "\u001b[2K   \u001b[90m━━━━━━━━━━━━━━━━━━━━━━━━━━━━━━━━━━━━━━━━\u001b[0m \u001b[32m101.7/101.7 kB\u001b[0m \u001b[31m7.0 MB/s\u001b[0m eta \u001b[36m0:00:00\u001b[0m\r\n",
            "\u001b[2K   \u001b[90m━━━━━━━━━━━━━━━━━━━━━━━━━━━━━━━━━━━━━━━━\u001b[0m \u001b[32m62.3/62.3 kB\u001b[0m \u001b[31m3.9 MB/s\u001b[0m eta \u001b[36m0:00:00\u001b[0m\r\n",
            "\u001b[2K   \u001b[90m━━━━━━━━━━━━━━━━━━━━━━━━━━━━━━━━━━━━━━━━\u001b[0m \u001b[32m4.3/4.3 MB\u001b[0m \u001b[31m80.3 MB/s\u001b[0m eta \u001b[36m0:00:00\u001b[0m\r\n",
            "\u001b[2K   \u001b[90m━━━━━━━━━━━━━━━━━━━━━━━━━━━━━━━━━━━━━━━━\u001b[0m \u001b[32m201.4/201.4 kB\u001b[0m \u001b[31m14.5 MB/s\u001b[0m eta \u001b[36m0:00:00\u001b[0m\r\n",
            "\u001b[2K   \u001b[90m━━━━━━━━━━━━━━━━━━━━━━━━━━━━━━━━━━━━━━━━\u001b[0m \u001b[32m8.3/8.3 MB\u001b[0m \u001b[31m78.5 MB/s\u001b[0m eta \u001b[36m0:00:00\u001b[0m\r\n",
            "\u001b[2K   \u001b[90m━━━━━━━━━━━━━━━━━━━━━━━━━━━━━━━━━━━━━━━━\u001b[0m \u001b[32m128.2/128.2 kB\u001b[0m \u001b[31m7.9 MB/s\u001b[0m eta \u001b[36m0:00:00\u001b[0m\r\n",
            "\u001b[2K   \u001b[90m━━━━━━━━━━━━━━━━━━━━━━━━━━━━━━━━━━━━━━━━\u001b[0m \u001b[32m469.0/469.0 kB\u001b[0m \u001b[31m21.1 MB/s\u001b[0m eta \u001b[36m0:00:00\u001b[0m\r\n",
            "\u001b[2K   \u001b[90m━━━━━━━━━━━━━━━━━━━━━━━━━━━━━━━━━━━━━━━━\u001b[0m \u001b[32m679.7/679.7 kB\u001b[0m \u001b[31m36.3 MB/s\u001b[0m eta \u001b[36m0:00:00\u001b[0m\r\n",
            "\u001b[2K   \u001b[90m━━━━━━━━━━━━━━━━━━━━━━━━━━━━━━━━━━━━━━━━\u001b[0m \u001b[32m135.3/135.3 kB\u001b[0m \u001b[31m8.4 MB/s\u001b[0m eta \u001b[36m0:00:00\u001b[0m\r\n",
            "\u001b[2K   \u001b[90m━━━━━━━━━━━━━━━━━━━━━━━━━━━━━━━━━━━━━━━━\u001b[0m \u001b[32m55.3/55.3 kB\u001b[0m \u001b[31m3.6 MB/s\u001b[0m eta \u001b[36m0:00:00\u001b[0m\r\n",
            "\u001b[?25h  Building wheel for nvidia-ml-py3 (setup.py) ... \u001b[?25l\u001b[?25hdone\r\n",
            "  Building wheel for seqeval (setup.py) ... \u001b[?25l\u001b[?25hdone\r\n",
            "\u001b[31mERROR: pip's dependency resolver does not currently take into account all the packages that are installed. This behaviour is the source of the following dependency conflicts.\r\n",
            "preprocessing 0.1.13 requires nltk==3.2.4, but you have nltk 3.8.1 which is incompatible.\u001b[0m\u001b[31m\r\n",
            "\u001b[0mNote: you may need to restart the kernel to use updated packages.\n"
          ]
        }
      ],
      "source": [
        "pip -q install autogluon"
      ]
    },
    {
      "cell_type": "code",
      "execution_count": null,
      "id": "92594b73",
      "metadata": {
        "execution": {
          "iopub.execute_input": "2025-02-22T16:33:22.164912Z",
          "iopub.status.busy": "2025-02-22T16:33:22.164564Z",
          "iopub.status.idle": "2025-02-22T16:33:22.169157Z",
          "shell.execute_reply": "2025-02-22T16:33:22.167935Z"
        },
        "papermill": {
          "duration": 0.019937,
          "end_time": "2025-02-22T16:33:22.170836",
          "exception": false,
          "start_time": "2025-02-22T16:33:22.150899",
          "status": "completed"
        },
        "tags": [],
        "id": "92594b73"
      },
      "outputs": [],
      "source": [
        "import os\n",
        "import glob"
      ]
    },
    {
      "cell_type": "code",
      "execution_count": null,
      "id": "596edfc3",
      "metadata": {
        "execution": {
          "iopub.execute_input": "2025-02-22T16:33:22.193302Z",
          "iopub.status.busy": "2025-02-22T16:33:22.193016Z",
          "iopub.status.idle": "2025-02-22T16:33:22.205571Z",
          "shell.execute_reply": "2025-02-22T16:33:22.204854Z"
        },
        "papermill": {
          "duration": 0.023862,
          "end_time": "2025-02-22T16:33:22.206900",
          "exception": false,
          "start_time": "2025-02-22T16:33:22.183038",
          "status": "completed"
        },
        "tags": [],
        "id": "596edfc3",
        "outputId": "4ac83780-6879-48cc-dab8-25b3bc24935f"
      },
      "outputs": [
        {
          "data": {
            "text/plain": [
              "['/kaggle/input/io-t-sleep-stage-classification-version-2/test_segment/test_segment/test001',\n",
              " '/kaggle/input/io-t-sleep-stage-classification-version-2/test_segment/test_segment/test002',\n",
              " '/kaggle/input/io-t-sleep-stage-classification-version-2/test_segment/test_segment/test003',\n",
              " '/kaggle/input/io-t-sleep-stage-classification-version-2/test_segment/test_segment/test004',\n",
              " '/kaggle/input/io-t-sleep-stage-classification-version-2/test_segment/test_segment/test005',\n",
              " '/kaggle/input/io-t-sleep-stage-classification-version-2/test_segment/test_segment/test006',\n",
              " '/kaggle/input/io-t-sleep-stage-classification-version-2/test_segment/test_segment/test007',\n",
              " '/kaggle/input/io-t-sleep-stage-classification-version-2/test_segment/test_segment/test008',\n",
              " '/kaggle/input/io-t-sleep-stage-classification-version-2/test_segment/test_segment/test009',\n",
              " '/kaggle/input/io-t-sleep-stage-classification-version-2/test_segment/test_segment/test010']"
            ]
          },
          "execution_count": 3,
          "metadata": {},
          "output_type": "execute_result"
        }
      ],
      "source": [
        "sorted(glob.glob('/kaggle/input/io-t-sleep-stage-classification-version-2/test_segment/test_segment/*'))"
      ]
    },
    {
      "cell_type": "code",
      "execution_count": null,
      "id": "f251b53d",
      "metadata": {
        "execution": {
          "iopub.execute_input": "2025-02-22T16:33:22.226238Z",
          "iopub.status.busy": "2025-02-22T16:33:22.225979Z",
          "iopub.status.idle": "2025-02-22T16:33:22.238712Z",
          "shell.execute_reply": "2025-02-22T16:33:22.237943Z"
        },
        "papermill": {
          "duration": 0.023859,
          "end_time": "2025-02-22T16:33:22.240113",
          "exception": false,
          "start_time": "2025-02-22T16:33:22.216254",
          "status": "completed"
        },
        "tags": [],
        "id": "f251b53d",
        "outputId": "a301f438-7114-4e3a-9d40-0cb1f5fa36a8"
      },
      "outputs": [
        {
          "data": {
            "text/plain": [
              "['/kaggle/input/io-t-sleep-stage-classification-version-2/train/train/train001.csv',\n",
              " '/kaggle/input/io-t-sleep-stage-classification-version-2/train/train/train002.csv',\n",
              " '/kaggle/input/io-t-sleep-stage-classification-version-2/train/train/train003.csv',\n",
              " '/kaggle/input/io-t-sleep-stage-classification-version-2/train/train/train004.csv',\n",
              " '/kaggle/input/io-t-sleep-stage-classification-version-2/train/train/train005.csv',\n",
              " '/kaggle/input/io-t-sleep-stage-classification-version-2/train/train/train006.csv',\n",
              " '/kaggle/input/io-t-sleep-stage-classification-version-2/train/train/train007.csv',\n",
              " '/kaggle/input/io-t-sleep-stage-classification-version-2/train/train/train008.csv',\n",
              " '/kaggle/input/io-t-sleep-stage-classification-version-2/train/train/train009.csv',\n",
              " '/kaggle/input/io-t-sleep-stage-classification-version-2/train/train/train010.csv',\n",
              " '/kaggle/input/io-t-sleep-stage-classification-version-2/train/train/train011.csv',\n",
              " '/kaggle/input/io-t-sleep-stage-classification-version-2/train/train/train012.csv',\n",
              " '/kaggle/input/io-t-sleep-stage-classification-version-2/train/train/train013.csv',\n",
              " '/kaggle/input/io-t-sleep-stage-classification-version-2/train/train/train014.csv',\n",
              " '/kaggle/input/io-t-sleep-stage-classification-version-2/train/train/train015.csv',\n",
              " '/kaggle/input/io-t-sleep-stage-classification-version-2/train/train/train016.csv',\n",
              " '/kaggle/input/io-t-sleep-stage-classification-version-2/train/train/train017.csv',\n",
              " '/kaggle/input/io-t-sleep-stage-classification-version-2/train/train/train018.csv',\n",
              " '/kaggle/input/io-t-sleep-stage-classification-version-2/train/train/train019.csv',\n",
              " '/kaggle/input/io-t-sleep-stage-classification-version-2/train/train/train020.csv',\n",
              " '/kaggle/input/io-t-sleep-stage-classification-version-2/train/train/train021.csv',\n",
              " '/kaggle/input/io-t-sleep-stage-classification-version-2/train/train/train022.csv',\n",
              " '/kaggle/input/io-t-sleep-stage-classification-version-2/train/train/train023.csv',\n",
              " '/kaggle/input/io-t-sleep-stage-classification-version-2/train/train/train024.csv',\n",
              " '/kaggle/input/io-t-sleep-stage-classification-version-2/train/train/train025.csv',\n",
              " '/kaggle/input/io-t-sleep-stage-classification-version-2/train/train/train026.csv',\n",
              " '/kaggle/input/io-t-sleep-stage-classification-version-2/train/train/train027.csv',\n",
              " '/kaggle/input/io-t-sleep-stage-classification-version-2/train/train/train028.csv',\n",
              " '/kaggle/input/io-t-sleep-stage-classification-version-2/train/train/train029.csv',\n",
              " '/kaggle/input/io-t-sleep-stage-classification-version-2/train/train/train030.csv',\n",
              " '/kaggle/input/io-t-sleep-stage-classification-version-2/train/train/train031.csv',\n",
              " '/kaggle/input/io-t-sleep-stage-classification-version-2/train/train/train032.csv',\n",
              " '/kaggle/input/io-t-sleep-stage-classification-version-2/train/train/train033.csv',\n",
              " '/kaggle/input/io-t-sleep-stage-classification-version-2/train/train/train034.csv',\n",
              " '/kaggle/input/io-t-sleep-stage-classification-version-2/train/train/train035.csv',\n",
              " '/kaggle/input/io-t-sleep-stage-classification-version-2/train/train/train036.csv',\n",
              " '/kaggle/input/io-t-sleep-stage-classification-version-2/train/train/train037.csv',\n",
              " '/kaggle/input/io-t-sleep-stage-classification-version-2/train/train/train038.csv',\n",
              " '/kaggle/input/io-t-sleep-stage-classification-version-2/train/train/train039.csv',\n",
              " '/kaggle/input/io-t-sleep-stage-classification-version-2/train/train/train040.csv',\n",
              " '/kaggle/input/io-t-sleep-stage-classification-version-2/train/train/train041.csv',\n",
              " '/kaggle/input/io-t-sleep-stage-classification-version-2/train/train/train042.csv',\n",
              " '/kaggle/input/io-t-sleep-stage-classification-version-2/train/train/train043.csv',\n",
              " '/kaggle/input/io-t-sleep-stage-classification-version-2/train/train/train044.csv',\n",
              " '/kaggle/input/io-t-sleep-stage-classification-version-2/train/train/train045.csv',\n",
              " '/kaggle/input/io-t-sleep-stage-classification-version-2/train/train/train046.csv',\n",
              " '/kaggle/input/io-t-sleep-stage-classification-version-2/train/train/train047.csv',\n",
              " '/kaggle/input/io-t-sleep-stage-classification-version-2/train/train/train048.csv',\n",
              " '/kaggle/input/io-t-sleep-stage-classification-version-2/train/train/train049.csv',\n",
              " '/kaggle/input/io-t-sleep-stage-classification-version-2/train/train/train050.csv',\n",
              " '/kaggle/input/io-t-sleep-stage-classification-version-2/train/train/train051.csv',\n",
              " '/kaggle/input/io-t-sleep-stage-classification-version-2/train/train/train052.csv',\n",
              " '/kaggle/input/io-t-sleep-stage-classification-version-2/train/train/train053.csv',\n",
              " '/kaggle/input/io-t-sleep-stage-classification-version-2/train/train/train054.csv',\n",
              " '/kaggle/input/io-t-sleep-stage-classification-version-2/train/train/train055.csv',\n",
              " '/kaggle/input/io-t-sleep-stage-classification-version-2/train/train/train056.csv',\n",
              " '/kaggle/input/io-t-sleep-stage-classification-version-2/train/train/train057.csv',\n",
              " '/kaggle/input/io-t-sleep-stage-classification-version-2/train/train/train058.csv',\n",
              " '/kaggle/input/io-t-sleep-stage-classification-version-2/train/train/train059.csv',\n",
              " '/kaggle/input/io-t-sleep-stage-classification-version-2/train/train/train060.csv',\n",
              " '/kaggle/input/io-t-sleep-stage-classification-version-2/train/train/train061.csv',\n",
              " '/kaggle/input/io-t-sleep-stage-classification-version-2/train/train/train062.csv',\n",
              " '/kaggle/input/io-t-sleep-stage-classification-version-2/train/train/train063.csv',\n",
              " '/kaggle/input/io-t-sleep-stage-classification-version-2/train/train/train064.csv',\n",
              " '/kaggle/input/io-t-sleep-stage-classification-version-2/train/train/train065.csv',\n",
              " '/kaggle/input/io-t-sleep-stage-classification-version-2/train/train/train066.csv',\n",
              " '/kaggle/input/io-t-sleep-stage-classification-version-2/train/train/train067.csv',\n",
              " '/kaggle/input/io-t-sleep-stage-classification-version-2/train/train/train068.csv',\n",
              " '/kaggle/input/io-t-sleep-stage-classification-version-2/train/train/train069.csv',\n",
              " '/kaggle/input/io-t-sleep-stage-classification-version-2/train/train/train070.csv',\n",
              " '/kaggle/input/io-t-sleep-stage-classification-version-2/train/train/train071.csv',\n",
              " '/kaggle/input/io-t-sleep-stage-classification-version-2/train/train/train072.csv',\n",
              " '/kaggle/input/io-t-sleep-stage-classification-version-2/train/train/train073.csv',\n",
              " '/kaggle/input/io-t-sleep-stage-classification-version-2/train/train/train074.csv',\n",
              " '/kaggle/input/io-t-sleep-stage-classification-version-2/train/train/train075.csv',\n",
              " '/kaggle/input/io-t-sleep-stage-classification-version-2/train/train/train076.csv',\n",
              " '/kaggle/input/io-t-sleep-stage-classification-version-2/train/train/train077.csv',\n",
              " '/kaggle/input/io-t-sleep-stage-classification-version-2/train/train/train078.csv',\n",
              " '/kaggle/input/io-t-sleep-stage-classification-version-2/train/train/train079.csv',\n",
              " '/kaggle/input/io-t-sleep-stage-classification-version-2/train/train/train080.csv',\n",
              " '/kaggle/input/io-t-sleep-stage-classification-version-2/train/train/train081.csv',\n",
              " '/kaggle/input/io-t-sleep-stage-classification-version-2/train/train/train082.csv',\n",
              " '/kaggle/input/io-t-sleep-stage-classification-version-2/train/train/train083.csv']"
            ]
          },
          "execution_count": 4,
          "metadata": {},
          "output_type": "execute_result"
        }
      ],
      "source": [
        "sorted(glob.glob('/kaggle/input/io-t-sleep-stage-classification-version-2/train/train/*'))"
      ]
    },
    {
      "cell_type": "code",
      "execution_count": null,
      "id": "e92afc6b",
      "metadata": {
        "execution": {
          "iopub.execute_input": "2025-02-22T16:33:22.260114Z",
          "iopub.status.busy": "2025-02-22T16:33:22.259881Z",
          "iopub.status.idle": "2025-02-22T16:33:23.040321Z",
          "shell.execute_reply": "2025-02-22T16:33:23.039506Z"
        },
        "papermill": {
          "duration": 0.792227,
          "end_time": "2025-02-22T16:33:23.042049",
          "exception": false,
          "start_time": "2025-02-22T16:33:22.249822",
          "status": "completed"
        },
        "tags": [],
        "id": "e92afc6b"
      },
      "outputs": [],
      "source": [
        "import pandas as pd"
      ]
    },
    {
      "cell_type": "code",
      "execution_count": null,
      "id": "bf28006a",
      "metadata": {
        "execution": {
          "iopub.execute_input": "2025-02-22T16:33:23.063200Z",
          "iopub.status.busy": "2025-02-22T16:33:23.062759Z",
          "iopub.status.idle": "2025-02-22T16:33:24.321987Z",
          "shell.execute_reply": "2025-02-22T16:33:24.320899Z"
        },
        "papermill": {
          "duration": 1.271494,
          "end_time": "2025-02-22T16:33:24.323765",
          "exception": false,
          "start_time": "2025-02-22T16:33:23.052271",
          "status": "completed"
        },
        "tags": [],
        "id": "bf28006a"
      },
      "outputs": [],
      "source": [
        "df_train = pd.read_csv(\"/kaggle/input/io-t-sleep-stage-classification-version-2/train/train/train001.csv\")"
      ]
    },
    {
      "cell_type": "code",
      "execution_count": null,
      "id": "68842c67",
      "metadata": {
        "execution": {
          "iopub.execute_input": "2025-02-22T16:33:24.344830Z",
          "iopub.status.busy": "2025-02-22T16:33:24.344512Z",
          "iopub.status.idle": "2025-02-22T16:33:24.487905Z",
          "shell.execute_reply": "2025-02-22T16:33:24.486856Z"
        },
        "papermill": {
          "duration": 0.155529,
          "end_time": "2025-02-22T16:33:24.489836",
          "exception": false,
          "start_time": "2025-02-22T16:33:24.334307",
          "status": "completed"
        },
        "tags": [],
        "id": "68842c67",
        "outputId": "51abf66a-d507-4b9b-850b-82e14a2e10fb"
      },
      "outputs": [
        {
          "data": {
            "text/html": [
              "<div>\n",
              "<style scoped>\n",
              "    .dataframe tbody tr th:only-of-type {\n",
              "        vertical-align: middle;\n",
              "    }\n",
              "\n",
              "    .dataframe tbody tr th {\n",
              "        vertical-align: top;\n",
              "    }\n",
              "\n",
              "    .dataframe thead th {\n",
              "        text-align: right;\n",
              "    }\n",
              "</style>\n",
              "<table border=\"1\" class=\"dataframe\">\n",
              "  <thead>\n",
              "    <tr style=\"text-align: right;\">\n",
              "      <th></th>\n",
              "      <th>BVP</th>\n",
              "      <th>ACC_X</th>\n",
              "      <th>ACC_Y</th>\n",
              "      <th>ACC_Z</th>\n",
              "      <th>TEMP</th>\n",
              "      <th>EDA</th>\n",
              "      <th>HR</th>\n",
              "      <th>IBI</th>\n",
              "    </tr>\n",
              "  </thead>\n",
              "  <tbody>\n",
              "    <tr>\n",
              "      <th>count</th>\n",
              "      <td>356640.000000</td>\n",
              "      <td>356640.000000</td>\n",
              "      <td>356640.000000</td>\n",
              "      <td>356640.000000</td>\n",
              "      <td>356640.000000</td>\n",
              "      <td>356640.000000</td>\n",
              "      <td>356640.000000</td>\n",
              "      <td>356640.000000</td>\n",
              "    </tr>\n",
              "    <tr>\n",
              "      <th>mean</th>\n",
              "      <td>0.000016</td>\n",
              "      <td>-3.901305</td>\n",
              "      <td>-32.139630</td>\n",
              "      <td>42.269558</td>\n",
              "      <td>34.131987</td>\n",
              "      <td>0.209098</td>\n",
              "      <td>67.121134</td>\n",
              "      <td>0.944133</td>\n",
              "    </tr>\n",
              "    <tr>\n",
              "      <th>std</th>\n",
              "      <td>101.889957</td>\n",
              "      <td>23.638611</td>\n",
              "      <td>21.205800</td>\n",
              "      <td>15.326281</td>\n",
              "      <td>1.133928</td>\n",
              "      <td>0.253655</td>\n",
              "      <td>8.377815</td>\n",
              "      <td>0.105345</td>\n",
              "    </tr>\n",
              "    <tr>\n",
              "      <th>min</th>\n",
              "      <td>-2006.091296</td>\n",
              "      <td>-135.908549</td>\n",
              "      <td>-106.302833</td>\n",
              "      <td>-65.013842</td>\n",
              "      <td>31.630906</td>\n",
              "      <td>0.031297</td>\n",
              "      <td>53.879315</td>\n",
              "      <td>0.481840</td>\n",
              "    </tr>\n",
              "    <tr>\n",
              "      <th>25%</th>\n",
              "      <td>-12.066538</td>\n",
              "      <td>-22.616751</td>\n",
              "      <td>-43.603443</td>\n",
              "      <td>43.456561</td>\n",
              "      <td>33.264838</td>\n",
              "      <td>0.095208</td>\n",
              "      <td>62.307563</td>\n",
              "      <td>0.880430</td>\n",
              "    </tr>\n",
              "    <tr>\n",
              "      <th>50%</th>\n",
              "      <td>0.893282</td>\n",
              "      <td>-7.074007</td>\n",
              "      <td>-34.604613</td>\n",
              "      <td>46.717237</td>\n",
              "      <td>34.312668</td>\n",
              "      <td>0.135501</td>\n",
              "      <td>64.729140</td>\n",
              "      <td>0.942215</td>\n",
              "    </tr>\n",
              "    <tr>\n",
              "      <th>75%</th>\n",
              "      <td>12.575006</td>\n",
              "      <td>10.292350</td>\n",
              "      <td>-25.709614</td>\n",
              "      <td>51.432767</td>\n",
              "      <td>35.182766</td>\n",
              "      <td>0.156236</td>\n",
              "      <td>69.170275</td>\n",
              "      <td>1.034892</td>\n",
              "    </tr>\n",
              "    <tr>\n",
              "      <th>max</th>\n",
              "      <td>1680.727458</td>\n",
              "      <td>112.919052</td>\n",
              "      <td>109.688395</td>\n",
              "      <td>127.429636</td>\n",
              "      <td>35.739757</td>\n",
              "      <td>1.679707</td>\n",
              "      <td>130.978779</td>\n",
              "      <td>1.413771</td>\n",
              "    </tr>\n",
              "  </tbody>\n",
              "</table>\n",
              "</div>"
            ],
            "text/plain": [
              "                 BVP          ACC_X          ACC_Y          ACC_Z  \\\n",
              "count  356640.000000  356640.000000  356640.000000  356640.000000   \n",
              "mean        0.000016      -3.901305     -32.139630      42.269558   \n",
              "std       101.889957      23.638611      21.205800      15.326281   \n",
              "min     -2006.091296    -135.908549    -106.302833     -65.013842   \n",
              "25%       -12.066538     -22.616751     -43.603443      43.456561   \n",
              "50%         0.893282      -7.074007     -34.604613      46.717237   \n",
              "75%        12.575006      10.292350     -25.709614      51.432767   \n",
              "max      1680.727458     112.919052     109.688395     127.429636   \n",
              "\n",
              "                TEMP            EDA             HR            IBI  \n",
              "count  356640.000000  356640.000000  356640.000000  356640.000000  \n",
              "mean       34.131987       0.209098      67.121134       0.944133  \n",
              "std         1.133928       0.253655       8.377815       0.105345  \n",
              "min        31.630906       0.031297      53.879315       0.481840  \n",
              "25%        33.264838       0.095208      62.307563       0.880430  \n",
              "50%        34.312668       0.135501      64.729140       0.942215  \n",
              "75%        35.182766       0.156236      69.170275       1.034892  \n",
              "max        35.739757       1.679707     130.978779       1.413771  "
            ]
          },
          "execution_count": 7,
          "metadata": {},
          "output_type": "execute_result"
        }
      ],
      "source": [
        "df_train.describe()"
      ]
    },
    {
      "cell_type": "code",
      "execution_count": null,
      "id": "2c49589b",
      "metadata": {
        "execution": {
          "iopub.execute_input": "2025-02-22T16:33:24.515235Z",
          "iopub.status.busy": "2025-02-22T16:33:24.514897Z",
          "iopub.status.idle": "2025-02-22T16:33:24.520071Z",
          "shell.execute_reply": "2025-02-22T16:33:24.519315Z"
        },
        "papermill": {
          "duration": 0.018519,
          "end_time": "2025-02-22T16:33:24.521604",
          "exception": false,
          "start_time": "2025-02-22T16:33:24.503085",
          "status": "completed"
        },
        "tags": [],
        "id": "2c49589b",
        "outputId": "c2522c46-4516-48a5-c5fc-629d73304f7a"
      },
      "outputs": [
        {
          "data": {
            "text/plain": [
              "743.0"
            ]
          },
          "execution_count": 8,
          "metadata": {},
          "output_type": "execute_result"
        }
      ],
      "source": [
        "len(df_train)/(16*30)"
      ]
    },
    {
      "cell_type": "code",
      "execution_count": null,
      "id": "2872326b",
      "metadata": {
        "execution": {
          "iopub.execute_input": "2025-02-22T16:33:24.542020Z",
          "iopub.status.busy": "2025-02-22T16:33:24.541720Z",
          "iopub.status.idle": "2025-02-22T16:33:24.554526Z",
          "shell.execute_reply": "2025-02-22T16:33:24.553603Z"
        },
        "papermill": {
          "duration": 0.02446,
          "end_time": "2025-02-22T16:33:24.555895",
          "exception": false,
          "start_time": "2025-02-22T16:33:24.531435",
          "status": "completed"
        },
        "tags": [],
        "id": "2872326b",
        "outputId": "e38838b7-f96b-4897-f9e8-247104b44532"
      },
      "outputs": [
        {
          "data": {
            "text/plain": [
              "480"
            ]
          },
          "execution_count": 9,
          "metadata": {},
          "output_type": "execute_result"
        }
      ],
      "source": [
        "df_test = pd.read_csv(\"/kaggle/input/io-t-sleep-stage-classification-version-2/test_segment/test_segment/test001/test001_00002.csv\")\n",
        "len(df_test)"
      ]
    },
    {
      "cell_type": "code",
      "execution_count": null,
      "id": "2d7b25c7",
      "metadata": {
        "execution": {
          "iopub.execute_input": "2025-02-22T16:33:24.596861Z",
          "iopub.status.busy": "2025-02-22T16:33:24.596559Z",
          "iopub.status.idle": "2025-02-22T16:35:14.716213Z",
          "shell.execute_reply": "2025-02-22T16:35:14.715074Z"
        },
        "papermill": {
          "duration": 110.133561,
          "end_time": "2025-02-22T16:35:14.718061",
          "exception": false,
          "start_time": "2025-02-22T16:33:24.584500",
          "status": "completed"
        },
        "tags": [],
        "id": "2d7b25c7",
        "outputId": "c4ac501f-6f54-414c-922c-e849bd0c6054"
      },
      "outputs": [
        {
          "name": "stdout",
          "output_type": "stream",
          "text": [
            "Process:  0\n",
            "Process:  1\n",
            "Process:  2\n",
            "Process:  3\n",
            "Process:  4\n",
            "Process:  5\n",
            "Process:  6\n",
            "Process:  7\n",
            "Process:  8\n",
            "Process:  9\n",
            "Process:  10\n",
            "Process:  11\n",
            "Process:  12\n",
            "Process:  13\n",
            "Process:  14\n",
            "Process:  15\n",
            "Process:  16\n",
            "Process:  17\n",
            "Process:  18\n",
            "Process:  19\n",
            "Process:  20\n",
            "Process:  21\n",
            "Process:  22\n",
            "Process:  23\n",
            "Process:  24\n",
            "Process:  25\n",
            "Process:  26\n",
            "Process:  27\n",
            "Process:  28\n",
            "Process:  29\n",
            "Process:  30\n",
            "Process:  31\n",
            "Process:  32\n",
            "Process:  33\n",
            "Process:  34\n",
            "Process:  35\n",
            "Process:  36\n",
            "Process:  37\n",
            "skip: /kaggle/input/io-t-sleep-stage-classification-version-2/train/train/train038.csv\n",
            "Process:  38\n",
            "Process:  39\n",
            "Process:  40\n",
            "Process:  41\n",
            "Process:  42\n",
            "Process:  43\n",
            "Process:  44\n",
            "Process:  45\n",
            "Process:  46\n",
            "Process:  47\n",
            "Process:  48\n",
            "Process:  49\n",
            "Process:  50\n",
            "Process:  51\n",
            "Process:  52\n",
            "Process:  53\n",
            "Process:  54\n",
            "Process:  55\n",
            "Process:  56\n",
            "Process:  57\n",
            "Process:  58\n",
            "Process:  59\n",
            "Process:  60\n",
            "Process:  61\n",
            "Process:  62\n",
            "Process:  63\n",
            "Process:  64\n",
            "Process:  65\n",
            "Process:  66\n",
            "Process:  67\n",
            "Process:  68\n",
            "Process:  69\n",
            "Process:  70\n",
            "Process:  71\n",
            "Process:  72\n",
            "Process:  73\n",
            "Process:  74\n",
            "Process:  75\n",
            "Process:  76\n",
            "Process:  77\n",
            "Process:  78\n",
            "Process:  79\n",
            "Process:  80\n",
            "Process:  81\n",
            "Process:  82\n",
            "Finish!\n"
          ]
        }
      ],
      "source": [
        "paths_train = sorted(glob.glob('/kaggle/input/io-t-sleep-stage-classification-version-2/train/train/*'))\n",
        "prepare_data = []\n",
        "count = 0\n",
        "for path in paths_train:\n",
        "    print(\"Process: \", count)\n",
        "    if count+1 in [38]:\n",
        "        print('skip:', path)\n",
        "        count = count+1\n",
        "        continue\n",
        "    df_train = pd.read_csv(path)\n",
        "    for i in range(1,int(len(df_train)/480)):\n",
        "        df_1920 = df_train.iloc[480*(i-1):480*i]\n",
        "        label = df_1920['Sleep_Stage'].iloc[0][0]\n",
        "        std_x = df_1920['ACC_X'].std()\n",
        "        std_y = df_1920['ACC_Y'].std()\n",
        "        std_z = df_1920['ACC_Z'].std()\n",
        "        std_bvp  = df_1920['BVP'].std()\n",
        "        mean_temp = df_1920['TEMP'].mean()\n",
        "        prepare_data.append([ std_x, std_y, std_z, std_bvp, mean_temp, label])\n",
        "    count = count + 1\n",
        "\n",
        "print(\"Finish!\")"
      ]
    },
    {
      "cell_type": "code",
      "execution_count": null,
      "id": "c292eeab",
      "metadata": {
        "execution": {
          "iopub.execute_input": "2025-02-22T16:35:14.748014Z",
          "iopub.status.busy": "2025-02-22T16:35:14.747686Z",
          "iopub.status.idle": "2025-02-22T16:35:14.783384Z",
          "shell.execute_reply": "2025-02-22T16:35:14.782367Z"
        },
        "papermill": {
          "duration": 0.052119,
          "end_time": "2025-02-22T16:35:14.784904",
          "exception": false,
          "start_time": "2025-02-22T16:35:14.732785",
          "status": "completed"
        },
        "tags": [],
        "id": "c292eeab"
      },
      "outputs": [],
      "source": [
        "df_train_ok = pd.DataFrame(prepare_data, columns=['std_x', 'std_y', 'std_z', 'std_bvp', 'mean_temp', 'label'])"
      ]
    },
    {
      "cell_type": "code",
      "execution_count": null,
      "id": "eac8b9d8",
      "metadata": {
        "execution": {
          "iopub.execute_input": "2025-02-22T16:35:14.843556Z",
          "iopub.status.busy": "2025-02-22T16:35:14.843204Z",
          "iopub.status.idle": "2025-02-22T16:35:14.848471Z",
          "shell.execute_reply": "2025-02-22T16:35:14.847509Z"
        },
        "papermill": {
          "duration": 0.02142,
          "end_time": "2025-02-22T16:35:14.850080",
          "exception": false,
          "start_time": "2025-02-22T16:35:14.828660",
          "status": "completed"
        },
        "tags": [],
        "id": "eac8b9d8"
      },
      "outputs": [],
      "source": [
        "paths_test = sorted(glob.glob('/kaggle/input/io-t-sleep-stage-classification-version-2/test_segment/test_segment/*'))"
      ]
    },
    {
      "cell_type": "code",
      "execution_count": null,
      "id": "9f24cba3",
      "metadata": {
        "execution": {
          "iopub.execute_input": "2025-02-22T16:35:14.879800Z",
          "iopub.status.busy": "2025-02-22T16:35:14.879437Z",
          "iopub.status.idle": "2025-02-22T16:35:14.884474Z",
          "shell.execute_reply": "2025-02-22T16:35:14.883734Z"
        },
        "papermill": {
          "duration": 0.020932,
          "end_time": "2025-02-22T16:35:14.885668",
          "exception": false,
          "start_time": "2025-02-22T16:35:14.864736",
          "status": "completed"
        },
        "tags": [],
        "id": "9f24cba3",
        "outputId": "3137531d-112b-4762-c63f-403e9246a400"
      },
      "outputs": [
        {
          "data": {
            "text/plain": [
              "['/kaggle/input/io-t-sleep-stage-classification-version-2/test_segment/test_segment/test001',\n",
              " '/kaggle/input/io-t-sleep-stage-classification-version-2/test_segment/test_segment/test002',\n",
              " '/kaggle/input/io-t-sleep-stage-classification-version-2/test_segment/test_segment/test003',\n",
              " '/kaggle/input/io-t-sleep-stage-classification-version-2/test_segment/test_segment/test004',\n",
              " '/kaggle/input/io-t-sleep-stage-classification-version-2/test_segment/test_segment/test005',\n",
              " '/kaggle/input/io-t-sleep-stage-classification-version-2/test_segment/test_segment/test006',\n",
              " '/kaggle/input/io-t-sleep-stage-classification-version-2/test_segment/test_segment/test007',\n",
              " '/kaggle/input/io-t-sleep-stage-classification-version-2/test_segment/test_segment/test008',\n",
              " '/kaggle/input/io-t-sleep-stage-classification-version-2/test_segment/test_segment/test009',\n",
              " '/kaggle/input/io-t-sleep-stage-classification-version-2/test_segment/test_segment/test010']"
            ]
          },
          "execution_count": 13,
          "metadata": {},
          "output_type": "execute_result"
        }
      ],
      "source": [
        "paths_test"
      ]
    },
    {
      "cell_type": "code",
      "execution_count": null,
      "id": "da310bca",
      "metadata": {
        "execution": {
          "iopub.execute_input": "2025-02-22T16:35:14.915217Z",
          "iopub.status.busy": "2025-02-22T16:35:14.914891Z",
          "iopub.status.idle": "2025-02-22T16:36:02.271088Z",
          "shell.execute_reply": "2025-02-22T16:36:02.270065Z"
        },
        "papermill": {
          "duration": 47.38653,
          "end_time": "2025-02-22T16:36:02.286903",
          "exception": false,
          "start_time": "2025-02-22T16:35:14.900373",
          "status": "completed"
        },
        "tags": [],
        "id": "da310bca",
        "outputId": "2e0f83fb-4d45-405a-cdbb-edf238808990"
      },
      "outputs": [
        {
          "name": "stdout",
          "output_type": "stream",
          "text": [
            "Finish\n"
          ]
        }
      ],
      "source": [
        "prepare_data_test = []\n",
        "for paths in paths_test:\n",
        "    sub_paths = os.path.join(paths, \"*\")\n",
        "    sub_paths = sorted(glob.glob(sub_paths))\n",
        "    for sub in sub_paths: # for loop to get each csv\n",
        "        sub_df_test = pd.read_csv(sub)\n",
        "        std_x = sub_df_test['ACC_X'].std()\n",
        "        std_y = sub_df_test['ACC_Y'].std()\n",
        "        std_z = sub_df_test['ACC_Z'].std()\n",
        "        std_bvp = sub_df_test['BVP'].std()\n",
        "        mean_temp = sub_df_test['TEMP'].mean()\n",
        "        prepare_data_test.append([std_x, std_y, std_z, std_bvp, mean_temp])\n",
        "print(\"Finish\")"
      ]
    },
    {
      "cell_type": "code",
      "execution_count": null,
      "id": "054540c0",
      "metadata": {
        "execution": {
          "iopub.execute_input": "2025-02-22T16:36:02.316733Z",
          "iopub.status.busy": "2025-02-22T16:36:02.316401Z",
          "iopub.status.idle": "2025-02-22T16:36:02.325783Z",
          "shell.execute_reply": "2025-02-22T16:36:02.324863Z"
        },
        "papermill": {
          "duration": 0.025323,
          "end_time": "2025-02-22T16:36:02.327152",
          "exception": false,
          "start_time": "2025-02-22T16:36:02.301829",
          "status": "completed"
        },
        "tags": [],
        "id": "054540c0",
        "outputId": "c1ab5dcb-737f-420a-d072-a9d52552517b"
      },
      "outputs": [
        {
          "data": {
            "text/plain": [
              "7010"
            ]
          },
          "execution_count": 15,
          "metadata": {},
          "output_type": "execute_result"
        }
      ],
      "source": [
        "df_test_ok = pd.DataFrame(prepare_data_test, columns=['std_x', 'std_y', 'std_z', 'std_bvp', 'mean_temp'])\n",
        "len(df_test_ok)"
      ]
    },
    {
      "cell_type": "code",
      "execution_count": null,
      "id": "7a48ccb7",
      "metadata": {
        "execution": {
          "iopub.execute_input": "2025-02-22T16:36:02.382621Z",
          "iopub.status.busy": "2025-02-22T16:36:02.382360Z",
          "iopub.status.idle": "2025-02-22T16:36:04.590430Z",
          "shell.execute_reply": "2025-02-22T16:36:04.589661Z"
        },
        "papermill": {
          "duration": 2.223758,
          "end_time": "2025-02-22T16:36:04.592159",
          "exception": false,
          "start_time": "2025-02-22T16:36:02.368401",
          "status": "completed"
        },
        "tags": [],
        "id": "7a48ccb7"
      },
      "outputs": [],
      "source": [
        "from autogluon.tabular import TabularDataset, TabularPredictor"
      ]
    },
    {
      "cell_type": "code",
      "source": [
        "save_path = 'best_model'\n",
        "hyperparameters = {\n",
        "    'CAT': [\n",
        "        {\n",
        "            'ag_args_fit': {'num_gpus': 0},\n",
        "            'iterations': 500,\n",
        "            'learning_rate': 0.05,\n",
        "            'depth': 8,\n",
        "            'l2_leaf_reg': 3,\n",
        "            'random_strength': 1,\n",
        "            'bagging_temperature': 1,\n",
        "            'border_count': 128\n",
        "        },\n",
        "        {\n",
        "            'ag_args_fit': {'num_gpus': 1},\n",
        "            'iterations': 1000,\n",
        "            'learning_rate': 0.03,\n",
        "            'depth': 10,\n",
        "            'l2_leaf_reg': 5,\n",
        "            'random_strength': 1.5,\n",
        "            'bagging_temperature': 1.5,\n",
        "            'border_count': 256,\n",
        "            'task_type': 'GPU'\n",
        "        }\n",
        "    ],\n",
        "}\n",
        "time_limit = 120\n"
      ],
      "metadata": {
        "id": "5kJEvDWGs-ld"
      },
      "id": "5kJEvDWGs-ld",
      "execution_count": null,
      "outputs": []
    },
    {
      "cell_type": "code",
      "execution_count": null,
      "id": "b0af32e0",
      "metadata": {
        "execution": {
          "iopub.execute_input": "2025-02-22T16:36:04.753712Z",
          "iopub.status.busy": "2025-02-22T16:36:04.753446Z",
          "iopub.status.idle": "2025-02-22T16:38:16.177890Z",
          "shell.execute_reply": "2025-02-22T16:38:16.176709Z"
        },
        "papermill": {
          "duration": 131.441118,
          "end_time": "2025-02-22T16:38:16.179635",
          "exception": false,
          "start_time": "2025-02-22T16:36:04.738517",
          "status": "completed"
        },
        "tags": [],
        "id": "b0af32e0",
        "outputId": "7bdc2ea4-f04e-43c1-e744-0812aa541feb"
      },
      "outputs": [
        {
          "name": "stderr",
          "output_type": "stream",
          "text": [
            "Verbosity: 2 (Standard Logging)\n",
            "=================== System Info ===================\n",
            "AutoGluon Version:  1.2\n",
            "Python Version:     3.10.12\n",
            "Operating System:   Linux\n",
            "Platform Machine:   x86_64\n",
            "Platform Version:   #1 SMP PREEMPT_DYNAMIC Sun Nov 10 10:07:59 UTC 2024\n",
            "CPU Count:          4\n",
            "Memory Avail:       30.11 GB / 31.35 GB (96.0%)\n",
            "Disk Space Avail:   19.50 GB / 19.52 GB (99.9%)\n",
            "===================================================\n",
            "Presets specified: ['best_quality']\n",
            "Setting dynamic_stacking from 'auto' to True. Reason: Enable dynamic_stacking when use_bag_holdout is disabled. (use_bag_holdout=False)\n",
            "Stack configuration (auto_stack=True): num_stack_levels=1, num_bag_folds=8, num_bag_sets=1\n",
            "DyStack is enabled (dynamic_stacking=True). AutoGluon will try to determine whether the input data is affected by stacked overfitting and enable or disable stacking as a consequence.\n",
            "\tThis is used to identify the optimal `num_stack_levels` value. Copies of AutoGluon will be fit on subsets of the data. Then holdout validation data is used to detect stacked overfitting.\n",
            "\tRunning DyStack for up to 30s of the 120s of remaining time (25%).\n",
            "\tRunning DyStack sub-fit in a ray process to avoid memory leakage. Enabling ray logging (enable_ray_logging=True). Specify `ds_args={'enable_ray_logging': False}` if you experience logging issues.\n",
            "2025-02-22 16:36:07,373\tINFO worker.py:1810 -- Started a local Ray instance. View the dashboard at \u001b[1m\u001b[32m127.0.0.1:8265 \u001b[39m\u001b[22m\n",
            "\t\tContext path: \"/kaggle/working/best_model/ds_sub_fit/sub_fit_ho\"\n",
            "\u001b[36m(_dystack pid=238)\u001b[0m Running DyStack sub-fit ...\n",
            "\u001b[36m(_dystack pid=238)\u001b[0m Beginning AutoGluon training ... Time limit = 26s\n",
            "\u001b[36m(_dystack pid=238)\u001b[0m AutoGluon will save models to \"/kaggle/working/best_model/ds_sub_fit/sub_fit_ho\"\n",
            "\u001b[36m(_dystack pid=238)\u001b[0m Train Data Rows:    58372\n",
            "\u001b[36m(_dystack pid=238)\u001b[0m Train Data Columns: 5\n",
            "\u001b[36m(_dystack pid=238)\u001b[0m Label Column:       label\n",
            "\u001b[36m(_dystack pid=238)\u001b[0m Problem Type:       multiclass\n",
            "\u001b[36m(_dystack pid=238)\u001b[0m Preprocessing data ...\n",
            "\u001b[36m(_dystack pid=238)\u001b[0m Train Data Class Count: 3\n",
            "\u001b[36m(_dystack pid=238)\u001b[0m Using Feature Generators to preprocess the data ...\n",
            "\u001b[36m(_dystack pid=238)\u001b[0m Fitting AutoMLPipelineFeatureGenerator...\n",
            "\u001b[36m(_dystack pid=238)\u001b[0m \tAvailable Memory:                    30342.41 MB\n",
            "\u001b[36m(_dystack pid=238)\u001b[0m \tTrain Data (Original)  Memory Usage: 2.23 MB (0.0% of available memory)\n",
            "\u001b[36m(_dystack pid=238)\u001b[0m \tInferring data type of each feature based on column values. Set feature_metadata_in to manually specify special dtypes of the features.\n",
            "\u001b[36m(_dystack pid=238)\u001b[0m \tStage 1 Generators:\n",
            "\u001b[36m(_dystack pid=238)\u001b[0m \t\tFitting AsTypeFeatureGenerator...\n",
            "\u001b[36m(_dystack pid=238)\u001b[0m \tStage 2 Generators:\n",
            "\u001b[36m(_dystack pid=238)\u001b[0m \t\tFitting FillNaFeatureGenerator...\n",
            "\u001b[36m(_dystack pid=238)\u001b[0m \tStage 3 Generators:\n",
            "\u001b[36m(_dystack pid=238)\u001b[0m \t\tFitting IdentityFeatureGenerator...\n",
            "\u001b[36m(_dystack pid=238)\u001b[0m \tStage 4 Generators:\n",
            "\u001b[36m(_dystack pid=238)\u001b[0m \t\tFitting DropUniqueFeatureGenerator...\n",
            "\u001b[36m(_dystack pid=238)\u001b[0m \tStage 5 Generators:\n",
            "\u001b[36m(_dystack pid=238)\u001b[0m \t\tFitting DropDuplicatesFeatureGenerator...\n",
            "\u001b[36m(_dystack pid=238)\u001b[0m \tTypes of features in original data (raw dtype, special dtypes):\n",
            "\u001b[36m(_dystack pid=238)\u001b[0m \t\t('float', []) : 5 | ['std_x', 'std_y', 'std_z', 'std_bvp', 'mean_temp']\n",
            "\u001b[36m(_dystack pid=238)\u001b[0m \tTypes of features in processed data (raw dtype, special dtypes):\n",
            "\u001b[36m(_dystack pid=238)\u001b[0m \t\t('float', []) : 5 | ['std_x', 'std_y', 'std_z', 'std_bvp', 'mean_temp']\n",
            "\u001b[36m(_dystack pid=238)\u001b[0m \t0.1s = Fit runtime\n",
            "\u001b[36m(_dystack pid=238)\u001b[0m \t5 features in original data used to generate 5 features in processed data.\n",
            "\u001b[36m(_dystack pid=238)\u001b[0m \tTrain Data (Processed) Memory Usage: 2.23 MB (0.0% of available memory)\n",
            "\u001b[36m(_dystack pid=238)\u001b[0m Data preprocessing and feature engineering runtime = 0.16s ...\n",
            "\u001b[36m(_dystack pid=238)\u001b[0m AutoGluon will gauge predictive performance using evaluation metric: 'accuracy'\n",
            "\u001b[36m(_dystack pid=238)\u001b[0m \tTo change this, specify the eval_metric parameter of Predictor()\n",
            "\u001b[36m(_dystack pid=238)\u001b[0m User-specified model hyperparameters to be fit:\n",
            "\u001b[36m(_dystack pid=238)\u001b[0m {\n",
            "\u001b[36m(_dystack pid=238)\u001b[0m \t'GBM': [{'ag_args_fit': {'num_gpus': 0}}, {'ag_args_fit': {'num_gpus': 1}}],\n",
            "\u001b[36m(_dystack pid=238)\u001b[0m \t'CAT': [{'ag_args_fit': {'num_gpus': 0}}, {'ag_args_fit': {'num_gpus': 1}}],\n",
            "\u001b[36m(_dystack pid=238)\u001b[0m \t'XGB': [{'ag_args_fit': {'num_gpus': 0}}, {'ag_args_fit': {'num_gpus': 1}}],\n",
            "\u001b[36m(_dystack pid=238)\u001b[0m }\n",
            "\u001b[36m(_dystack pid=238)\u001b[0m AutoGluon will fit 2 stack levels (L1 to L2) ...\n",
            "\u001b[36m(_dystack pid=238)\u001b[0m Fitting 6 L1 models, fit_strategy=\"sequential\" ...\n",
            "\u001b[36m(_dystack pid=238)\u001b[0m Fitting model: LightGBM_BAG_L1 ... Training model for up to 17.00s of the 25.50s of remaining time.\n",
            "\u001b[36m(_dystack pid=238)\u001b[0m \tFitting 8 child models (S1F1 - S1F8) | Fitting with ParallelLocalFoldFittingStrategy (4 workers, per: cpus=1, gpus=0, memory=0.06%)\n",
            "\u001b[36m(_ray_fit pid=448)\u001b[0m \tRan out of time, early stopping on iteration 344. Best iteration is:\n",
            "\u001b[36m(_ray_fit pid=448)\u001b[0m \t[337]\tvalid_set's multi_error: 0.268878\n",
            "\u001b[36m(_ray_fit pid=590)\u001b[0m \tRan out of time, early stopping on iteration 348. Best iteration is:\u001b[32m [repeated 4x across cluster] (Ray deduplicates logs by default. Set RAY_DEDUP_LOGS=0 to disable log deduplication, or see https://docs.ray.io/en/master/ray-observability/user-guides/configure-logging.html#log-deduplication for more options.)\u001b[0m\n",
            "\u001b[36m(_ray_fit pid=590)\u001b[0m \t[344]\tvalid_set's multi_error: 0.270285\u001b[32m [repeated 4x across cluster]\u001b[0m\n",
            "\u001b[36m(_dystack pid=238)\u001b[0m \t0.7341\t = Validation score   (accuracy)\n",
            "\u001b[36m(_dystack pid=238)\u001b[0m \t28.77s\t = Training   runtime\n",
            "\u001b[36m(_dystack pid=238)\u001b[0m \t8.08s\t = Validation runtime\n",
            "\u001b[36m(_dystack pid=238)\u001b[0m Fitting model: WeightedEnsemble_L2 ... Training model for up to 25.50s of the -8.05s of remaining time.\n",
            "\u001b[36m(_dystack pid=238)\u001b[0m \tEnsemble Weights: {'LightGBM_BAG_L1': 1.0}\n",
            "\u001b[36m(_dystack pid=238)\u001b[0m \t0.7341\t = Validation score   (accuracy)\n",
            "\u001b[36m(_dystack pid=238)\u001b[0m \t0.05s\t = Training   runtime\n",
            "\u001b[36m(_dystack pid=238)\u001b[0m \t0.02s\t = Validation runtime\n",
            "\u001b[36m(_dystack pid=238)\u001b[0m Fitting 6 L2 models, fit_strategy=\"sequential\" ...\n",
            "\u001b[36m(_dystack pid=238)\u001b[0m Fitting model: WeightedEnsemble_L3 ... Training model for up to 25.50s of the -8.19s of remaining time.\n",
            "\u001b[36m(_dystack pid=238)\u001b[0m \tEnsemble Weights: {'LightGBM_BAG_L1': 1.0}\n",
            "\u001b[36m(_dystack pid=238)\u001b[0m \t0.7341\t = Validation score   (accuracy)\n",
            "\u001b[36m(_dystack pid=238)\u001b[0m \t0.05s\t = Training   runtime\n",
            "\u001b[36m(_dystack pid=238)\u001b[0m \t0.02s\t = Validation runtime\n",
            "\u001b[36m(_dystack pid=238)\u001b[0m AutoGluon training complete, total runtime = 33.97s ... Best model: WeightedEnsemble_L2 | Estimated inference throughput: 902.8 rows/s (7297 batch size)\n",
            "\u001b[36m(_dystack pid=238)\u001b[0m TabularPredictor saved. To load, use: predictor = TabularPredictor.load(\"/kaggle/working/best_model/ds_sub_fit/sub_fit_ho\")\n",
            "\u001b[36m(_dystack pid=238)\u001b[0m Deleting DyStack predictor artifacts (clean_up_fits=True) ...\n",
            "\u001b[36m(_ray_fit pid=591)\u001b[0m \tRan out of time, early stopping on iteration 346. Best iteration is:\u001b[32m [repeated 3x across cluster]\u001b[0m\n",
            "\u001b[36m(_ray_fit pid=591)\u001b[0m \t[345]\tvalid_set's multi_error: 0.269189\u001b[32m [repeated 3x across cluster]\u001b[0m\n",
            "Leaderboard on holdout data (DyStack):\n",
            "                 model  score_holdout  score_val eval_metric  pred_time_test  pred_time_val   fit_time  pred_time_test_marginal  pred_time_val_marginal  fit_time_marginal  stack_level  can_infer  fit_order\n",
            "0      LightGBM_BAG_L1        0.73263   0.734085    accuracy        3.787064       8.080195  28.771157                 3.787064                8.080195          28.771157            1       True          1\n",
            "1  WeightedEnsemble_L3        0.73263   0.734085    accuracy        3.788998       8.103144  28.817127                 0.001934                0.022948           0.045970            3       True          3\n",
            "2  WeightedEnsemble_L2        0.73263   0.734085    accuracy        3.789966       8.103182  28.817332                 0.002903                0.022987           0.046175            2       True          2\n",
            "\t1\t = Optimal   num_stack_levels (Stacked Overfitting Occurred: False)\n",
            "\t44s\t = DyStack   runtime |\t76s\t = Remaining runtime\n",
            "Starting main fit with num_stack_levels=1.\n",
            "\tFor future fit calls on this dataset, you can skip DyStack to save time: `predictor.fit(..., dynamic_stacking=False, num_stack_levels=1)`\n",
            "Beginning AutoGluon training ... Time limit = 76s\n",
            "AutoGluon will save models to \"/kaggle/working/best_model\"\n",
            "Train Data Rows:    65669\n",
            "Train Data Columns: 5\n",
            "Label Column:       label\n",
            "Problem Type:       multiclass\n",
            "Preprocessing data ...\n",
            "Train Data Class Count: 3\n",
            "Using Feature Generators to preprocess the data ...\n",
            "Fitting AutoMLPipelineFeatureGenerator...\n",
            "\tAvailable Memory:                    30167.51 MB\n",
            "\tTrain Data (Original)  Memory Usage: 2.51 MB (0.0% of available memory)\n",
            "\tInferring data type of each feature based on column values. Set feature_metadata_in to manually specify special dtypes of the features.\n",
            "\tStage 1 Generators:\n",
            "\t\tFitting AsTypeFeatureGenerator...\n",
            "\tStage 2 Generators:\n",
            "\t\tFitting FillNaFeatureGenerator...\n",
            "\tStage 3 Generators:\n",
            "\t\tFitting IdentityFeatureGenerator...\n",
            "\tStage 4 Generators:\n",
            "\t\tFitting DropUniqueFeatureGenerator...\n",
            "\tStage 5 Generators:\n",
            "\t\tFitting DropDuplicatesFeatureGenerator...\n",
            "\tTypes of features in original data (raw dtype, special dtypes):\n",
            "\t\t('float', []) : 5 | ['std_x', 'std_y', 'std_z', 'std_bvp', 'mean_temp']\n",
            "\tTypes of features in processed data (raw dtype, special dtypes):\n",
            "\t\t('float', []) : 5 | ['std_x', 'std_y', 'std_z', 'std_bvp', 'mean_temp']\n",
            "\t0.1s = Fit runtime\n",
            "\t5 features in original data used to generate 5 features in processed data.\n",
            "\tTrain Data (Processed) Memory Usage: 2.51 MB (0.0% of available memory)\n",
            "Data preprocessing and feature engineering runtime = 0.21s ...\n",
            "AutoGluon will gauge predictive performance using evaluation metric: 'accuracy'\n",
            "\tTo change this, specify the eval_metric parameter of Predictor()\n",
            "User-specified model hyperparameters to be fit:\n",
            "{\n",
            "\t'GBM': [{'ag_args_fit': {'num_gpus': 0}}, {'ag_args_fit': {'num_gpus': 1}}],\n",
            "\t'CAT': [{'ag_args_fit': {'num_gpus': 0}}, {'ag_args_fit': {'num_gpus': 1}}],\n",
            "\t'XGB': [{'ag_args_fit': {'num_gpus': 0}}, {'ag_args_fit': {'num_gpus': 1}}],\n",
            "}\n",
            "AutoGluon will fit 2 stack levels (L1 to L2) ...\n",
            "Fitting 6 L1 models, fit_strategy=\"sequential\" ...\n",
            "Fitting model: LightGBM_BAG_L1 ... Training model for up to 50.45s of the 75.69s of remaining time.\n",
            "\tFitting 8 child models (S1F1 - S1F8) | Fitting with ParallelLocalFoldFittingStrategy (4 workers, per: cpus=1, gpus=0, memory=0.06%)\n",
            "\t0.7499\t = Validation score   (accuracy)\n",
            "\t57.09s\t = Training   runtime\n",
            "\t30.1s\t = Validation runtime\n",
            "Fitting model: WeightedEnsemble_L2 ... Training model for up to 75.69s of the 10.61s of remaining time.\n",
            "\tEnsemble Weights: {'LightGBM_BAG_L1': 1.0}\n",
            "\t0.7499\t = Validation score   (accuracy)\n",
            "\t0.02s\t = Training   runtime\n",
            "\t0.01s\t = Validation runtime\n",
            "Fitting 6 L2 models, fit_strategy=\"sequential\" ...\n",
            "Fitting model: LightGBM_BAG_L2 ... Training model for up to 10.56s of the 10.55s of remaining time.\n",
            "\tFitting 8 child models (S1F1 - S1F8) | Fitting with ParallelLocalFoldFittingStrategy (4 workers, per: cpus=1, gpus=0, memory=0.08%)\n",
            "\t0.7549\t = Validation score   (accuracy)\n",
            "\t17.15s\t = Training   runtime\n",
            "\t1.19s\t = Validation runtime\n",
            "Fitting model: WeightedEnsemble_L3 ... Training model for up to 75.69s of the -10.49s of remaining time.\n",
            "\tEnsemble Weights: {'LightGBM_BAG_L2': 1.0}\n",
            "\t0.7549\t = Validation score   (accuracy)\n",
            "\t0.55s\t = Training   runtime\n",
            "\t0.01s\t = Validation runtime\n",
            "AutoGluon training complete, total runtime = 87.0s ... Best model: WeightedEnsemble_L3 | Estimated inference throughput: 262.4 rows/s (8209 batch size)\n",
            "TabularPredictor saved. To load, use: predictor = TabularPredictor.load(\"/kaggle/working/best_model\")\n"
          ]
        },
        {
          "name": "stdout",
          "output_type": "stream",
          "text": [
            "Finish!\n"
          ]
        }
      ],
      "source": [
        "predictor = TabularPredictor(label='label',\n",
        "                            problem_type='multiclass',\n",
        "                            path=save_path,\n",
        "                            ).fit(\n",
        "                                df_train_ok,\n",
        "                                presets='best_quality',\n",
        "                                hyperparameters=hyperparameters,\n",
        "                                time_limit=time_limit\n",
        "                            )\n",
        "print(\"Finish!\")"
      ]
    },
    {
      "cell_type": "code",
      "execution_count": null,
      "id": "f42555cf",
      "metadata": {
        "execution": {
          "iopub.execute_input": "2025-02-22T16:38:16.221252Z",
          "iopub.status.busy": "2025-02-22T16:38:16.220097Z",
          "iopub.status.idle": "2025-02-22T16:38:16.243036Z",
          "shell.execute_reply": "2025-02-22T16:38:16.241925Z"
        },
        "papermill": {
          "duration": 0.046616,
          "end_time": "2025-02-22T16:38:16.244950",
          "exception": false,
          "start_time": "2025-02-22T16:38:16.198334",
          "status": "completed"
        },
        "tags": [],
        "id": "f42555cf",
        "outputId": "a63d9a5d-8017-477a-e529-6a5682f781eb"
      },
      "outputs": [
        {
          "data": {
            "text/html": [
              "<div>\n",
              "<style scoped>\n",
              "    .dataframe tbody tr th:only-of-type {\n",
              "        vertical-align: middle;\n",
              "    }\n",
              "\n",
              "    .dataframe tbody tr th {\n",
              "        vertical-align: top;\n",
              "    }\n",
              "\n",
              "    .dataframe thead th {\n",
              "        text-align: right;\n",
              "    }\n",
              "</style>\n",
              "<table border=\"1\" class=\"dataframe\">\n",
              "  <thead>\n",
              "    <tr style=\"text-align: right;\">\n",
              "      <th></th>\n",
              "      <th>model</th>\n",
              "      <th>score_val</th>\n",
              "      <th>eval_metric</th>\n",
              "      <th>pred_time_val</th>\n",
              "      <th>fit_time</th>\n",
              "      <th>pred_time_val_marginal</th>\n",
              "      <th>fit_time_marginal</th>\n",
              "      <th>stack_level</th>\n",
              "      <th>can_infer</th>\n",
              "      <th>fit_order</th>\n",
              "    </tr>\n",
              "  </thead>\n",
              "  <tbody>\n",
              "    <tr>\n",
              "      <th>0</th>\n",
              "      <td>LightGBM_BAG_L2</td>\n",
              "      <td>0.754877</td>\n",
              "      <td>accuracy</td>\n",
              "      <td>31.288644</td>\n",
              "      <td>74.240911</td>\n",
              "      <td>1.188528</td>\n",
              "      <td>17.153713</td>\n",
              "      <td>2</td>\n",
              "      <td>True</td>\n",
              "      <td>3</td>\n",
              "    </tr>\n",
              "    <tr>\n",
              "      <th>1</th>\n",
              "      <td>WeightedEnsemble_L3</td>\n",
              "      <td>0.754877</td>\n",
              "      <td>accuracy</td>\n",
              "      <td>31.300743</td>\n",
              "      <td>74.794848</td>\n",
              "      <td>0.012099</td>\n",
              "      <td>0.553937</td>\n",
              "      <td>3</td>\n",
              "      <td>True</td>\n",
              "      <td>4</td>\n",
              "    </tr>\n",
              "    <tr>\n",
              "      <th>2</th>\n",
              "      <td>LightGBM_BAG_L1</td>\n",
              "      <td>0.749928</td>\n",
              "      <td>accuracy</td>\n",
              "      <td>30.100116</td>\n",
              "      <td>57.087198</td>\n",
              "      <td>30.100116</td>\n",
              "      <td>57.087198</td>\n",
              "      <td>1</td>\n",
              "      <td>True</td>\n",
              "      <td>1</td>\n",
              "    </tr>\n",
              "    <tr>\n",
              "      <th>3</th>\n",
              "      <td>WeightedEnsemble_L2</td>\n",
              "      <td>0.749928</td>\n",
              "      <td>accuracy</td>\n",
              "      <td>30.110640</td>\n",
              "      <td>57.102932</td>\n",
              "      <td>0.010524</td>\n",
              "      <td>0.015734</td>\n",
              "      <td>2</td>\n",
              "      <td>True</td>\n",
              "      <td>2</td>\n",
              "    </tr>\n",
              "  </tbody>\n",
              "</table>\n",
              "</div>"
            ],
            "text/plain": [
              "                 model  score_val eval_metric  pred_time_val   fit_time  \\\n",
              "0      LightGBM_BAG_L2   0.754877    accuracy      31.288644  74.240911   \n",
              "1  WeightedEnsemble_L3   0.754877    accuracy      31.300743  74.794848   \n",
              "2      LightGBM_BAG_L1   0.749928    accuracy      30.100116  57.087198   \n",
              "3  WeightedEnsemble_L2   0.749928    accuracy      30.110640  57.102932   \n",
              "\n",
              "   pred_time_val_marginal  fit_time_marginal  stack_level  can_infer  \\\n",
              "0                1.188528          17.153713            2       True   \n",
              "1                0.012099           0.553937            3       True   \n",
              "2               30.100116          57.087198            1       True   \n",
              "3                0.010524           0.015734            2       True   \n",
              "\n",
              "   fit_order  \n",
              "0          3  \n",
              "1          4  \n",
              "2          1  \n",
              "3          2  "
            ]
          },
          "execution_count": 22,
          "metadata": {},
          "output_type": "execute_result"
        }
      ],
      "source": [
        "predictor.leaderboard()"
      ]
    },
    {
      "cell_type": "code",
      "execution_count": null,
      "id": "61df6ae9",
      "metadata": {
        "execution": {
          "iopub.execute_input": "2025-02-22T16:38:16.288433Z",
          "iopub.status.busy": "2025-02-22T16:38:16.287953Z",
          "iopub.status.idle": "2025-02-22T16:38:16.313675Z",
          "shell.execute_reply": "2025-02-22T16:38:16.312719Z"
        },
        "papermill": {
          "duration": 0.047047,
          "end_time": "2025-02-22T16:38:16.315591",
          "exception": false,
          "start_time": "2025-02-22T16:38:16.268544",
          "status": "completed"
        },
        "tags": [],
        "id": "61df6ae9"
      },
      "outputs": [],
      "source": [
        "sample_submission = pd.read_csv(\"/kaggle/input/io-t-sleep-stage-classification-version-2/sample_submission.csv\")"
      ]
    },
    {
      "cell_type": "code",
      "execution_count": null,
      "id": "7c5a1f7a",
      "metadata": {
        "execution": {
          "iopub.execute_input": "2025-02-22T16:38:16.363142Z",
          "iopub.status.busy": "2025-02-22T16:38:16.362811Z",
          "iopub.status.idle": "2025-02-22T16:38:22.739741Z",
          "shell.execute_reply": "2025-02-22T16:38:22.738836Z"
        },
        "papermill": {
          "duration": 6.399154,
          "end_time": "2025-02-22T16:38:22.742217",
          "exception": false,
          "start_time": "2025-02-22T16:38:16.343063",
          "status": "completed"
        },
        "tags": [],
        "id": "7c5a1f7a"
      },
      "outputs": [],
      "source": [
        "y_pred = predictor.predict(df_test_ok)"
      ]
    },
    {
      "cell_type": "code",
      "execution_count": null,
      "id": "d41ee075",
      "metadata": {
        "execution": {
          "iopub.execute_input": "2025-02-22T16:38:22.784782Z",
          "iopub.status.busy": "2025-02-22T16:38:22.783998Z",
          "iopub.status.idle": "2025-02-22T16:38:22.792478Z",
          "shell.execute_reply": "2025-02-22T16:38:22.791575Z"
        },
        "papermill": {
          "duration": 0.028728,
          "end_time": "2025-02-22T16:38:22.793831",
          "exception": false,
          "start_time": "2025-02-22T16:38:22.765103",
          "status": "completed"
        },
        "tags": [],
        "id": "d41ee075",
        "outputId": "b1196489-ce2e-499e-bf24-0b3cd54118e0"
      },
      "outputs": [
        {
          "data": {
            "text/plain": [
              "labels\n",
              "N    5877\n",
              "W     942\n",
              "R     191\n",
              "Name: count, dtype: int64"
            ]
          },
          "execution_count": 25,
          "metadata": {},
          "output_type": "execute_result"
        }
      ],
      "source": [
        "sample_submission['labels'] = y_pred\n",
        "sample_submission['labels'].value_counts()"
      ]
    },
    {
      "cell_type": "code",
      "execution_count": null,
      "id": "9f85e089",
      "metadata": {
        "execution": {
          "iopub.execute_input": "2025-02-22T16:38:22.830778Z",
          "iopub.status.busy": "2025-02-22T16:38:22.830533Z",
          "iopub.status.idle": "2025-02-22T16:38:22.849239Z",
          "shell.execute_reply": "2025-02-22T16:38:22.848426Z"
        },
        "papermill": {
          "duration": 0.038494,
          "end_time": "2025-02-22T16:38:22.850768",
          "exception": false,
          "start_time": "2025-02-22T16:38:22.812274",
          "status": "completed"
        },
        "tags": [],
        "id": "9f85e089",
        "outputId": "b4708537-875d-4cc8-aa6d-5cd160faf72e"
      },
      "outputs": [
        {
          "data": {
            "text/plain": [
              "labels\n",
              "N    5877\n",
              "W     942\n",
              "R     191\n",
              "Name: count, dtype: int64"
            ]
          },
          "execution_count": 26,
          "metadata": {},
          "output_type": "execute_result"
        }
      ],
      "source": [
        "sample_submission.to_csv(\"std_x_y_z_TEMP_BVP_acc_2mins_version3.csv\", index=False)\n",
        "sample_submission['labels'].value_counts()"
      ]
    },
    {
      "cell_type": "code",
      "execution_count": null,
      "id": "8a03e895",
      "metadata": {
        "papermill": {
          "duration": 0.018344,
          "end_time": "2025-02-22T16:38:22.888274",
          "exception": false,
          "start_time": "2025-02-22T16:38:22.869930",
          "status": "completed"
        },
        "tags": [],
        "id": "8a03e895"
      },
      "outputs": [],
      "source": []
    }
  ],
  "metadata": {
    "kaggle": {
      "accelerator": "nvidiaTeslaT4",
      "dataSources": [
        {
          "databundleVersionId": 11176101,
          "isSourceIdPinned": false,
          "sourceId": 93889,
          "sourceType": "competition"
        }
      ],
      "dockerImageVersionId": 30919,
      "isGpuEnabled": true,
      "isInternetEnabled": true,
      "language": "python",
      "sourceType": "notebook"
    },
    "kernelspec": {
      "display_name": "Python 3",
      "language": "python",
      "name": "python3"
    },
    "language_info": {
      "codemirror_mode": {
        "name": "ipython",
        "version": 3
      },
      "file_extension": ".py",
      "mimetype": "text/x-python",
      "name": "python",
      "nbconvert_exporter": "python",
      "pygments_lexer": "ipython3",
      "version": "3.10.12"
    },
    "papermill": {
      "default_parameters": {},
      "duration": 359.516584,
      "end_time": "2025-02-22T16:38:25.525438",
      "environment_variables": {},
      "exception": null,
      "input_path": "__notebook__.ipynb",
      "output_path": "__notebook__.ipynb",
      "parameters": {},
      "start_time": "2025-02-22T16:32:26.008854",
      "version": "2.6.0"
    },
    "colab": {
      "provenance": [],
      "toc_visible": true
    }
  },
  "nbformat": 4,
  "nbformat_minor": 5
}
