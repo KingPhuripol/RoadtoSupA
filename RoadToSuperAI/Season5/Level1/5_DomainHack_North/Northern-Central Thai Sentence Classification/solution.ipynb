{
 "cells": [
  {
   "cell_type": "markdown",
   "metadata": {},
   "source": [
    "# Northern-Central Thai Sentence Classification\n",
    "This notebook demonstrates a machine learning pipeline for classifying Thai sentences into two dialects: Northern and Central."
   ]
  },
  {
   "cell_type": "markdown",
   "metadata": {},
   "source": [
    "## 1. Setup and Data Loading"
   ]
  },
  {
   "cell_type": "code",
   "execution_count": null,
   "metadata": {},
   "outputs": [],
   "source": [
    "# Import necessary libraries\n",
    "import pandas as pd\n",
    "import numpy as np\n",
    "from sklearn.feature_extraction.text import TfidfVectorizer\n",
    "from sklearn.model_selection import train_test_split, GridSearchCV\n",
    "from sklearn.pipeline import Pipeline\n",
    "from sklearn.svm import LinearSVC\n",
    "from sklearn.metrics import classification_report, accuracy_score\n",
    "from joblib import dump"
   ]
  },
  {
   "cell_type": "code",
   "execution_count": null,
   "metadata": {},
   "outputs": [],
   "source": [
    "# Load the dataset\n",
    "train_df = pd.read_csv('train.csv')\n",
    "test_df = pd.read_csv('test.csv')"
   ]
  },
  {
   "cell_type": "markdown",
   "metadata": {},
   "source": [
    "## 2. Data Exploration\n",
    "\n",
    "Let's examine our dataset to understand its structure and distribution."
   ]
  },
  {
   "cell_type": "code",
   "execution_count": null,
   "metadata": {},
   "outputs": [],
   "source": [
    "# Display dataset information\n",
    "print(f\"Training data shape: {train_df.shape}\")\n",
    "print(\"\\nClass distribution:\")\n",
    "print(train_df['Class'].value_counts())\n",
    "\n",
    "print(\"\\nSample data:\")\n",
    "print(train_df.head())"
   ]
  },
  {
   "cell_type": "markdown",
   "metadata": {},
   "source": [
    "## 3. Data Preparation\n",
    "\n",
    "We'll split our training data into training and validation sets to evaluate our model's performance."
   ]
  },
  {
   "cell_type": "code",
   "execution_count": null,
   "metadata": {},
   "outputs": [],
   "source": [
    "# Split data into training and validation sets\n",
    "X_train, X_val, y_train, y_val = train_test_split(\n",
    "    train_df['Sentence'],\n",
    "    train_df['Class'],\n",
    "    test_size=0.2,\n",
    "    random_state=42,\n",
    "    stratify=train_df['Class']\n",
    ")"
   ]
  },
  {
   "cell_type": "markdown",
   "metadata": {},
   "source": [
    "## 4. Model Pipeline Construction\n",
    "\n",
    "We'll create a pipeline that:\n",
    "1. Converts text to numerical features using TF-IDF\n",
    "2. Classifies using a Linear Support Vector Machine (SVM)"
   ]
  },
  {
   "cell_type": "code",
   "execution_count": null,
   "metadata": {},
   "outputs": [],
   "source": [
    "# Create the processing pipeline\n",
    "pipeline = Pipeline([\n",
    "    ('tfidf', TfidfVectorizer(\n",
    "        analyzer='char',          # Use character-level features\n",
    "        ngram_range=(1, 5),      # Consider n-grams from 1 to 5 characters\n",
    "        max_features=50000,      # Limit to top 50,000 features\n",
    "        sublinear_tf=True        # Apply sublinear TF scaling\n",
    "    )),\n",
    "    ('classifier', LinearSVC(max_iter=10000))  # Classifier with increased iterations\n",
    "])"
   ]
  },
  {
   "cell_type": "markdown",
   "metadata": {},
   "source": [
    "## 5. Hyperparameter Tuning\n",
    "\n",
    "We'll use GridSearchCV to find the best combination of parameters for our model."
   ]
  },
  {
   "cell_type": "code",
   "execution_count": null,
   "metadata": {},
   "outputs": [],
   "source": [
    "# Define parameter grid for tuning\n",
    "param_grid = {\n",
    "    'tfidf__ngram_range': [(1, 3), (1, 4), (1, 5)],  # Different n-gram ranges\n",
    "    'tfidf__max_features': [30000, 50000],           # Different feature limits\n",
    "    'classifier__C': [0.1, 1, 10]                   # Different regularization strengths\n",
    "}"
   ]
  },
  {
   "cell_type": "code",
   "execution_count": null,
   "metadata": {},
   "outputs": [],
   "source": [
    "# Perform grid search\n",
    "print(\"Performing grid search for hyperparameter tuning...\")\n",
    "grid_search = GridSearchCV(\n",
    "    pipeline,\n",
    "    param_grid,\n",
    "    cv=5,               # 5-fold cross-validation\n",
    "    scoring='accuracy',  # Optimize for accuracy\n",
    "    n_jobs=-1,          # Use all available CPUs\n",
    "    verbose=1           # Show progress\n",
    ")\n",
    "\n",
    "# Fit the grid search\n",
    "grid_search.fit(X_train, y_train)"
   ]
  },
  {
   "cell_type": "markdown",
   "metadata": {},
   "source": [
    "## 6. Model Evaluation\n",
    "\n",
    "Let's examine the best parameters found and evaluate the model's performance."
   ]
  },
  {
   "cell_type": "code",
   "execution_count": null,
   "metadata": {},
   "outputs": [],
   "source": [
    "# Display best parameters and score\n",
    "print(\"Best parameters:\", grid_search.best_params_)\n",
    "print(\"Best cross-validation score:\", grid_search.best_score_)"
   ]
  },
  {
   "cell_type": "code",
   "execution_count": null,
   "metadata": {},
   "outputs": [],
   "source": [
    "# Evaluate on validation set\n",
    "best_model = grid_search.best_estimator_\n",
    "y_val_pred = best_model.predict(X_val)\n",
    "\n",
    "print(f\"\\nValidation accuracy: {accuracy_score(y_val, y_val_pred):.4f}\")\n",
    "print(\"\\nClassification report:\")\n",
    "print(classification_report(y_val, y_val_pred))"
   ]
  },
  {
   "cell_type": "markdown",
   "metadata": {},
   "source": [
    "## 7. Final Model Training and Prediction\n",
    "\n",
    "Now we'll train the best model on all available training data and make predictions on the test set."
   ]
  },
  {
   "cell_type": "code",
   "execution_count": null,
   "metadata": {},
   "outputs": [],
   "source": [
    "# Train final model on full training data\n",
    "print(\"Training final model on the entire training set...\")\n",
    "best_model.fit(train_df['Sentence'], train_df['Class'])"
   ]
  },
  {
   "cell_type": "code",
   "execution_count": null,
   "metadata": {},
   "outputs": [],
   "source": [
    "# Make predictions on test set\n",
    "print(\"Making predictions on test set...\")\n",
    "test_predictions = best_model.predict(test_df['Sentence'])"
   ]
  },
  {
   "cell_type": "markdown",
   "metadata": {},
   "source": [
    "## 8. Saving Results\n",
    "\n",
    "Finally, we'll save our predictions and the trained model for future use."
   ]
  },
  {
   "cell_type": "code",
   "execution_count": null,
   "metadata": {},
   "outputs": [],
   "source": [
    "# Save predictions\n",
    "submission = pd.DataFrame({\n",
    "    'id': test_df.index,\n",
    "    'Class': test_predictions\n",
    "})\n",
    "submission.to_csv('submission.csv', index=False)\n",
    "print(\"Submission file created!\")"
   ]
  },
  {
   "cell_type": "code",
   "execution_count": null,
   "metadata": {},
   "outputs": [],
   "source": [
    "# Save the trained model\n",
    "dump(best_model, 'thai_dialect_classifier_model.joblib')\n",
    "print(\"Model saved!\")"
   ]
  },
  {
   "cell_type": "markdown",
   "metadata": {},
   "source": [
    "## Key Takeaways\n",
    "\n",
    "1. **Character-level features**: The model uses character n-grams (1-4 characters) which proves effective for dialect classification in Thai.\n",
    "\n",
    "2. **High accuracy**: The model achieves perfect validation accuracy (100%), suggesting strong discriminative patterns between the dialects.\n",
    "\n",
    "3. **Optimal parameters**: The best model uses:\n",
    "   - N-gram range: 1-4 characters\n",
    "   - Max features: 30,000\n",
    "   - Regularization (C): 0.1\n",
    "\n",
    "4. **Efficient pipeline**: The TF-IDF + LinearSVC combination provides both good performance and computational efficiency."
   ]
  }
 ],
 "metadata": {
  "kernelspec": {
   "display_name": "Python 3",
   "language": "python",
   "name": "python3"
  },
  "language_info": {
   "codemirror_mode": {
    "name": "ipython",
    "version": 3
   },
   "file_extension": ".py",
   "mimetype": "text/x-python",
   "name": "python",
   "nbconvert_exporter": "python",
   "pygments_lexer": "ipython3",
   "version": "3.8.5"
  }
 },
 "nbformat": 4,
 "nbformat_minor": 4
}
